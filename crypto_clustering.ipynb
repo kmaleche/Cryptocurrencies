{
 "cells": [
  {
   "cell_type": "markdown",
   "source": [
    "# Clustering Crypto"
   ],
   "metadata": {}
  },
  {
   "cell_type": "code",
   "execution_count": 24,
   "source": [
    "# Initial imports\n",
    "import pandas as pd\n",
    "import hvplot.pandas\n",
    "from path import Path\n",
    "import plotly.express as px\n",
    "from sklearn.preprocessing import StandardScaler, MinMaxScaler\n",
    "from sklearn.decomposition import PCA\n",
    "from sklearn.cluster import KMeans\n"
   ],
   "outputs": [],
   "metadata": {}
  },
  {
   "cell_type": "markdown",
   "source": [
    "### Deliverable 1: Preprocessing the Data for PCA"
   ],
   "metadata": {}
  },
  {
   "cell_type": "code",
   "execution_count": 25,
   "source": [
    "# Load the crypto_data.csv dataset.\n",
    "file_path = 'crypto_data.csv'\n",
    "crypto_df = pd.read_csv(file_path, index_col=0)\n",
    "crypto_df.head()"
   ],
   "outputs": [
    {
     "output_type": "execute_result",
     "data": {
      "text/html": [
       "<div>\n",
       "<style scoped>\n",
       "    .dataframe tbody tr th:only-of-type {\n",
       "        vertical-align: middle;\n",
       "    }\n",
       "\n",
       "    .dataframe tbody tr th {\n",
       "        vertical-align: top;\n",
       "    }\n",
       "\n",
       "    .dataframe thead th {\n",
       "        text-align: right;\n",
       "    }\n",
       "</style>\n",
       "<table border=\"1\" class=\"dataframe\">\n",
       "  <thead>\n",
       "    <tr style=\"text-align: right;\">\n",
       "      <th></th>\n",
       "      <th>CoinName</th>\n",
       "      <th>Algorithm</th>\n",
       "      <th>IsTrading</th>\n",
       "      <th>ProofType</th>\n",
       "      <th>TotalCoinsMined</th>\n",
       "      <th>TotalCoinSupply</th>\n",
       "    </tr>\n",
       "  </thead>\n",
       "  <tbody>\n",
       "    <tr>\n",
       "      <th>42</th>\n",
       "      <td>42 Coin</td>\n",
       "      <td>Scrypt</td>\n",
       "      <td>True</td>\n",
       "      <td>PoW/PoS</td>\n",
       "      <td>4.199995e+01</td>\n",
       "      <td>42</td>\n",
       "    </tr>\n",
       "    <tr>\n",
       "      <th>365</th>\n",
       "      <td>365Coin</td>\n",
       "      <td>X11</td>\n",
       "      <td>True</td>\n",
       "      <td>PoW/PoS</td>\n",
       "      <td>NaN</td>\n",
       "      <td>2300000000</td>\n",
       "    </tr>\n",
       "    <tr>\n",
       "      <th>404</th>\n",
       "      <td>404Coin</td>\n",
       "      <td>Scrypt</td>\n",
       "      <td>True</td>\n",
       "      <td>PoW/PoS</td>\n",
       "      <td>1.055185e+09</td>\n",
       "      <td>532000000</td>\n",
       "    </tr>\n",
       "    <tr>\n",
       "      <th>611</th>\n",
       "      <td>SixEleven</td>\n",
       "      <td>SHA-256</td>\n",
       "      <td>True</td>\n",
       "      <td>PoW</td>\n",
       "      <td>NaN</td>\n",
       "      <td>611000</td>\n",
       "    </tr>\n",
       "    <tr>\n",
       "      <th>808</th>\n",
       "      <td>808</td>\n",
       "      <td>SHA-256</td>\n",
       "      <td>True</td>\n",
       "      <td>PoW/PoS</td>\n",
       "      <td>0.000000e+00</td>\n",
       "      <td>0</td>\n",
       "    </tr>\n",
       "  </tbody>\n",
       "</table>\n",
       "</div>"
      ],
      "text/plain": [
       "      CoinName Algorithm  IsTrading ProofType  TotalCoinsMined TotalCoinSupply\n",
       "42     42 Coin    Scrypt       True   PoW/PoS     4.199995e+01              42\n",
       "365    365Coin       X11       True   PoW/PoS              NaN      2300000000\n",
       "404    404Coin    Scrypt       True   PoW/PoS     1.055185e+09       532000000\n",
       "611  SixEleven   SHA-256       True       PoW              NaN          611000\n",
       "808        808   SHA-256       True   PoW/PoS     0.000000e+00               0"
      ]
     },
     "metadata": {},
     "execution_count": 25
    }
   ],
   "metadata": {}
  },
  {
   "cell_type": "code",
   "execution_count": 26,
   "source": [
    "# Keep all the cryptocurrencies that are being traded.\n",
    "crypto_df = crypto_df[crypto_df['IsTrading']==True]\n",
    "print(crypto_df.shape)\n",
    "crypto_df.head()"
   ],
   "outputs": [
    {
     "output_type": "stream",
     "name": "stdout",
     "text": [
      "(1144, 6)\n"
     ]
    },
    {
     "output_type": "execute_result",
     "data": {
      "text/html": [
       "<div>\n",
       "<style scoped>\n",
       "    .dataframe tbody tr th:only-of-type {\n",
       "        vertical-align: middle;\n",
       "    }\n",
       "\n",
       "    .dataframe tbody tr th {\n",
       "        vertical-align: top;\n",
       "    }\n",
       "\n",
       "    .dataframe thead th {\n",
       "        text-align: right;\n",
       "    }\n",
       "</style>\n",
       "<table border=\"1\" class=\"dataframe\">\n",
       "  <thead>\n",
       "    <tr style=\"text-align: right;\">\n",
       "      <th></th>\n",
       "      <th>CoinName</th>\n",
       "      <th>Algorithm</th>\n",
       "      <th>IsTrading</th>\n",
       "      <th>ProofType</th>\n",
       "      <th>TotalCoinsMined</th>\n",
       "      <th>TotalCoinSupply</th>\n",
       "    </tr>\n",
       "  </thead>\n",
       "  <tbody>\n",
       "    <tr>\n",
       "      <th>42</th>\n",
       "      <td>42 Coin</td>\n",
       "      <td>Scrypt</td>\n",
       "      <td>True</td>\n",
       "      <td>PoW/PoS</td>\n",
       "      <td>4.199995e+01</td>\n",
       "      <td>42</td>\n",
       "    </tr>\n",
       "    <tr>\n",
       "      <th>365</th>\n",
       "      <td>365Coin</td>\n",
       "      <td>X11</td>\n",
       "      <td>True</td>\n",
       "      <td>PoW/PoS</td>\n",
       "      <td>NaN</td>\n",
       "      <td>2300000000</td>\n",
       "    </tr>\n",
       "    <tr>\n",
       "      <th>404</th>\n",
       "      <td>404Coin</td>\n",
       "      <td>Scrypt</td>\n",
       "      <td>True</td>\n",
       "      <td>PoW/PoS</td>\n",
       "      <td>1.055185e+09</td>\n",
       "      <td>532000000</td>\n",
       "    </tr>\n",
       "    <tr>\n",
       "      <th>611</th>\n",
       "      <td>SixEleven</td>\n",
       "      <td>SHA-256</td>\n",
       "      <td>True</td>\n",
       "      <td>PoW</td>\n",
       "      <td>NaN</td>\n",
       "      <td>611000</td>\n",
       "    </tr>\n",
       "    <tr>\n",
       "      <th>808</th>\n",
       "      <td>808</td>\n",
       "      <td>SHA-256</td>\n",
       "      <td>True</td>\n",
       "      <td>PoW/PoS</td>\n",
       "      <td>0.000000e+00</td>\n",
       "      <td>0</td>\n",
       "    </tr>\n",
       "  </tbody>\n",
       "</table>\n",
       "</div>"
      ],
      "text/plain": [
       "      CoinName Algorithm  IsTrading ProofType  TotalCoinsMined TotalCoinSupply\n",
       "42     42 Coin    Scrypt       True   PoW/PoS     4.199995e+01              42\n",
       "365    365Coin       X11       True   PoW/PoS              NaN      2300000000\n",
       "404    404Coin    Scrypt       True   PoW/PoS     1.055185e+09       532000000\n",
       "611  SixEleven   SHA-256       True       PoW              NaN          611000\n",
       "808        808   SHA-256       True   PoW/PoS     0.000000e+00               0"
      ]
     },
     "metadata": {},
     "execution_count": 26
    }
   ],
   "metadata": {}
  },
  {
   "cell_type": "code",
   "execution_count": 27,
   "source": [
    "# Keep all the cryptocurrencies that have a working algorithm.\n",
    "# YOUR CODE HERE"
   ],
   "outputs": [],
   "metadata": {}
  },
  {
   "cell_type": "code",
   "execution_count": 28,
   "source": [
    "# Remove the \"IsTrading\" column. \n",
    "crypto_df.drop(columns='IsTrading', inplace=True)\n",
    "print(crypto_df.shape)\n",
    "crypto_df.head()"
   ],
   "outputs": [
    {
     "output_type": "stream",
     "name": "stdout",
     "text": [
      "(1144, 5)\n"
     ]
    },
    {
     "output_type": "execute_result",
     "data": {
      "text/html": [
       "<div>\n",
       "<style scoped>\n",
       "    .dataframe tbody tr th:only-of-type {\n",
       "        vertical-align: middle;\n",
       "    }\n",
       "\n",
       "    .dataframe tbody tr th {\n",
       "        vertical-align: top;\n",
       "    }\n",
       "\n",
       "    .dataframe thead th {\n",
       "        text-align: right;\n",
       "    }\n",
       "</style>\n",
       "<table border=\"1\" class=\"dataframe\">\n",
       "  <thead>\n",
       "    <tr style=\"text-align: right;\">\n",
       "      <th></th>\n",
       "      <th>CoinName</th>\n",
       "      <th>Algorithm</th>\n",
       "      <th>ProofType</th>\n",
       "      <th>TotalCoinsMined</th>\n",
       "      <th>TotalCoinSupply</th>\n",
       "    </tr>\n",
       "  </thead>\n",
       "  <tbody>\n",
       "    <tr>\n",
       "      <th>42</th>\n",
       "      <td>42 Coin</td>\n",
       "      <td>Scrypt</td>\n",
       "      <td>PoW/PoS</td>\n",
       "      <td>4.199995e+01</td>\n",
       "      <td>42</td>\n",
       "    </tr>\n",
       "    <tr>\n",
       "      <th>365</th>\n",
       "      <td>365Coin</td>\n",
       "      <td>X11</td>\n",
       "      <td>PoW/PoS</td>\n",
       "      <td>NaN</td>\n",
       "      <td>2300000000</td>\n",
       "    </tr>\n",
       "    <tr>\n",
       "      <th>404</th>\n",
       "      <td>404Coin</td>\n",
       "      <td>Scrypt</td>\n",
       "      <td>PoW/PoS</td>\n",
       "      <td>1.055185e+09</td>\n",
       "      <td>532000000</td>\n",
       "    </tr>\n",
       "    <tr>\n",
       "      <th>611</th>\n",
       "      <td>SixEleven</td>\n",
       "      <td>SHA-256</td>\n",
       "      <td>PoW</td>\n",
       "      <td>NaN</td>\n",
       "      <td>611000</td>\n",
       "    </tr>\n",
       "    <tr>\n",
       "      <th>808</th>\n",
       "      <td>808</td>\n",
       "      <td>SHA-256</td>\n",
       "      <td>PoW/PoS</td>\n",
       "      <td>0.000000e+00</td>\n",
       "      <td>0</td>\n",
       "    </tr>\n",
       "  </tbody>\n",
       "</table>\n",
       "</div>"
      ],
      "text/plain": [
       "      CoinName Algorithm ProofType  TotalCoinsMined TotalCoinSupply\n",
       "42     42 Coin    Scrypt   PoW/PoS     4.199995e+01              42\n",
       "365    365Coin       X11   PoW/PoS              NaN      2300000000\n",
       "404    404Coin    Scrypt   PoW/PoS     1.055185e+09       532000000\n",
       "611  SixEleven   SHA-256       PoW              NaN          611000\n",
       "808        808   SHA-256   PoW/PoS     0.000000e+00               0"
      ]
     },
     "metadata": {},
     "execution_count": 28
    }
   ],
   "metadata": {}
  },
  {
   "cell_type": "code",
   "execution_count": 29,
   "source": [
    "# Remove rows that have at least 1 null value.\n",
    "crypto_df.dropna(inplace=True)\n",
    "print(crypto_df.shape)\n",
    "crypto_df.head()"
   ],
   "outputs": [
    {
     "output_type": "stream",
     "name": "stdout",
     "text": [
      "(685, 5)\n"
     ]
    },
    {
     "output_type": "execute_result",
     "data": {
      "text/html": [
       "<div>\n",
       "<style scoped>\n",
       "    .dataframe tbody tr th:only-of-type {\n",
       "        vertical-align: middle;\n",
       "    }\n",
       "\n",
       "    .dataframe tbody tr th {\n",
       "        vertical-align: top;\n",
       "    }\n",
       "\n",
       "    .dataframe thead th {\n",
       "        text-align: right;\n",
       "    }\n",
       "</style>\n",
       "<table border=\"1\" class=\"dataframe\">\n",
       "  <thead>\n",
       "    <tr style=\"text-align: right;\">\n",
       "      <th></th>\n",
       "      <th>CoinName</th>\n",
       "      <th>Algorithm</th>\n",
       "      <th>ProofType</th>\n",
       "      <th>TotalCoinsMined</th>\n",
       "      <th>TotalCoinSupply</th>\n",
       "    </tr>\n",
       "  </thead>\n",
       "  <tbody>\n",
       "    <tr>\n",
       "      <th>42</th>\n",
       "      <td>42 Coin</td>\n",
       "      <td>Scrypt</td>\n",
       "      <td>PoW/PoS</td>\n",
       "      <td>4.199995e+01</td>\n",
       "      <td>42</td>\n",
       "    </tr>\n",
       "    <tr>\n",
       "      <th>404</th>\n",
       "      <td>404Coin</td>\n",
       "      <td>Scrypt</td>\n",
       "      <td>PoW/PoS</td>\n",
       "      <td>1.055185e+09</td>\n",
       "      <td>532000000</td>\n",
       "    </tr>\n",
       "    <tr>\n",
       "      <th>808</th>\n",
       "      <td>808</td>\n",
       "      <td>SHA-256</td>\n",
       "      <td>PoW/PoS</td>\n",
       "      <td>0.000000e+00</td>\n",
       "      <td>0</td>\n",
       "    </tr>\n",
       "    <tr>\n",
       "      <th>1337</th>\n",
       "      <td>EliteCoin</td>\n",
       "      <td>X13</td>\n",
       "      <td>PoW/PoS</td>\n",
       "      <td>2.927942e+10</td>\n",
       "      <td>314159265359</td>\n",
       "    </tr>\n",
       "    <tr>\n",
       "      <th>BTC</th>\n",
       "      <td>Bitcoin</td>\n",
       "      <td>SHA-256</td>\n",
       "      <td>PoW</td>\n",
       "      <td>1.792718e+07</td>\n",
       "      <td>21000000</td>\n",
       "    </tr>\n",
       "  </tbody>\n",
       "</table>\n",
       "</div>"
      ],
      "text/plain": [
       "       CoinName Algorithm ProofType  TotalCoinsMined TotalCoinSupply\n",
       "42      42 Coin    Scrypt   PoW/PoS     4.199995e+01              42\n",
       "404     404Coin    Scrypt   PoW/PoS     1.055185e+09       532000000\n",
       "808         808   SHA-256   PoW/PoS     0.000000e+00               0\n",
       "1337  EliteCoin       X13   PoW/PoS     2.927942e+10    314159265359\n",
       "BTC     Bitcoin   SHA-256       PoW     1.792718e+07        21000000"
      ]
     },
     "metadata": {},
     "execution_count": 29
    }
   ],
   "metadata": {}
  },
  {
   "cell_type": "code",
   "execution_count": 30,
   "source": [
    "crypto_df['TotalCoinsMined'].value_counts()"
   ],
   "outputs": [
    {
     "output_type": "execute_result",
     "data": {
      "text/plain": [
       "0.000000e+00    152\n",
       "1.000000e+09      7\n",
       "1.000000e+08      7\n",
       "2.500000e+07      2\n",
       "2.000000e+07      2\n",
       "               ... \n",
       "2.951355e+08      1\n",
       "3.082571e+10      1\n",
       "2.108935e+07      1\n",
       "1.207310e+06      1\n",
       "7.847417e+06      1\n",
       "Name: TotalCoinsMined, Length: 520, dtype: int64"
      ]
     },
     "metadata": {},
     "execution_count": 30
    }
   ],
   "metadata": {}
  },
  {
   "cell_type": "code",
   "execution_count": 31,
   "source": [
    "# Keep the rows where coins are mined.\n",
    "crypto_df = crypto_df[crypto_df['TotalCoinsMined']>0]\n",
    "print(crypto_df.shape)\n",
    "crypto_df.head()"
   ],
   "outputs": [
    {
     "output_type": "stream",
     "name": "stdout",
     "text": [
      "(532, 5)\n"
     ]
    },
    {
     "output_type": "execute_result",
     "data": {
      "text/html": [
       "<div>\n",
       "<style scoped>\n",
       "    .dataframe tbody tr th:only-of-type {\n",
       "        vertical-align: middle;\n",
       "    }\n",
       "\n",
       "    .dataframe tbody tr th {\n",
       "        vertical-align: top;\n",
       "    }\n",
       "\n",
       "    .dataframe thead th {\n",
       "        text-align: right;\n",
       "    }\n",
       "</style>\n",
       "<table border=\"1\" class=\"dataframe\">\n",
       "  <thead>\n",
       "    <tr style=\"text-align: right;\">\n",
       "      <th></th>\n",
       "      <th>CoinName</th>\n",
       "      <th>Algorithm</th>\n",
       "      <th>ProofType</th>\n",
       "      <th>TotalCoinsMined</th>\n",
       "      <th>TotalCoinSupply</th>\n",
       "    </tr>\n",
       "  </thead>\n",
       "  <tbody>\n",
       "    <tr>\n",
       "      <th>42</th>\n",
       "      <td>42 Coin</td>\n",
       "      <td>Scrypt</td>\n",
       "      <td>PoW/PoS</td>\n",
       "      <td>4.199995e+01</td>\n",
       "      <td>42</td>\n",
       "    </tr>\n",
       "    <tr>\n",
       "      <th>404</th>\n",
       "      <td>404Coin</td>\n",
       "      <td>Scrypt</td>\n",
       "      <td>PoW/PoS</td>\n",
       "      <td>1.055185e+09</td>\n",
       "      <td>532000000</td>\n",
       "    </tr>\n",
       "    <tr>\n",
       "      <th>1337</th>\n",
       "      <td>EliteCoin</td>\n",
       "      <td>X13</td>\n",
       "      <td>PoW/PoS</td>\n",
       "      <td>2.927942e+10</td>\n",
       "      <td>314159265359</td>\n",
       "    </tr>\n",
       "    <tr>\n",
       "      <th>BTC</th>\n",
       "      <td>Bitcoin</td>\n",
       "      <td>SHA-256</td>\n",
       "      <td>PoW</td>\n",
       "      <td>1.792718e+07</td>\n",
       "      <td>21000000</td>\n",
       "    </tr>\n",
       "    <tr>\n",
       "      <th>ETH</th>\n",
       "      <td>Ethereum</td>\n",
       "      <td>Ethash</td>\n",
       "      <td>PoW</td>\n",
       "      <td>1.076842e+08</td>\n",
       "      <td>0</td>\n",
       "    </tr>\n",
       "  </tbody>\n",
       "</table>\n",
       "</div>"
      ],
      "text/plain": [
       "       CoinName Algorithm ProofType  TotalCoinsMined TotalCoinSupply\n",
       "42      42 Coin    Scrypt   PoW/PoS     4.199995e+01              42\n",
       "404     404Coin    Scrypt   PoW/PoS     1.055185e+09       532000000\n",
       "1337  EliteCoin       X13   PoW/PoS     2.927942e+10    314159265359\n",
       "BTC     Bitcoin   SHA-256       PoW     1.792718e+07        21000000\n",
       "ETH    Ethereum    Ethash       PoW     1.076842e+08               0"
      ]
     },
     "metadata": {},
     "execution_count": 31
    }
   ],
   "metadata": {}
  },
  {
   "cell_type": "code",
   "execution_count": 32,
   "source": [
    "# Create a new DataFrame that holds only the cryptocurrencies names\n",
    "coin_df = crypto_df[['CoinName']]\n",
    "print(coin_df.shape)\n",
    "coin_df.head()"
   ],
   "outputs": [
    {
     "output_type": "stream",
     "name": "stdout",
     "text": [
      "(532, 1)\n"
     ]
    },
    {
     "output_type": "execute_result",
     "data": {
      "text/html": [
       "<div>\n",
       "<style scoped>\n",
       "    .dataframe tbody tr th:only-of-type {\n",
       "        vertical-align: middle;\n",
       "    }\n",
       "\n",
       "    .dataframe tbody tr th {\n",
       "        vertical-align: top;\n",
       "    }\n",
       "\n",
       "    .dataframe thead th {\n",
       "        text-align: right;\n",
       "    }\n",
       "</style>\n",
       "<table border=\"1\" class=\"dataframe\">\n",
       "  <thead>\n",
       "    <tr style=\"text-align: right;\">\n",
       "      <th></th>\n",
       "      <th>CoinName</th>\n",
       "    </tr>\n",
       "  </thead>\n",
       "  <tbody>\n",
       "    <tr>\n",
       "      <th>42</th>\n",
       "      <td>42 Coin</td>\n",
       "    </tr>\n",
       "    <tr>\n",
       "      <th>404</th>\n",
       "      <td>404Coin</td>\n",
       "    </tr>\n",
       "    <tr>\n",
       "      <th>1337</th>\n",
       "      <td>EliteCoin</td>\n",
       "    </tr>\n",
       "    <tr>\n",
       "      <th>BTC</th>\n",
       "      <td>Bitcoin</td>\n",
       "    </tr>\n",
       "    <tr>\n",
       "      <th>ETH</th>\n",
       "      <td>Ethereum</td>\n",
       "    </tr>\n",
       "  </tbody>\n",
       "</table>\n",
       "</div>"
      ],
      "text/plain": [
       "       CoinName\n",
       "42      42 Coin\n",
       "404     404Coin\n",
       "1337  EliteCoin\n",
       "BTC     Bitcoin\n",
       "ETH    Ethereum"
      ]
     },
     "metadata": {},
     "execution_count": 32
    }
   ],
   "metadata": {}
  },
  {
   "cell_type": "code",
   "execution_count": 33,
   "source": [
    "# Drop the 'CoinName' column since it's not going to be used on the clustering algorithm.\n",
    "crypto_df.drop(columns='CoinName', inplace=True)\n",
    "print(crypto_df.shape)\n",
    "crypto_df.head()"
   ],
   "outputs": [
    {
     "output_type": "stream",
     "name": "stdout",
     "text": [
      "(532, 4)\n"
     ]
    },
    {
     "output_type": "execute_result",
     "data": {
      "text/html": [
       "<div>\n",
       "<style scoped>\n",
       "    .dataframe tbody tr th:only-of-type {\n",
       "        vertical-align: middle;\n",
       "    }\n",
       "\n",
       "    .dataframe tbody tr th {\n",
       "        vertical-align: top;\n",
       "    }\n",
       "\n",
       "    .dataframe thead th {\n",
       "        text-align: right;\n",
       "    }\n",
       "</style>\n",
       "<table border=\"1\" class=\"dataframe\">\n",
       "  <thead>\n",
       "    <tr style=\"text-align: right;\">\n",
       "      <th></th>\n",
       "      <th>Algorithm</th>\n",
       "      <th>ProofType</th>\n",
       "      <th>TotalCoinsMined</th>\n",
       "      <th>TotalCoinSupply</th>\n",
       "    </tr>\n",
       "  </thead>\n",
       "  <tbody>\n",
       "    <tr>\n",
       "      <th>42</th>\n",
       "      <td>Scrypt</td>\n",
       "      <td>PoW/PoS</td>\n",
       "      <td>4.199995e+01</td>\n",
       "      <td>42</td>\n",
       "    </tr>\n",
       "    <tr>\n",
       "      <th>404</th>\n",
       "      <td>Scrypt</td>\n",
       "      <td>PoW/PoS</td>\n",
       "      <td>1.055185e+09</td>\n",
       "      <td>532000000</td>\n",
       "    </tr>\n",
       "    <tr>\n",
       "      <th>1337</th>\n",
       "      <td>X13</td>\n",
       "      <td>PoW/PoS</td>\n",
       "      <td>2.927942e+10</td>\n",
       "      <td>314159265359</td>\n",
       "    </tr>\n",
       "    <tr>\n",
       "      <th>BTC</th>\n",
       "      <td>SHA-256</td>\n",
       "      <td>PoW</td>\n",
       "      <td>1.792718e+07</td>\n",
       "      <td>21000000</td>\n",
       "    </tr>\n",
       "    <tr>\n",
       "      <th>ETH</th>\n",
       "      <td>Ethash</td>\n",
       "      <td>PoW</td>\n",
       "      <td>1.076842e+08</td>\n",
       "      <td>0</td>\n",
       "    </tr>\n",
       "  </tbody>\n",
       "</table>\n",
       "</div>"
      ],
      "text/plain": [
       "     Algorithm ProofType  TotalCoinsMined TotalCoinSupply\n",
       "42      Scrypt   PoW/PoS     4.199995e+01              42\n",
       "404     Scrypt   PoW/PoS     1.055185e+09       532000000\n",
       "1337       X13   PoW/PoS     2.927942e+10    314159265359\n",
       "BTC    SHA-256       PoW     1.792718e+07        21000000\n",
       "ETH     Ethash       PoW     1.076842e+08               0"
      ]
     },
     "metadata": {},
     "execution_count": 33
    }
   ],
   "metadata": {}
  },
  {
   "cell_type": "code",
   "execution_count": 34,
   "source": [
    "# Use get_dummies() to create variables for text features.\n",
    "X = pd.get_dummies(crypto_df, columns=['Algorithm', 'ProofType'])\n",
    "print(X.shape)\n",
    "X.head()"
   ],
   "outputs": [
    {
     "output_type": "stream",
     "name": "stdout",
     "text": [
      "(532, 98)\n"
     ]
    },
    {
     "output_type": "execute_result",
     "data": {
      "text/html": [
       "<div>\n",
       "<style scoped>\n",
       "    .dataframe tbody tr th:only-of-type {\n",
       "        vertical-align: middle;\n",
       "    }\n",
       "\n",
       "    .dataframe tbody tr th {\n",
       "        vertical-align: top;\n",
       "    }\n",
       "\n",
       "    .dataframe thead th {\n",
       "        text-align: right;\n",
       "    }\n",
       "</style>\n",
       "<table border=\"1\" class=\"dataframe\">\n",
       "  <thead>\n",
       "    <tr style=\"text-align: right;\">\n",
       "      <th></th>\n",
       "      <th>TotalCoinsMined</th>\n",
       "      <th>TotalCoinSupply</th>\n",
       "      <th>Algorithm_1GB AES Pattern Search</th>\n",
       "      <th>Algorithm_536</th>\n",
       "      <th>Algorithm_Argon2d</th>\n",
       "      <th>Algorithm_BLAKE256</th>\n",
       "      <th>Algorithm_Blake</th>\n",
       "      <th>Algorithm_Blake2S</th>\n",
       "      <th>Algorithm_Blake2b</th>\n",
       "      <th>Algorithm_C11</th>\n",
       "      <th>...</th>\n",
       "      <th>ProofType_PoW/PoS</th>\n",
       "      <th>ProofType_PoW/PoS</th>\n",
       "      <th>ProofType_PoW/PoW</th>\n",
       "      <th>ProofType_PoW/nPoS</th>\n",
       "      <th>ProofType_Pos</th>\n",
       "      <th>ProofType_Proof of Authority</th>\n",
       "      <th>ProofType_Proof of Trust</th>\n",
       "      <th>ProofType_TPoS</th>\n",
       "      <th>ProofType_Zero-Knowledge Proof</th>\n",
       "      <th>ProofType_dPoW/PoW</th>\n",
       "    </tr>\n",
       "  </thead>\n",
       "  <tbody>\n",
       "    <tr>\n",
       "      <th>42</th>\n",
       "      <td>4.199995e+01</td>\n",
       "      <td>42</td>\n",
       "      <td>0</td>\n",
       "      <td>0</td>\n",
       "      <td>0</td>\n",
       "      <td>0</td>\n",
       "      <td>0</td>\n",
       "      <td>0</td>\n",
       "      <td>0</td>\n",
       "      <td>0</td>\n",
       "      <td>...</td>\n",
       "      <td>1</td>\n",
       "      <td>0</td>\n",
       "      <td>0</td>\n",
       "      <td>0</td>\n",
       "      <td>0</td>\n",
       "      <td>0</td>\n",
       "      <td>0</td>\n",
       "      <td>0</td>\n",
       "      <td>0</td>\n",
       "      <td>0</td>\n",
       "    </tr>\n",
       "    <tr>\n",
       "      <th>404</th>\n",
       "      <td>1.055185e+09</td>\n",
       "      <td>532000000</td>\n",
       "      <td>0</td>\n",
       "      <td>0</td>\n",
       "      <td>0</td>\n",
       "      <td>0</td>\n",
       "      <td>0</td>\n",
       "      <td>0</td>\n",
       "      <td>0</td>\n",
       "      <td>0</td>\n",
       "      <td>...</td>\n",
       "      <td>1</td>\n",
       "      <td>0</td>\n",
       "      <td>0</td>\n",
       "      <td>0</td>\n",
       "      <td>0</td>\n",
       "      <td>0</td>\n",
       "      <td>0</td>\n",
       "      <td>0</td>\n",
       "      <td>0</td>\n",
       "      <td>0</td>\n",
       "    </tr>\n",
       "    <tr>\n",
       "      <th>1337</th>\n",
       "      <td>2.927942e+10</td>\n",
       "      <td>314159265359</td>\n",
       "      <td>0</td>\n",
       "      <td>0</td>\n",
       "      <td>0</td>\n",
       "      <td>0</td>\n",
       "      <td>0</td>\n",
       "      <td>0</td>\n",
       "      <td>0</td>\n",
       "      <td>0</td>\n",
       "      <td>...</td>\n",
       "      <td>1</td>\n",
       "      <td>0</td>\n",
       "      <td>0</td>\n",
       "      <td>0</td>\n",
       "      <td>0</td>\n",
       "      <td>0</td>\n",
       "      <td>0</td>\n",
       "      <td>0</td>\n",
       "      <td>0</td>\n",
       "      <td>0</td>\n",
       "    </tr>\n",
       "    <tr>\n",
       "      <th>BTC</th>\n",
       "      <td>1.792718e+07</td>\n",
       "      <td>21000000</td>\n",
       "      <td>0</td>\n",
       "      <td>0</td>\n",
       "      <td>0</td>\n",
       "      <td>0</td>\n",
       "      <td>0</td>\n",
       "      <td>0</td>\n",
       "      <td>0</td>\n",
       "      <td>0</td>\n",
       "      <td>...</td>\n",
       "      <td>0</td>\n",
       "      <td>0</td>\n",
       "      <td>0</td>\n",
       "      <td>0</td>\n",
       "      <td>0</td>\n",
       "      <td>0</td>\n",
       "      <td>0</td>\n",
       "      <td>0</td>\n",
       "      <td>0</td>\n",
       "      <td>0</td>\n",
       "    </tr>\n",
       "    <tr>\n",
       "      <th>ETH</th>\n",
       "      <td>1.076842e+08</td>\n",
       "      <td>0</td>\n",
       "      <td>0</td>\n",
       "      <td>0</td>\n",
       "      <td>0</td>\n",
       "      <td>0</td>\n",
       "      <td>0</td>\n",
       "      <td>0</td>\n",
       "      <td>0</td>\n",
       "      <td>0</td>\n",
       "      <td>...</td>\n",
       "      <td>0</td>\n",
       "      <td>0</td>\n",
       "      <td>0</td>\n",
       "      <td>0</td>\n",
       "      <td>0</td>\n",
       "      <td>0</td>\n",
       "      <td>0</td>\n",
       "      <td>0</td>\n",
       "      <td>0</td>\n",
       "      <td>0</td>\n",
       "    </tr>\n",
       "  </tbody>\n",
       "</table>\n",
       "<p>5 rows × 98 columns</p>\n",
       "</div>"
      ],
      "text/plain": [
       "      TotalCoinsMined TotalCoinSupply  Algorithm_1GB AES Pattern Search  \\\n",
       "42       4.199995e+01              42                                 0   \n",
       "404      1.055185e+09       532000000                                 0   \n",
       "1337     2.927942e+10    314159265359                                 0   \n",
       "BTC      1.792718e+07        21000000                                 0   \n",
       "ETH      1.076842e+08               0                                 0   \n",
       "\n",
       "      Algorithm_536  Algorithm_Argon2d  Algorithm_BLAKE256  Algorithm_Blake  \\\n",
       "42                0                  0                   0                0   \n",
       "404               0                  0                   0                0   \n",
       "1337              0                  0                   0                0   \n",
       "BTC               0                  0                   0                0   \n",
       "ETH               0                  0                   0                0   \n",
       "\n",
       "      Algorithm_Blake2S  Algorithm_Blake2b  Algorithm_C11  ...  \\\n",
       "42                    0                  0              0  ...   \n",
       "404                   0                  0              0  ...   \n",
       "1337                  0                  0              0  ...   \n",
       "BTC                   0                  0              0  ...   \n",
       "ETH                   0                  0              0  ...   \n",
       "\n",
       "      ProofType_PoW/PoS  ProofType_PoW/PoS   ProofType_PoW/PoW  \\\n",
       "42                    1                   0                  0   \n",
       "404                   1                   0                  0   \n",
       "1337                  1                   0                  0   \n",
       "BTC                   0                   0                  0   \n",
       "ETH                   0                   0                  0   \n",
       "\n",
       "      ProofType_PoW/nPoS  ProofType_Pos  ProofType_Proof of Authority  \\\n",
       "42                     0              0                             0   \n",
       "404                    0              0                             0   \n",
       "1337                   0              0                             0   \n",
       "BTC                    0              0                             0   \n",
       "ETH                    0              0                             0   \n",
       "\n",
       "      ProofType_Proof of Trust  ProofType_TPoS  \\\n",
       "42                           0               0   \n",
       "404                          0               0   \n",
       "1337                         0               0   \n",
       "BTC                          0               0   \n",
       "ETH                          0               0   \n",
       "\n",
       "      ProofType_Zero-Knowledge Proof  ProofType_dPoW/PoW  \n",
       "42                                 0                   0  \n",
       "404                                0                   0  \n",
       "1337                               0                   0  \n",
       "BTC                                0                   0  \n",
       "ETH                                0                   0  \n",
       "\n",
       "[5 rows x 98 columns]"
      ]
     },
     "metadata": {},
     "execution_count": 34
    }
   ],
   "metadata": {}
  },
  {
   "cell_type": "code",
   "execution_count": 35,
   "source": [
    "# Standardize the data with StandardScaler().\n",
    "data_scaler = StandardScaler()\n",
    "X_scaled = data_scaler.fit_transform(X)\n",
    "X_scaled[:5]"
   ],
   "outputs": [
    {
     "output_type": "execute_result",
     "data": {
      "text/plain": [
       "array([[-0.11710817, -0.1528703 , -0.0433963 , -0.0433963 , -0.0433963 ,\n",
       "        -0.06142951, -0.07530656, -0.0433963 , -0.06142951, -0.06142951,\n",
       "        -0.0433963 , -0.0433963 , -0.19245009, -0.06142951, -0.09740465,\n",
       "        -0.0433963 , -0.11547005, -0.07530656, -0.0433963 , -0.0433963 ,\n",
       "        -0.15191091, -0.0433963 , -0.13118084, -0.0433963 , -0.0433963 ,\n",
       "        -0.08703883, -0.0433963 , -0.0433963 , -0.0433963 , -0.0433963 ,\n",
       "        -0.06142951, -0.0433963 , -0.08703883, -0.08703883, -0.08703883,\n",
       "        -0.0433963 , -0.13118084, -0.13840913, -0.13840913, -0.0433963 ,\n",
       "        -0.06142951, -0.0433963 , -0.07530656, -0.18168574, -0.0433963 ,\n",
       "        -0.0433963 , -0.0433963 , -0.07530656, -0.15826614, -0.31491833,\n",
       "        -0.0433963 , -0.08703883, -0.07530656, -0.06142951,  1.38675049,\n",
       "        -0.0433963 , -0.0433963 , -0.06142951, -0.0433963 , -0.0433963 ,\n",
       "        -0.0433963 , -0.0433963 , -0.0433963 , -0.0433963 , -0.0433963 ,\n",
       "        -0.0433963 , -0.39879994, -0.0433963 , -0.18168574, -0.0433963 ,\n",
       "        -0.08703883, -0.08703883, -0.10680283, -0.0433963 , -0.13118084,\n",
       "        -0.0433963 , -0.0433963 , -0.0433963 , -0.0433963 , -0.07530656,\n",
       "        -0.43911856, -0.0433963 , -0.06142951, -0.0433963 , -0.0433963 ,\n",
       "        -0.89632016, -0.0433963 , -0.0433963 ,  1.42222617, -0.0433963 ,\n",
       "        -0.0433963 , -0.0433963 , -0.0433963 , -0.0433963 , -0.0433963 ,\n",
       "        -0.0433963 , -0.0433963 , -0.0433963 ],\n",
       "       [-0.09396955, -0.145009  , -0.0433963 , -0.0433963 , -0.0433963 ,\n",
       "        -0.06142951, -0.07530656, -0.0433963 , -0.06142951, -0.06142951,\n",
       "        -0.0433963 , -0.0433963 , -0.19245009, -0.06142951, -0.09740465,\n",
       "        -0.0433963 , -0.11547005, -0.07530656, -0.0433963 , -0.0433963 ,\n",
       "        -0.15191091, -0.0433963 , -0.13118084, -0.0433963 , -0.0433963 ,\n",
       "        -0.08703883, -0.0433963 , -0.0433963 , -0.0433963 , -0.0433963 ,\n",
       "        -0.06142951, -0.0433963 , -0.08703883, -0.08703883, -0.08703883,\n",
       "        -0.0433963 , -0.13118084, -0.13840913, -0.13840913, -0.0433963 ,\n",
       "        -0.06142951, -0.0433963 , -0.07530656, -0.18168574, -0.0433963 ,\n",
       "        -0.0433963 , -0.0433963 , -0.07530656, -0.15826614, -0.31491833,\n",
       "        -0.0433963 , -0.08703883, -0.07530656, -0.06142951,  1.38675049,\n",
       "        -0.0433963 , -0.0433963 , -0.06142951, -0.0433963 , -0.0433963 ,\n",
       "        -0.0433963 , -0.0433963 , -0.0433963 , -0.0433963 , -0.0433963 ,\n",
       "        -0.0433963 , -0.39879994, -0.0433963 , -0.18168574, -0.0433963 ,\n",
       "        -0.08703883, -0.08703883, -0.10680283, -0.0433963 , -0.13118084,\n",
       "        -0.0433963 , -0.0433963 , -0.0433963 , -0.0433963 , -0.07530656,\n",
       "        -0.43911856, -0.0433963 , -0.06142951, -0.0433963 , -0.0433963 ,\n",
       "        -0.89632016, -0.0433963 , -0.0433963 ,  1.42222617, -0.0433963 ,\n",
       "        -0.0433963 , -0.0433963 , -0.0433963 , -0.0433963 , -0.0433963 ,\n",
       "        -0.0433963 , -0.0433963 , -0.0433963 ],\n",
       "       [ 0.52494561,  4.48942416, -0.0433963 , -0.0433963 , -0.0433963 ,\n",
       "        -0.06142951, -0.07530656, -0.0433963 , -0.06142951, -0.06142951,\n",
       "        -0.0433963 , -0.0433963 , -0.19245009, -0.06142951, -0.09740465,\n",
       "        -0.0433963 , -0.11547005, -0.07530656, -0.0433963 , -0.0433963 ,\n",
       "        -0.15191091, -0.0433963 , -0.13118084, -0.0433963 , -0.0433963 ,\n",
       "        -0.08703883, -0.0433963 , -0.0433963 , -0.0433963 , -0.0433963 ,\n",
       "        -0.06142951, -0.0433963 , -0.08703883, -0.08703883, -0.08703883,\n",
       "        -0.0433963 , -0.13118084, -0.13840913, -0.13840913, -0.0433963 ,\n",
       "        -0.06142951, -0.0433963 , -0.07530656, -0.18168574, -0.0433963 ,\n",
       "        -0.0433963 , -0.0433963 , -0.07530656, -0.15826614, -0.31491833,\n",
       "        -0.0433963 , -0.08703883, -0.07530656, -0.06142951, -0.72111026,\n",
       "        -0.0433963 , -0.0433963 , -0.06142951, -0.0433963 , -0.0433963 ,\n",
       "        -0.0433963 , -0.0433963 , -0.0433963 , -0.0433963 , -0.0433963 ,\n",
       "        -0.0433963 , -0.39879994, -0.0433963 ,  5.50400923, -0.0433963 ,\n",
       "        -0.08703883, -0.08703883, -0.10680283, -0.0433963 , -0.13118084,\n",
       "        -0.0433963 , -0.0433963 , -0.0433963 , -0.0433963 , -0.07530656,\n",
       "        -0.43911856, -0.0433963 , -0.06142951, -0.0433963 , -0.0433963 ,\n",
       "        -0.89632016, -0.0433963 , -0.0433963 ,  1.42222617, -0.0433963 ,\n",
       "        -0.0433963 , -0.0433963 , -0.0433963 , -0.0433963 , -0.0433963 ,\n",
       "        -0.0433963 , -0.0433963 , -0.0433963 ],\n",
       "       [-0.11671506, -0.15255998, -0.0433963 , -0.0433963 , -0.0433963 ,\n",
       "        -0.06142951, -0.07530656, -0.0433963 , -0.06142951, -0.06142951,\n",
       "        -0.0433963 , -0.0433963 , -0.19245009, -0.06142951, -0.09740465,\n",
       "        -0.0433963 , -0.11547005, -0.07530656, -0.0433963 , -0.0433963 ,\n",
       "        -0.15191091, -0.0433963 , -0.13118084, -0.0433963 , -0.0433963 ,\n",
       "        -0.08703883, -0.0433963 , -0.0433963 , -0.0433963 , -0.0433963 ,\n",
       "        -0.06142951, -0.0433963 , -0.08703883, -0.08703883, -0.08703883,\n",
       "        -0.0433963 , -0.13118084, -0.13840913, -0.13840913, -0.0433963 ,\n",
       "        -0.06142951, -0.0433963 , -0.07530656, -0.18168574, -0.0433963 ,\n",
       "        -0.0433963 , -0.0433963 , -0.07530656, -0.15826614,  3.17542648,\n",
       "        -0.0433963 , -0.08703883, -0.07530656, -0.06142951, -0.72111026,\n",
       "        -0.0433963 , -0.0433963 , -0.06142951, -0.0433963 , -0.0433963 ,\n",
       "        -0.0433963 , -0.0433963 , -0.0433963 , -0.0433963 , -0.0433963 ,\n",
       "        -0.0433963 , -0.39879994, -0.0433963 , -0.18168574, -0.0433963 ,\n",
       "        -0.08703883, -0.08703883, -0.10680283, -0.0433963 , -0.13118084,\n",
       "        -0.0433963 , -0.0433963 , -0.0433963 , -0.0433963 , -0.07530656,\n",
       "        -0.43911856, -0.0433963 , -0.06142951, -0.0433963 , -0.0433963 ,\n",
       "         1.11567277, -0.0433963 , -0.0433963 , -0.70312305, -0.0433963 ,\n",
       "        -0.0433963 , -0.0433963 , -0.0433963 , -0.0433963 , -0.0433963 ,\n",
       "        -0.0433963 , -0.0433963 , -0.0433963 ],\n",
       "       [-0.11474682, -0.1528703 , -0.0433963 , -0.0433963 , -0.0433963 ,\n",
       "        -0.06142951, -0.07530656, -0.0433963 , -0.06142951, -0.06142951,\n",
       "        -0.0433963 , -0.0433963 , -0.19245009, -0.06142951, -0.09740465,\n",
       "        -0.0433963 , -0.11547005, -0.07530656, -0.0433963 , -0.0433963 ,\n",
       "        -0.15191091, -0.0433963 ,  7.62306442, -0.0433963 , -0.0433963 ,\n",
       "        -0.08703883, -0.0433963 , -0.0433963 , -0.0433963 , -0.0433963 ,\n",
       "        -0.06142951, -0.0433963 , -0.08703883, -0.08703883, -0.08703883,\n",
       "        -0.0433963 , -0.13118084, -0.13840913, -0.13840913, -0.0433963 ,\n",
       "        -0.06142951, -0.0433963 , -0.07530656, -0.18168574, -0.0433963 ,\n",
       "        -0.0433963 , -0.0433963 , -0.07530656, -0.15826614, -0.31491833,\n",
       "        -0.0433963 , -0.08703883, -0.07530656, -0.06142951, -0.72111026,\n",
       "        -0.0433963 , -0.0433963 , -0.06142951, -0.0433963 , -0.0433963 ,\n",
       "        -0.0433963 , -0.0433963 , -0.0433963 , -0.0433963 , -0.0433963 ,\n",
       "        -0.0433963 , -0.39879994, -0.0433963 , -0.18168574, -0.0433963 ,\n",
       "        -0.08703883, -0.08703883, -0.10680283, -0.0433963 , -0.13118084,\n",
       "        -0.0433963 , -0.0433963 , -0.0433963 , -0.0433963 , -0.07530656,\n",
       "        -0.43911856, -0.0433963 , -0.06142951, -0.0433963 , -0.0433963 ,\n",
       "         1.11567277, -0.0433963 , -0.0433963 , -0.70312305, -0.0433963 ,\n",
       "        -0.0433963 , -0.0433963 , -0.0433963 , -0.0433963 , -0.0433963 ,\n",
       "        -0.0433963 , -0.0433963 , -0.0433963 ]])"
      ]
     },
     "metadata": {},
     "execution_count": 35
    }
   ],
   "metadata": {}
  },
  {
   "cell_type": "markdown",
   "source": [
    "### Deliverable 2: Reducing Data Dimensions Using PCA"
   ],
   "metadata": {}
  },
  {
   "cell_type": "code",
   "execution_count": 36,
   "source": [
    "# Using PCA to reduce dimension to three principal components.\n",
    "pca = PCA(n_components=3)"
   ],
   "outputs": [],
   "metadata": {}
  },
  {
   "cell_type": "code",
   "execution_count": 37,
   "source": [
    "# Create a DataFrame with the three principal components.\n",
    "X_pca = pca.fit_transform(X_scaled)\n",
    "pcs_df = pd.DataFrame(\n",
    "    data=X_pca, columns=['PC1', 'PC2', 'PC3'], index=X.index\n",
    ")\n",
    "pcs_df.head()"
   ],
   "outputs": [
    {
     "output_type": "execute_result",
     "data": {
      "text/html": [
       "<div>\n",
       "<style scoped>\n",
       "    .dataframe tbody tr th:only-of-type {\n",
       "        vertical-align: middle;\n",
       "    }\n",
       "\n",
       "    .dataframe tbody tr th {\n",
       "        vertical-align: top;\n",
       "    }\n",
       "\n",
       "    .dataframe thead th {\n",
       "        text-align: right;\n",
       "    }\n",
       "</style>\n",
       "<table border=\"1\" class=\"dataframe\">\n",
       "  <thead>\n",
       "    <tr style=\"text-align: right;\">\n",
       "      <th></th>\n",
       "      <th>PC1</th>\n",
       "      <th>PC2</th>\n",
       "      <th>PC3</th>\n",
       "    </tr>\n",
       "  </thead>\n",
       "  <tbody>\n",
       "    <tr>\n",
       "      <th>42</th>\n",
       "      <td>-0.338146</td>\n",
       "      <td>1.071857</td>\n",
       "      <td>-0.426432</td>\n",
       "    </tr>\n",
       "    <tr>\n",
       "      <th>404</th>\n",
       "      <td>-0.321499</td>\n",
       "      <td>1.071983</td>\n",
       "      <td>-0.426509</td>\n",
       "    </tr>\n",
       "    <tr>\n",
       "      <th>1337</th>\n",
       "      <td>2.292047</td>\n",
       "      <td>1.658951</td>\n",
       "      <td>-0.392447</td>\n",
       "    </tr>\n",
       "    <tr>\n",
       "      <th>BTC</th>\n",
       "      <td>-0.152803</td>\n",
       "      <td>-1.310102</td>\n",
       "      <td>0.178866</td>\n",
       "    </tr>\n",
       "    <tr>\n",
       "      <th>ETH</th>\n",
       "      <td>-0.148274</td>\n",
       "      <td>-2.040160</td>\n",
       "      <td>0.265101</td>\n",
       "    </tr>\n",
       "  </tbody>\n",
       "</table>\n",
       "</div>"
      ],
      "text/plain": [
       "           PC1       PC2       PC3\n",
       "42   -0.338146  1.071857 -0.426432\n",
       "404  -0.321499  1.071983 -0.426509\n",
       "1337  2.292047  1.658951 -0.392447\n",
       "BTC  -0.152803 -1.310102  0.178866\n",
       "ETH  -0.148274 -2.040160  0.265101"
      ]
     },
     "metadata": {},
     "execution_count": 37
    }
   ],
   "metadata": {}
  },
  {
   "cell_type": "markdown",
   "source": [
    "### Deliverable 3: Clustering Crytocurrencies Using K-Means\n",
    "\n",
    "#### Finding the Best Value for `k` Using the Elbow Curve"
   ],
   "metadata": {}
  },
  {
   "cell_type": "code",
   "execution_count": 38,
   "source": [
    "# Create an elbow curve to find the best value for K.\n",
    "inertia = []\n",
    "k = list(range(1, 11))\n",
    "\n",
    "# Calculate the inertia for the range of K values\n",
    "for i in k:\n",
    "    km = KMeans(n_clusters=i, random_state=0)\n",
    "    km.fit(X_scaled)\n",
    "    inertia.append(km.inertia_)\n",
    "\n",
    "# Create the elbow curve\n",
    "elbow_data = {\"k\": k, \"inertia\": inertia}\n",
    "df_elbow = pd.DataFrame(elbow_data)\n",
    "df_elbow.hvplot.line(x=\"k\", y=\"inertia\", xticks=k, title=\"Elbow Curve\")\n"
   ],
   "outputs": [
    {
     "output_type": "display_data",
     "data": {},
     "metadata": {}
    },
    {
     "output_type": "execute_result",
     "data": {
      "text/html": [
       "<div id='1356'>\n",
       "\n",
       "\n",
       "\n",
       "\n",
       "\n",
       "  <div class=\"bk-root\" id=\"67f6c08b-659e-4682-bd27-d3d35250aff3\" data-root-id=\"1356\"></div>\n",
       "</div>\n",
       "<script type=\"application/javascript\">(function(root) {\n",
       "  function embed_document(root) {\n",
       "    var docs_json = {\"c7dc2b5e-b98e-4f35-b9ea-f4b406af097f\":{\"defs\":[{\"extends\":null,\"module\":null,\"name\":\"ReactiveHTML1\",\"overrides\":[],\"properties\":[]},{\"extends\":null,\"module\":null,\"name\":\"FlexBox1\",\"overrides\":[],\"properties\":[{\"default\":\"flex-start\",\"kind\":null,\"name\":\"align_content\"},{\"default\":\"flex-start\",\"kind\":null,\"name\":\"align_items\"},{\"default\":\"row\",\"kind\":null,\"name\":\"flex_direction\"},{\"default\":\"wrap\",\"kind\":null,\"name\":\"flex_wrap\"},{\"default\":\"flex-start\",\"kind\":null,\"name\":\"justify_content\"}]},{\"extends\":null,\"module\":null,\"name\":\"TemplateActions1\",\"overrides\":[],\"properties\":[{\"default\":0,\"kind\":null,\"name\":\"open_modal\"},{\"default\":0,\"kind\":null,\"name\":\"close_modal\"}]},{\"extends\":null,\"module\":null,\"name\":\"MaterialTemplateActions1\",\"overrides\":[],\"properties\":[{\"default\":0,\"kind\":null,\"name\":\"open_modal\"},{\"default\":0,\"kind\":null,\"name\":\"close_modal\"}]}],\"roots\":{\"references\":[{\"attributes\":{\"callback\":null,\"renderers\":[{\"id\":\"1397\"}],\"tags\":[\"hv_created\"],\"tooltips\":[[\"k\",\"@{k}\"],[\"inertia\",\"@{inertia}\"]]},\"id\":\"1360\",\"type\":\"HoverTool\"},{\"attributes\":{},\"id\":\"1392\",\"type\":\"Selection\"},{\"attributes\":{\"end\":3993.2642374883144,\"reset_end\":3993.2642374883144,\"reset_start\":-265.77453871655797,\"start\":-265.77453871655797,\"tags\":[[[\"inertia\",\"inertia\",null]]]},\"id\":\"1359\",\"type\":\"Range1d\"},{\"attributes\":{\"source\":{\"id\":\"1391\"}},\"id\":\"1398\",\"type\":\"CDSView\"},{\"attributes\":{},\"id\":\"1368\",\"type\":\"LinearScale\"},{\"attributes\":{\"line_alpha\":0.2,\"line_color\":\"#30a2da\",\"line_width\":2,\"x\":{\"field\":\"k\"},\"y\":{\"field\":\"inertia\"}},\"id\":\"1396\",\"type\":\"Line\"},{\"attributes\":{\"bottom_units\":\"screen\",\"fill_alpha\":0.5,\"fill_color\":\"lightgrey\",\"left_units\":\"screen\",\"level\":\"overlay\",\"line_alpha\":1.0,\"line_color\":\"black\",\"line_dash\":[4,4],\"line_width\":2,\"right_units\":\"screen\",\"syncable\":false,\"top_units\":\"screen\"},\"id\":\"1383\",\"type\":\"BoxAnnotation\"},{\"attributes\":{\"active_multi\":null,\"tools\":[{\"id\":\"1360\"},{\"id\":\"1378\"},{\"id\":\"1379\"},{\"id\":\"1380\"},{\"id\":\"1381\"},{\"id\":\"1382\"}]},\"id\":\"1384\",\"type\":\"Toolbar\"},{\"attributes\":{\"line_alpha\":0.1,\"line_color\":\"#30a2da\",\"line_width\":2,\"x\":{\"field\":\"k\"},\"y\":{\"field\":\"inertia\"}},\"id\":\"1395\",\"type\":\"Line\"},{\"attributes\":{\"children\":[{\"id\":\"1357\"},{\"id\":\"1361\"},{\"id\":\"1427\"}],\"margin\":[0,0,0,0],\"name\":\"Row02161\",\"tags\":[\"embedded\"]},\"id\":\"1356\",\"type\":\"Row\"},{\"attributes\":{\"below\":[{\"id\":\"1370\"}],\"center\":[{\"id\":\"1373\"},{\"id\":\"1377\"}],\"height\":300,\"left\":[{\"id\":\"1374\"}],\"margin\":[5,5,5,5],\"min_border_bottom\":10,\"min_border_left\":10,\"min_border_right\":10,\"min_border_top\":10,\"renderers\":[{\"id\":\"1397\"}],\"sizing_mode\":\"fixed\",\"title\":{\"id\":\"1362\"},\"toolbar\":{\"id\":\"1384\"},\"width\":700,\"x_range\":{\"id\":\"1358\"},\"x_scale\":{\"id\":\"1366\"},\"y_range\":{\"id\":\"1359\"},\"y_scale\":{\"id\":\"1368\"}},\"id\":\"1361\",\"subtype\":\"Figure\",\"type\":\"Plot\"},{\"attributes\":{},\"id\":\"1378\",\"type\":\"SaveTool\"},{\"attributes\":{},\"id\":\"1379\",\"type\":\"PanTool\"},{\"attributes\":{\"line_color\":\"#30a2da\",\"line_width\":2,\"x\":{\"field\":\"k\"},\"y\":{\"field\":\"inertia\"}},\"id\":\"1394\",\"type\":\"Line\"},{\"attributes\":{\"axis\":{\"id\":\"1374\"},\"dimension\":1,\"grid_line_color\":null,\"ticker\":null},\"id\":\"1377\",\"type\":\"Grid\"},{\"attributes\":{},\"id\":\"1380\",\"type\":\"WheelZoomTool\"},{\"attributes\":{\"line_color\":\"#30a2da\",\"line_width\":2,\"x\":{\"field\":\"k\"},\"y\":{\"field\":\"inertia\"}},\"id\":\"1399\",\"type\":\"Line\"},{\"attributes\":{\"axis_label\":\"inertia\",\"formatter\":{\"id\":\"1407\"},\"major_label_policy\":{\"id\":\"1406\"},\"ticker\":{\"id\":\"1375\"}},\"id\":\"1374\",\"type\":\"LinearAxis\"},{\"attributes\":{},\"id\":\"1401\",\"type\":\"AllLabels\"},{\"attributes\":{\"overlay\":{\"id\":\"1383\"}},\"id\":\"1381\",\"type\":\"BoxZoomTool\"},{\"attributes\":{},\"id\":\"1402\",\"type\":\"BasicTickFormatter\"},{\"attributes\":{\"text\":\"Elbow Curve\",\"text_color\":\"black\",\"text_font_size\":\"12pt\"},\"id\":\"1362\",\"type\":\"Title\"},{\"attributes\":{\"data_source\":{\"id\":\"1391\"},\"glyph\":{\"id\":\"1394\"},\"hover_glyph\":null,\"muted_glyph\":{\"id\":\"1396\"},\"nonselection_glyph\":{\"id\":\"1395\"},\"selection_glyph\":{\"id\":\"1399\"},\"view\":{\"id\":\"1398\"}},\"id\":\"1397\",\"type\":\"GlyphRenderer\"},{\"attributes\":{},\"id\":\"1407\",\"type\":\"BasicTickFormatter\"},{\"attributes\":{\"ticks\":[1,2,3,4,5,6,7,8,9,10]},\"id\":\"1400\",\"type\":\"FixedTicker\"},{\"attributes\":{},\"id\":\"1382\",\"type\":\"ResetTool\"},{\"attributes\":{},\"id\":\"1406\",\"type\":\"AllLabels\"},{\"attributes\":{},\"id\":\"1366\",\"type\":\"LinearScale\"},{\"attributes\":{\"margin\":[5,5,5,5],\"name\":\"HSpacer02165\",\"sizing_mode\":\"stretch_width\"},\"id\":\"1357\",\"type\":\"Spacer\"},{\"attributes\":{\"axis\":{\"id\":\"1370\"},\"grid_line_color\":null,\"ticker\":null},\"id\":\"1373\",\"type\":\"Grid\"},{\"attributes\":{},\"id\":\"1416\",\"type\":\"UnionRenderers\"},{\"attributes\":{\"data\":{\"inertia\":{\"__ndarray__\":\"aV9DTbBsrECO2jTf4VWjQHKYT0l3SJdApkRhGe5vg0BDwfx24/x6QJTkA/PK7G9ANDKlazkUaEAZdfdDyfZhQO6CalQdVVxAVXgYkU1JVkA=\",\"dtype\":\"float64\",\"order\":\"little\",\"shape\":[10]},\"k\":[1,2,3,4,5,6,7,8,9,10]},\"selected\":{\"id\":\"1392\"},\"selection_policy\":{\"id\":\"1416\"}},\"id\":\"1391\",\"type\":\"ColumnDataSource\"},{\"attributes\":{\"margin\":[5,5,5,5],\"name\":\"HSpacer02166\",\"sizing_mode\":\"stretch_width\"},\"id\":\"1427\",\"type\":\"Spacer\"},{\"attributes\":{\"axis_label\":\"k\",\"formatter\":{\"id\":\"1402\"},\"major_label_policy\":{\"id\":\"1401\"},\"ticker\":{\"id\":\"1400\"}},\"id\":\"1370\",\"type\":\"LinearAxis\"},{\"attributes\":{},\"id\":\"1375\",\"type\":\"BasicTicker\"},{\"attributes\":{\"end\":10.0,\"reset_end\":10.0,\"reset_start\":1.0,\"start\":1.0,\"tags\":[[[\"k\",\"k\",null]]]},\"id\":\"1358\",\"type\":\"Range1d\"}],\"root_ids\":[\"1356\"]},\"title\":\"Bokeh Application\",\"version\":\"2.3.2\"}};\n",
       "    var render_items = [{\"docid\":\"c7dc2b5e-b98e-4f35-b9ea-f4b406af097f\",\"root_ids\":[\"1356\"],\"roots\":{\"1356\":\"67f6c08b-659e-4682-bd27-d3d35250aff3\"}}];\n",
       "    root.Bokeh.embed.embed_items_notebook(docs_json, render_items);\n",
       "  }\n",
       "  if (root.Bokeh !== undefined && root.Bokeh.Panel !== undefined) {\n",
       "    embed_document(root);\n",
       "  } else {\n",
       "    var attempts = 0;\n",
       "    var timer = setInterval(function(root) {\n",
       "      if (root.Bokeh !== undefined && root.Bokeh.Panel !== undefined) {\n",
       "        clearInterval(timer);\n",
       "        embed_document(root);\n",
       "      } else if (document.readyState == \"complete\") {\n",
       "        attempts++;\n",
       "        if (attempts > 200) {\n",
       "          clearInterval(timer);\n",
       "          console.log(\"Bokeh: ERROR: Unable to run BokehJS code because BokehJS library is missing\");\n",
       "        }\n",
       "      }\n",
       "    }, 25, root)\n",
       "  }\n",
       "})(window);</script>"
      ],
      "text/plain": [
       ":Curve   [k]   (inertia)"
      ],
      "application/vnd.holoviews_exec.v0+json": ""
     },
     "metadata": {
      "application/vnd.holoviews_exec.v0+json": {
       "id": "1356"
      }
     },
     "execution_count": 38
    }
   ],
   "metadata": {}
  },
  {
   "cell_type": "markdown",
   "source": [
    "Running K-Means with `k=4`"
   ],
   "metadata": {}
  },
  {
   "cell_type": "code",
   "execution_count": 39,
   "source": [
    "# Initialize the K-Means model.\n",
    "model = KMeans(n_clusters=4, random_state=0)\n",
    "\n",
    "# Fit the model\n",
    "model.fit(X)\n",
    "\n",
    "# Predict clusters\n",
    "predictions = model.predict(X)"
   ],
   "outputs": [],
   "metadata": {}
  },
  {
   "cell_type": "code",
   "execution_count": 52,
   "source": [
    "print(pcs_df.shape)"
   ],
   "outputs": [
    {
     "output_type": "stream",
     "name": "stdout",
     "text": [
      "(532, 3)\n"
     ]
    }
   ],
   "metadata": {}
  },
  {
   "cell_type": "code",
   "execution_count": 55,
   "source": [
    "# Create a new DataFrame including predicted clusters and cryptocurrencies features.\n",
    "# Concatentate the crypto_df and pcs_df DataFrames on the same columns.\n",
    "clustered_df = pd.concat([crypto_df, pcs_df], axis=1, join='inner')\n",
    "\n",
    "# Add the predicted class columns\n",
    "clustered_df[\"class\"] = model.labels_\n",
    "\n",
    "\n",
    "#  Add a new column, \"CoinName\" to the clustered_df DataFrame that holds the names of the cryptocurrencies. \n",
    "clustered_df[\"CoinName\"] = coin_df\n",
    "\n",
    "# Print the shape of the clustered_df\n",
    "print(clustered_df.shape)\n",
    "clustered_df.head(10)"
   ],
   "outputs": [
    {
     "output_type": "stream",
     "name": "stdout",
     "text": [
      "(532, 9)\n"
     ]
    },
    {
     "output_type": "execute_result",
     "data": {
      "text/html": [
       "<div>\n",
       "<style scoped>\n",
       "    .dataframe tbody tr th:only-of-type {\n",
       "        vertical-align: middle;\n",
       "    }\n",
       "\n",
       "    .dataframe tbody tr th {\n",
       "        vertical-align: top;\n",
       "    }\n",
       "\n",
       "    .dataframe thead th {\n",
       "        text-align: right;\n",
       "    }\n",
       "</style>\n",
       "<table border=\"1\" class=\"dataframe\">\n",
       "  <thead>\n",
       "    <tr style=\"text-align: right;\">\n",
       "      <th></th>\n",
       "      <th>Algorithm</th>\n",
       "      <th>ProofType</th>\n",
       "      <th>TotalCoinsMined</th>\n",
       "      <th>TotalCoinSupply</th>\n",
       "      <th>PC1</th>\n",
       "      <th>PC2</th>\n",
       "      <th>PC3</th>\n",
       "      <th>class</th>\n",
       "      <th>CoinName</th>\n",
       "    </tr>\n",
       "  </thead>\n",
       "  <tbody>\n",
       "    <tr>\n",
       "      <th>42</th>\n",
       "      <td>Scrypt</td>\n",
       "      <td>PoW/PoS</td>\n",
       "      <td>4.199995e+01</td>\n",
       "      <td>42</td>\n",
       "      <td>-0.338146</td>\n",
       "      <td>1.071857</td>\n",
       "      <td>-0.426432</td>\n",
       "      <td>0</td>\n",
       "      <td>42 Coin</td>\n",
       "    </tr>\n",
       "    <tr>\n",
       "      <th>404</th>\n",
       "      <td>Scrypt</td>\n",
       "      <td>PoW/PoS</td>\n",
       "      <td>1.055185e+09</td>\n",
       "      <td>532000000</td>\n",
       "      <td>-0.321499</td>\n",
       "      <td>1.071983</td>\n",
       "      <td>-0.426509</td>\n",
       "      <td>0</td>\n",
       "      <td>404Coin</td>\n",
       "    </tr>\n",
       "    <tr>\n",
       "      <th>1337</th>\n",
       "      <td>X13</td>\n",
       "      <td>PoW/PoS</td>\n",
       "      <td>2.927942e+10</td>\n",
       "      <td>314159265359</td>\n",
       "      <td>2.292047</td>\n",
       "      <td>1.658951</td>\n",
       "      <td>-0.392447</td>\n",
       "      <td>0</td>\n",
       "      <td>EliteCoin</td>\n",
       "    </tr>\n",
       "    <tr>\n",
       "      <th>BTC</th>\n",
       "      <td>SHA-256</td>\n",
       "      <td>PoW</td>\n",
       "      <td>1.792718e+07</td>\n",
       "      <td>21000000</td>\n",
       "      <td>-0.152803</td>\n",
       "      <td>-1.310102</td>\n",
       "      <td>0.178866</td>\n",
       "      <td>1</td>\n",
       "      <td>Bitcoin</td>\n",
       "    </tr>\n",
       "    <tr>\n",
       "      <th>ETH</th>\n",
       "      <td>Ethash</td>\n",
       "      <td>PoW</td>\n",
       "      <td>1.076842e+08</td>\n",
       "      <td>0</td>\n",
       "      <td>-0.148274</td>\n",
       "      <td>-2.040160</td>\n",
       "      <td>0.265101</td>\n",
       "      <td>1</td>\n",
       "      <td>Ethereum</td>\n",
       "    </tr>\n",
       "    <tr>\n",
       "      <th>LTC</th>\n",
       "      <td>Scrypt</td>\n",
       "      <td>PoW</td>\n",
       "      <td>6.303924e+07</td>\n",
       "      <td>84000000</td>\n",
       "      <td>-0.160199</td>\n",
       "      <td>-1.098246</td>\n",
       "      <td>-0.045338</td>\n",
       "      <td>1</td>\n",
       "      <td>Litecoin</td>\n",
       "    </tr>\n",
       "    <tr>\n",
       "      <th>DASH</th>\n",
       "      <td>X11</td>\n",
       "      <td>PoW/PoS</td>\n",
       "      <td>9.031294e+06</td>\n",
       "      <td>22000000</td>\n",
       "      <td>-0.409285</td>\n",
       "      <td>1.203804</td>\n",
       "      <td>-0.310373</td>\n",
       "      <td>0</td>\n",
       "      <td>Dash</td>\n",
       "    </tr>\n",
       "    <tr>\n",
       "      <th>XMR</th>\n",
       "      <td>CryptoNight-V7</td>\n",
       "      <td>PoW</td>\n",
       "      <td>1.720114e+07</td>\n",
       "      <td>0</td>\n",
       "      <td>-0.144910</td>\n",
       "      <td>-2.252604</td>\n",
       "      <td>0.406587</td>\n",
       "      <td>1</td>\n",
       "      <td>Monero</td>\n",
       "    </tr>\n",
       "    <tr>\n",
       "      <th>ETC</th>\n",
       "      <td>Ethash</td>\n",
       "      <td>PoW</td>\n",
       "      <td>1.133597e+08</td>\n",
       "      <td>210000000</td>\n",
       "      <td>-0.146717</td>\n",
       "      <td>-2.040269</td>\n",
       "      <td>0.265100</td>\n",
       "      <td>1</td>\n",
       "      <td>Ethereum Classic</td>\n",
       "    </tr>\n",
       "    <tr>\n",
       "      <th>ZEC</th>\n",
       "      <td>Equihash</td>\n",
       "      <td>PoW</td>\n",
       "      <td>7.383056e+06</td>\n",
       "      <td>21000000</td>\n",
       "      <td>-0.170128</td>\n",
       "      <td>-1.979673</td>\n",
       "      <td>0.456434</td>\n",
       "      <td>1</td>\n",
       "      <td>ZCash</td>\n",
       "    </tr>\n",
       "  </tbody>\n",
       "</table>\n",
       "</div>"
      ],
      "text/plain": [
       "           Algorithm ProofType  TotalCoinsMined TotalCoinSupply       PC1  \\\n",
       "42            Scrypt   PoW/PoS     4.199995e+01              42 -0.338146   \n",
       "404           Scrypt   PoW/PoS     1.055185e+09       532000000 -0.321499   \n",
       "1337             X13   PoW/PoS     2.927942e+10    314159265359  2.292047   \n",
       "BTC          SHA-256       PoW     1.792718e+07        21000000 -0.152803   \n",
       "ETH           Ethash       PoW     1.076842e+08               0 -0.148274   \n",
       "LTC           Scrypt       PoW     6.303924e+07        84000000 -0.160199   \n",
       "DASH             X11   PoW/PoS     9.031294e+06        22000000 -0.409285   \n",
       "XMR   CryptoNight-V7       PoW     1.720114e+07               0 -0.144910   \n",
       "ETC           Ethash       PoW     1.133597e+08       210000000 -0.146717   \n",
       "ZEC         Equihash       PoW     7.383056e+06        21000000 -0.170128   \n",
       "\n",
       "           PC2       PC3  class          CoinName  \n",
       "42    1.071857 -0.426432      0           42 Coin  \n",
       "404   1.071983 -0.426509      0           404Coin  \n",
       "1337  1.658951 -0.392447      0         EliteCoin  \n",
       "BTC  -1.310102  0.178866      1           Bitcoin  \n",
       "ETH  -2.040160  0.265101      1          Ethereum  \n",
       "LTC  -1.098246 -0.045338      1          Litecoin  \n",
       "DASH  1.203804 -0.310373      0              Dash  \n",
       "XMR  -2.252604  0.406587      1            Monero  \n",
       "ETC  -2.040269  0.265100      1  Ethereum Classic  \n",
       "ZEC  -1.979673  0.456434      1             ZCash  "
      ]
     },
     "metadata": {},
     "execution_count": 55
    }
   ],
   "metadata": {}
  },
  {
   "cell_type": "markdown",
   "source": [
    "### Deliverable 4: Visualizing Cryptocurrencies Results\n",
    "\n",
    "#### 3D-Scatter with Clusters"
   ],
   "metadata": {}
  },
  {
   "cell_type": "code",
   "execution_count": 60,
   "source": [
    "# Creating a 3D-Scatter with the PCA data and the clusters\n",
    "import plotly.express as px\n",
    "fig = px.scatter_3d(\n",
    "     clustered_df,\n",
    "     x=\"PC3\",\n",
    "     y=\"PC2\",\n",
    "     z=\"PC1\",\n",
    "     color=\"class\",\n",
    "     hover_name=\"CoinName\", \n",
    "     hover_data=[\"Algorithm\"])\n",
    "\n",
    "fig.update_layout(legend=dict(x=0, y=1))\n",
    "fig.show()\n"
   ],
   "outputs": [
    {
     "output_type": "display_data",
     "data": {
      "application/vnd.plotly.v1+json": {
       "config": {
        "plotlyServerURL": "https://plot.ly"
       },
       "data": [
        {
         "customdata": [
          [
           "Scrypt"
          ],
          [
           "Scrypt"
          ],
          [
           "X13"
          ],
          [
           "SHA-256"
          ],
          [
           "Ethash"
          ],
          [
           "Scrypt"
          ],
          [
           "X11"
          ],
          [
           "CryptoNight-V7"
          ],
          [
           "Ethash"
          ],
          [
           "Equihash"
          ],
          [
           "SHA-512"
          ],
          [
           "Multiple"
          ],
          [
           "SHA-256"
          ],
          [
           "SHA-256"
          ],
          [
           "Scrypt"
          ],
          [
           "X15"
          ],
          [
           "X11"
          ],
          [
           "Scrypt"
          ],
          [
           "Scrypt"
          ],
          [
           "Scrypt"
          ],
          [
           "Multiple"
          ],
          [
           "Scrypt"
          ],
          [
           "SHA-256"
          ],
          [
           "Scrypt"
          ],
          [
           "Scrypt"
          ],
          [
           "Scrypt"
          ],
          [
           "Quark"
          ],
          [
           "Groestl"
          ],
          [
           "Scrypt"
          ],
          [
           "Scrypt"
          ],
          [
           "Scrypt"
          ],
          [
           "Scrypt"
          ],
          [
           "Scrypt"
          ],
          [
           "X11"
          ],
          [
           "Scrypt"
          ],
          [
           "Groestl"
          ],
          [
           "Multiple"
          ],
          [
           "SHA-256"
          ],
          [
           "Scrypt"
          ],
          [
           "Scrypt"
          ],
          [
           "Scrypt"
          ],
          [
           "Scrypt"
          ],
          [
           "PoS"
          ],
          [
           "Scrypt"
          ],
          [
           "Scrypt"
          ],
          [
           "NeoScrypt"
          ],
          [
           "Scrypt"
          ],
          [
           "Scrypt"
          ],
          [
           "Scrypt"
          ],
          [
           "Scrypt"
          ],
          [
           "X11"
          ],
          [
           "Scrypt"
          ],
          [
           "X11"
          ],
          [
           "SHA-256"
          ],
          [
           "Scrypt"
          ],
          [
           "Scrypt"
          ],
          [
           "Scrypt"
          ],
          [
           "SHA3"
          ],
          [
           "Scrypt"
          ],
          [
           "HybridScryptHash256"
          ],
          [
           "Scrypt"
          ],
          [
           "Scrypt"
          ],
          [
           "SHA-256"
          ],
          [
           "Scrypt"
          ],
          [
           "X13"
          ],
          [
           "Scrypt"
          ],
          [
           "SHA-256"
          ],
          [
           "Scrypt"
          ],
          [
           "X13"
          ],
          [
           "NeoScrypt"
          ],
          [
           "Scrypt"
          ],
          [
           "Scrypt"
          ],
          [
           "Scrypt"
          ],
          [
           "Scrypt"
          ],
          [
           "Scrypt"
          ],
          [
           "Scrypt"
          ],
          [
           "X11"
          ],
          [
           "X11"
          ],
          [
           "SHA-256"
          ],
          [
           "Multiple"
          ],
          [
           "SHA-256"
          ],
          [
           "PHI1612"
          ],
          [
           "X11"
          ],
          [
           "SHA-256"
          ],
          [
           "SHA-256"
          ],
          [
           "SHA-256"
          ],
          [
           "X11"
          ],
          [
           "Scrypt"
          ],
          [
           "Scrypt"
          ],
          [
           "Scrypt"
          ],
          [
           "Scrypt"
          ],
          [
           "Lyra2REv2"
          ],
          [
           "Scrypt"
          ],
          [
           "X11"
          ],
          [
           "Multiple"
          ],
          [
           "SHA-256"
          ],
          [
           "X13"
          ],
          [
           "Scrypt"
          ],
          [
           "CryptoNight"
          ],
          [
           "CryptoNight"
          ],
          [
           "Shabal256"
          ],
          [
           "Counterparty"
          ],
          [
           "Scrypt"
          ],
          [
           "SHA-256"
          ],
          [
           "Groestl"
          ],
          [
           "Scrypt"
          ],
          [
           "Scrypt"
          ],
          [
           "Scrypt"
          ],
          [
           "X13"
          ],
          [
           "Scrypt"
          ],
          [
           "Scrypt"
          ],
          [
           "Scrypt"
          ],
          [
           "Scrypt"
          ],
          [
           "X13"
          ],
          [
           "Scrypt"
          ],
          [
           "Stanford Folding"
          ],
          [
           "X11"
          ],
          [
           "Multiple"
          ],
          [
           "QuBit"
          ],
          [
           "Scrypt"
          ],
          [
           "Scrypt"
          ],
          [
           "Scrypt"
          ],
          [
           "M7 POW"
          ],
          [
           "Scrypt"
          ],
          [
           "SHA-256"
          ],
          [
           "Scrypt"
          ],
          [
           "X11"
          ],
          [
           "SHA3"
          ],
          [
           "X11"
          ],
          [
           "Lyra2RE"
          ],
          [
           "SHA-256"
          ],
          [
           "QUAIT"
          ],
          [
           "X11"
          ],
          [
           "X11"
          ],
          [
           "Scrypt"
          ],
          [
           "Scrypt"
          ],
          [
           "Scrypt"
          ],
          [
           "Ethash"
          ],
          [
           "X13"
          ],
          [
           "Blake2b"
          ],
          [
           "SHA-256"
          ],
          [
           "X15"
          ],
          [
           "X11"
          ],
          [
           "SHA-256"
          ],
          [
           "BLAKE256"
          ],
          [
           "Scrypt"
          ],
          [
           "1GB AES Pattern Search"
          ],
          [
           "SHA-256"
          ],
          [
           "X11"
          ],
          [
           "Scrypt"
          ],
          [
           "SHA-256"
          ],
          [
           "SHA-256"
          ],
          [
           "NIST5"
          ],
          [
           "Scrypt"
          ],
          [
           "Scrypt"
          ],
          [
           "X11"
          ],
          [
           "Dagger"
          ],
          [
           "Scrypt"
          ],
          [
           "X11GOST"
          ],
          [
           "X11"
          ],
          [
           "Scrypt"
          ],
          [
           "SHA-256"
          ],
          [
           "Scrypt"
          ],
          [
           "PoS"
          ],
          [
           "Scrypt"
          ],
          [
           "X11"
          ],
          [
           "X11"
          ],
          [
           "SHA-256"
          ],
          [
           "SHA-256"
          ],
          [
           "NIST5"
          ],
          [
           "X11"
          ],
          [
           "Scrypt"
          ],
          [
           "POS 3.0"
          ],
          [
           "Scrypt"
          ],
          [
           "Scrypt"
          ],
          [
           "Scrypt"
          ],
          [
           "X13"
          ],
          [
           "X11"
          ],
          [
           "X11"
          ],
          [
           "Equihash"
          ],
          [
           "X11"
          ],
          [
           "Scrypt"
          ],
          [
           "CryptoNight"
          ],
          [
           "SHA-256"
          ],
          [
           "SHA-256"
          ],
          [
           "X11"
          ],
          [
           "Scrypt"
          ],
          [
           "Multiple"
          ],
          [
           "Scrypt"
          ],
          [
           "Scrypt"
          ],
          [
           "Scrypt"
          ],
          [
           "SHA-256"
          ],
          [
           "Scrypt"
          ],
          [
           "Scrypt"
          ],
          [
           "SHA-256D"
          ],
          [
           "PoS"
          ],
          [
           "Scrypt"
          ],
          [
           "X11"
          ],
          [
           "Lyra2Z"
          ],
          [
           "PoS"
          ],
          [
           "X13"
          ],
          [
           "X14"
          ],
          [
           "PoS"
          ],
          [
           "SHA-256D"
          ],
          [
           "Ethash"
          ],
          [
           "Equihash"
          ],
          [
           "DPoS"
          ],
          [
           "X11"
          ],
          [
           "Scrypt"
          ],
          [
           "X11"
          ],
          [
           "X13"
          ],
          [
           "X11"
          ],
          [
           "PoS"
          ],
          [
           "Scrypt"
          ],
          [
           "Scrypt"
          ],
          [
           "X11"
          ],
          [
           "PoS"
          ],
          [
           "X11"
          ],
          [
           "SHA-256"
          ],
          [
           "Scrypt"
          ],
          [
           "X11"
          ],
          [
           "Scrypt"
          ],
          [
           "Scrypt"
          ],
          [
           "X11"
          ],
          [
           "CryptoNight"
          ],
          [
           "Scrypt"
          ],
          [
           "Scrypt"
          ],
          [
           "Scrypt"
          ],
          [
           "Scrypt"
          ],
          [
           "Quark"
          ],
          [
           "QuBit"
          ],
          [
           "Scrypt"
          ],
          [
           "CryptoNight"
          ],
          [
           "Lyra2RE"
          ],
          [
           "Scrypt"
          ],
          [
           "SHA-256"
          ],
          [
           "X11"
          ],
          [
           "Scrypt"
          ],
          [
           "X11"
          ],
          [
           "Scrypt"
          ],
          [
           "CryptoNight-V7"
          ],
          [
           "Scrypt"
          ],
          [
           "Scrypt"
          ],
          [
           "Scrypt"
          ],
          [
           "X13"
          ],
          [
           "X11"
          ],
          [
           "Equihash"
          ],
          [
           "Scrypt"
          ],
          [
           "Scrypt"
          ],
          [
           "Lyra2RE"
          ],
          [
           "Scrypt"
          ],
          [
           "Dagger-Hashimoto"
          ],
          [
           "X11"
          ],
          [
           "Blake2S"
          ],
          [
           "X11"
          ],
          [
           "Scrypt"
          ],
          [
           "PoS"
          ],
          [
           "X11"
          ],
          [
           "NIST5"
          ],
          [
           "PoS"
          ],
          [
           "X11"
          ],
          [
           "Scrypt"
          ],
          [
           "Scrypt"
          ],
          [
           "Scrypt"
          ],
          [
           "SHA-256"
          ],
          [
           "X11"
          ],
          [
           "Scrypt"
          ],
          [
           "Scrypt"
          ],
          [
           "SHA-256"
          ],
          [
           "PoS"
          ],
          [
           "Scrypt"
          ],
          [
           "X15"
          ],
          [
           "SHA-256"
          ],
          [
           "Scrypt"
          ],
          [
           "POS 3.0"
          ],
          [
           "CryptoNight-V7"
          ],
          [
           "536"
          ],
          [
           "Argon2d"
          ],
          [
           "Blake2b"
          ],
          [
           "Cloverhash"
          ],
          [
           "CryptoNight"
          ],
          [
           "NIST5"
          ],
          [
           "X11"
          ],
          [
           "NIST5"
          ],
          [
           "Skein"
          ],
          [
           "Scrypt"
          ],
          [
           "X13"
          ],
          [
           "Scrypt"
          ],
          [
           "X11"
          ],
          [
           "X11"
          ],
          [
           "Scrypt"
          ],
          [
           "CryptoNight"
          ],
          [
           "X13"
          ],
          [
           "Time Travel"
          ],
          [
           "Scrypt"
          ],
          [
           "Keccak"
          ],
          [
           "SkunkHash v2 Raptor"
          ],
          [
           "X11"
          ],
          [
           "Skein"
          ],
          [
           "SHA-256"
          ],
          [
           "X11"
          ],
          [
           "Scrypt"
          ],
          [
           "VeChainThor Authority"
          ],
          [
           "Scrypt"
          ],
          [
           "PoS"
          ],
          [
           "Scrypt"
          ],
          [
           "Scrypt"
          ],
          [
           "Scrypt"
          ],
          [
           "Scrypt"
          ],
          [
           "Scrypt"
          ],
          [
           "Scrypt"
          ],
          [
           "Scrypt"
          ],
          [
           "CryptoNight"
          ],
          [
           "SHA-512"
          ],
          [
           "Ouroboros"
          ],
          [
           "X11"
          ],
          [
           "Equihash"
          ],
          [
           "NeoScrypt"
          ],
          [
           "X11"
          ],
          [
           "Scrypt"
          ],
          [
           "NeoScrypt"
          ],
          [
           "Lyra2REv2"
          ],
          [
           "Equihash"
          ],
          [
           "Scrypt"
          ],
          [
           "SHA-256"
          ],
          [
           "NIST5"
          ],
          [
           "PHI1612"
          ],
          [
           "Dagger"
          ],
          [
           "Scrypt"
          ],
          [
           "Quark"
          ],
          [
           "Scrypt"
          ],
          [
           "POS 2.0"
          ],
          [
           "Scrypt"
          ],
          [
           "SHA-256"
          ],
          [
           "X11"
          ],
          [
           "NeoScrypt"
          ],
          [
           "Ethash"
          ],
          [
           "NeoScrypt"
          ],
          [
           "X11"
          ],
          [
           "DPoS"
          ],
          [
           "NIST5"
          ],
          [
           "X13"
          ],
          [
           "Multiple"
          ],
          [
           "Scrypt"
          ],
          [
           "CryptoNight"
          ],
          [
           "CryptoNight"
          ],
          [
           "Ethash"
          ],
          [
           "NIST5"
          ],
          [
           "Quark"
          ],
          [
           "X11"
          ],
          [
           "CryptoNight-V7"
          ],
          [
           "Scrypt"
          ],
          [
           "Scrypt"
          ],
          [
           "Scrypt"
          ],
          [
           "X11"
          ],
          [
           "BLAKE256"
          ],
          [
           "X11"
          ],
          [
           "NeoScrypt"
          ],
          [
           "Quark"
          ],
          [
           "NeoScrypt"
          ],
          [
           "Scrypt"
          ],
          [
           "Scrypt"
          ],
          [
           "Scrypt"
          ],
          [
           "X11"
          ],
          [
           "X11"
          ],
          [
           "SHA-256"
          ],
          [
           "C11"
          ],
          [
           "POS 3.0"
          ],
          [
           "Ethash"
          ],
          [
           "Scrypt"
          ],
          [
           "CryptoNight"
          ],
          [
           "SkunkHash"
          ],
          [
           "Scrypt"
          ],
          [
           "CryptoNight"
          ],
          [
           "Scrypt"
          ],
          [
           "Dagger"
          ],
          [
           "Lyra2REv2"
          ],
          [
           "X13"
          ],
          [
           "Proof-of-BibleHash"
          ],
          [
           "SHA-256 + Hive"
          ],
          [
           "Scrypt"
          ],
          [
           "Scrypt"
          ],
          [
           "X11"
          ],
          [
           "C11"
          ],
          [
           "Proof-of-Authority"
          ],
          [
           "X11"
          ],
          [
           "XEVAN"
          ],
          [
           "Scrypt"
          ],
          [
           "VBFT"
          ],
          [
           "Ethash"
          ],
          [
           "CryptoNight"
          ],
          [
           "Scrypt"
          ],
          [
           "IMesh"
          ],
          [
           "NIST5"
          ],
          [
           "Scrypt"
          ],
          [
           "Scrypt"
          ],
          [
           "Equihash"
          ],
          [
           "Scrypt"
          ],
          [
           "Lyra2Z"
          ],
          [
           "Green Protocol"
          ],
          [
           "PoS"
          ],
          [
           "Scrypt"
          ],
          [
           "Semux BFT consensus"
          ],
          [
           "X11"
          ],
          [
           "Quark"
          ],
          [
           "PoS"
          ],
          [
           "CryptoNight"
          ],
          [
           "X16R"
          ],
          [
           "Scrypt"
          ],
          [
           "NIST5"
          ],
          [
           "Lyra2RE"
          ],
          [
           "XEVAN"
          ],
          [
           "Tribus"
          ],
          [
           "Scrypt"
          ],
          [
           "Lyra2Z"
          ],
          [
           "CryptoNight"
          ],
          [
           "CryptoNight Heavy"
          ],
          [
           "CryptoNight"
          ],
          [
           "Scrypt"
          ],
          [
           "Scrypt"
          ],
          [
           "Jump Consistent Hash"
          ],
          [
           "SHA-256D"
          ],
          [
           "CryptoNight"
          ],
          [
           "Scrypt"
          ],
          [
           "X15"
          ],
          [
           "Scrypt"
          ],
          [
           "Quark"
          ],
          [
           "SHA-256"
          ],
          [
           "DPoS"
          ],
          [
           "X16R"
          ],
          [
           "HMQ1725"
          ],
          [
           "X11"
          ],
          [
           "X16R"
          ],
          [
           "Quark"
          ],
          [
           "Quark"
          ],
          [
           "Scrypt"
          ],
          [
           "Lyra2REv2"
          ],
          [
           "Quark"
          ],
          [
           "Scrypt"
          ],
          [
           "Scrypt"
          ],
          [
           "CryptoNight-V7"
          ],
          [
           "Cryptonight-GPU"
          ],
          [
           "XEVAN"
          ],
          [
           "CryptoNight Heavy"
          ],
          [
           "X11"
          ],
          [
           "X11"
          ],
          [
           "Scrypt"
          ],
          [
           "PoS"
          ],
          [
           "SHA-256"
          ],
          [
           "Keccak"
          ],
          [
           "X11"
          ],
          [
           "X11"
          ],
          [
           "Scrypt"
          ],
          [
           "SHA-512"
          ],
          [
           "X16R"
          ],
          [
           "ECC 256K1"
          ],
          [
           "Equihash"
          ],
          [
           "XEVAN"
          ],
          [
           "Lyra2Z"
          ],
          [
           "SHA-256"
          ],
          [
           "XEVAN"
          ],
          [
           "X11"
          ],
          [
           "CryptoNight"
          ],
          [
           "Quark"
          ],
          [
           "Blake"
          ],
          [
           "Blake"
          ],
          [
           "Equihash"
          ],
          [
           "Exosis"
          ],
          [
           "Scrypt"
          ],
          [
           "Scrypt"
          ],
          [
           "Equihash"
          ],
          [
           "Quark"
          ],
          [
           "Equihash"
          ],
          [
           "Quark"
          ],
          [
           "Scrypt"
          ],
          [
           "QuBit"
          ],
          [
           "X11"
          ],
          [
           "Scrypt"
          ],
          [
           "XEVAN"
          ],
          [
           "SHA-256D"
          ],
          [
           "X11"
          ],
          [
           "SHA-256"
          ],
          [
           "X13"
          ],
          [
           "SHA-256"
          ],
          [
           "X11"
          ],
          [
           "DPoS"
          ],
          [
           "Scrypt"
          ],
          [
           "Scrypt"
          ],
          [
           "X11"
          ],
          [
           "NeoScrypt"
          ],
          [
           "Scrypt"
          ],
          [
           "Blake"
          ],
          [
           "Scrypt"
          ],
          [
           "SHA-256"
          ],
          [
           "Scrypt"
          ],
          [
           "X11"
          ],
          [
           "Scrypt"
          ],
          [
           "Scrypt"
          ],
          [
           "SHA-256"
          ],
          [
           "X11"
          ],
          [
           "SHA-256"
          ],
          [
           "Scrypt"
          ],
          [
           "Scrypt"
          ],
          [
           "Scrypt"
          ],
          [
           "Groestl"
          ],
          [
           "X11"
          ],
          [
           "Scrypt"
          ],
          [
           "PoS"
          ],
          [
           "Scrypt"
          ],
          [
           "Scrypt"
          ],
          [
           "X11"
          ],
          [
           "SHA-256"
          ],
          [
           "DPoS"
          ],
          [
           "Scrypt"
          ],
          [
           "Scrypt"
          ],
          [
           "NeoScrypt"
          ],
          [
           "Multiple"
          ],
          [
           "X13"
          ],
          [
           "Equihash+Scrypt"
          ],
          [
           "DPoS"
          ],
          [
           "Ethash"
          ],
          [
           "DPoS"
          ],
          [
           "SHA-256"
          ],
          [
           "Leased POS"
          ],
          [
           "PoS"
          ],
          [
           "TRC10"
          ],
          [
           "PoS"
          ],
          [
           "SHA-256"
          ],
          [
           "Scrypt"
          ],
          [
           "CryptoNight"
          ],
          [
           "Equihash"
          ],
          [
           "Scrypt"
          ]
         ],
         "hovertemplate": "<b>%{hovertext}</b><br><br>PC3=%{x}<br>PC2=%{y}<br>PC1=%{z}<br>Algorithm=%{customdata[0]}<br>class=%{marker.color}<extra></extra>",
         "hovertext": [
          "42 Coin",
          "404Coin",
          "EliteCoin",
          "Bitcoin",
          "Ethereum",
          "Litecoin",
          "Dash",
          "Monero",
          "Ethereum Classic",
          "ZCash",
          "Bitshares",
          "DigiByte",
          "BitcoinDark",
          "PayCoin",
          "ProsperCoin",
          "KoboCoin",
          "Spreadcoin",
          "Argentum",
          "Aurora Coin",
          "BlueCoin",
          "MyriadCoin",
          "MoonCoin",
          "ZetaCoin",
          "SexCoin",
          "Quatloo",
          "EnergyCoin",
          "QuarkCoin",
          "Riecoin",
          "Digitalcoin ",
          "BitBar",
          "Catcoin",
          "CryptoBullion",
          "CannaCoin",
          "CryptCoin",
          "CasinoCoin",
          "Diamond",
          "Verge",
          "DevCoin",
          "EarthCoin",
          "E-Gulden",
          "Einsteinium",
          "Emerald",
          "Exclusive Coin",
          "FlutterCoin",
          "Franko",
          "FeatherCoin",
          "GrandCoin",
          "GlobalCoin",
          "GoldCoin",
          "HoboNickels",
          "HyperStake",
          "Infinite Coin",
          "IOCoin",
          "IXcoin",
          "KrugerCoin",
          "LuckyCoin",
          "Litebar ",
          "MaxCoin",
          "MegaCoin",
          "MediterraneanCoin",
          "MintCoin",
          "MinCoin",
          "MazaCoin",
          "Nautilus Coin",
          "NavCoin",
          "NobleCoin",
          "Namecoin",
          "NyanCoin",
          "OpalCoin",
          "Orbitcoin",
          "PotCoin",
          "PhoenixCoin",
          "Reddcoin",
          "RonPaulCoin",
          "StableCoin",
          "SmartCoin",
          "SuperCoin",
          "SyncCoin",
          "SysCoin",
          "TeslaCoin",
          "TigerCoin",
          "TittieCoin",
          "TorCoin",
          "TerraCoin",
          "UnbreakableCoin",
          "Unobtanium",
          "UroCoin",
          "UnitaryStatus Dollar",
          "UltraCoin",
          "ViaCoin",
          "VeriCoin",
          "Vertcoin",
          "WorldCoin",
          "X11 Coin",
          "Crypti",
          "JouleCoin",
          "StealthCoin",
          "ZCC Coin",
          "ByteCoin",
          "DigitalNote ",
          "BurstCoin",
          "StorjCoin",
          "MonaCoin",
          "Neutron",
          "FairCoin",
          "Gulden",
          "RubyCoin",
          "PesetaCoin",
          "Kore",
          "Wild Beast Coin",
          "Dnotes",
          "Flo",
          "8BIT Coin",
          "Sativa Coin",
          "ArtByte",
          "Folding Coin",
          "Ucoin",
          "Unitus",
          "CypherPunkCoin",
          "OmniCron",
          "Vtorrent",
          "GreenCoin",
          "Cryptonite",
          "MasterCoin",
          "SoonCoin",
          "1Credit",
          "IslaCoin",
          "Nexus",
          "MarsCoin ",
          "Crypto",
          "Anarchists Prime",
          "Droidz",
          "BowsCoin",
          "Squall Coin",
          "Song Coin",
          "BitZeny",
          "Diggits",
          "Expanse",
          "Paycon",
          "Siacoin",
          "Emercoin",
          "EverGreenCoin",
          "MindCoin",
          "I0coin",
          "Decred",
          "Revolution VR",
          "HOdlcoin",
          "EDRCoin",
          "Hitcoin",
          "Gamecredits",
          "DubaiCoin",
          "CarpeDiemCoin",
          "PWR Coin",
          "BillaryCoin",
          "GPU Coin",
          "Adzcoin",
          "SoilCoin",
          "YoCoin",
          "SibCoin",
          "EuropeCoin",
          "ZeitCoin",
          "SwingCoin",
          "SafeExchangeCoin",
          "Nebuchadnezzar",
          "Francs",
          "BolivarCoin",
          "Ratecoin",
          "Revenu",
          "Clockcoin",
          "VIP Tokens",
          "BitSend",
          "Omni",
          "Let it Ride",
          "PutinCoin",
          "iBankCoin",
          "Frankywillcoin",
          "MudraCoin",
          "PizzaCoin",
          "Lutetium Coin",
          "Komodo",
          "GoldBlocks",
          "CarterCoin",
          "Karbo",
          "BitTokens",
          "ZayedCoin",
          "MustangCoin",
          "ZoneCoin",
          "Circuits of Value",
          "RootCoin",
          "DopeCoin",
          "BitCurrency",
          "DollarCoin",
          "Swiscoin",
          "Shilling",
          "BuzzCoin",
          "Opair",
          "PesoBit",
          "Halloween Coin",
          "ZCoin",
          "CoffeeCoin",
          "RoyalCoin",
          "GanjaCoin V2",
          "TeamUP",
          "LanaCoin",
          "Elementrem",
          "ZClassic",
          "ARK",
          "InsaneCoin",
          "KiloCoin",
          "ArtexCoin",
          "EmberCoin",
          "XenixCoin",
          "FreeCoin",
          "PLNCoin",
          "AquariusCoin",
          "Kurrent",
          "Creatio",
          "Eternity",
          "Eurocoin",
          "BitcoinFast",
          "Stakenet",
          "BitConnect Coin",
          "MoneyCoin",
          "Enigma",
          "Cannabis Industry Coin",
          "Russiacoin",
          "PandaCoin",
          "GameUnits",
          "GAKHcoin",
          "Allsafe",
          "LiteCreed",
          "OsmiumCoin",
          "Bikercoins",
          "HexxCoin",
          "Klingon Empire Darsek",
          "Internet of People",
          "KushCoin",
          "Printerium",
          "PacCoin",
          "Impeach",
          "Citadel",
          "Zilbercoin",
          "FirstCoin",
          "BeaverCoin",
          "FindCoin",
          "VaultCoin",
          "Zero",
          "OpenChat",
          "Canada eCoin",
          "Zoin",
          "RenosCoin",
          "DubaiCoin",
          "VirtacoinPlus",
          "TajCoin",
          "Impact",
          "EB3coin",
          "Atmos",
          "HappyCoin",
          "Coinonat",
          "MacronCoin",
          "Condensate",
          "Independent Money System",
          "ArgusCoin",
          "LomoCoin",
          "ProCurrency",
          "GoldReserve",
          "BenjiRolls",
          "GrowthCoin",
          "ILCoin",
          "Phreak",
          "Degas Coin",
          "HTML5 Coin",
          "Ultimate Secure Cash",
          "EquiTrader",
          "QTUM",
          "Quantum Resistant Ledger",
          "Espers",
          "Dynamic",
          "Nano",
          "ChanCoin",
          "Dinastycoin",
          "Denarius",
          "DigitalPrice",
          "Virta Unique Coin",
          "Bitcoin Planet",
          "Unify",
          "BritCoin",
          "SocialCoin",
          "ArcticCoin",
          "DAS",
          "Linda",
          "LeviarCoin",
          "DeepOnion",
          "Bitcore",
          "gCn Coin",
          "SmartCash",
          "Signatum",
          "Onix",
          "Cream",
          "Bitcoin Cash",
          "Monoeci",
          "Draftcoin",
          "Vechain",
          "Sojourn Coin",
          "Stakecoin",
          "NewYorkCoin",
          "FrazCoin",
          "Kronecoin",
          "AdCoin",
          "Linx",
          "CoinonatX",
          "Ethereum Dark",
          "Sumokoin",
          "Obsidian",
          "Cardano",
          "Regalcoin",
          "BitcoinZ",
          "TrezarCoin",
          "Elements",
          "TerraNovaCoin",
          "VIVO Coin",
          "Rupee",
          "Bitcoin Gold",
          "WomenCoin",
          "Theresa May Coin",
          "NamoCoin",
          "LUXCoin",
          "Pirl",
          "Xios",
          "Bitcloud 2.0",
          "eBoost",
          "KekCoin",
          "BlackholeCoin",
          "Infinity Economics",
          "Pura",
          "Innova",
          "Ellaism",
          "GoByte",
          "Magnet",
          "Lamden Tau",
          "Electra",
          "Bitcoin Diamond",
          "SHIELD",
          "Cash & Back Coin",
          "UltraNote",
          "BitCoal",
          "DaxxCoin",
          "Bulwark",
          "Kalkulus",
          "AC3",
          "Lethean",
          "GermanCoin",
          "LiteCoin Ultra",
          "PopularCoin",
          "PhantomX",
          "Photon",
          "Sucre",
          "SparksPay",
          "Digiwage",
          "GunCoin",
          "IrishCoin",
          "Trollcoin",
          "Litecoin Plus",
          "Monkey Project",
          "Pioneer Coin",
          "UnitedBitcoin",
          "Interzone",
          "TokenPay",
          "1717 Masonic Commemorative Token",
          "My Big Coin",
          "TurtleCoin",
          "MUNcoin",
          "Unified Society USDEX",
          "Niobio Cash",
          "ShareChain",
          "Travelflex",
          "KREDS",
          "Tokyo Coin",
          "BiblePay",
          "LitecoinCash",
          "BitFlip",
          "LottoCoin",
          "Crypto Improvement Fund",
          "Stipend",
          "Poa Network",
          "Pushi",
          "Ellerium",
          "Velox",
          "Ontology",
          "Callisto Network",
          "BitTube",
          "Poseidon",
          "Aidos Kuneen",
          "Bitspace",
          "Briacoin",
          "Ignition",
          "Bitrolium",
          "MedicCoin",
          "Alpenschillling",
          "Bitcoin Green",
          "Deviant Coin",
          "Abjcoin",
          "Semux",
          "FuturoCoin",
          "Carebit",
          "Zealium",
          "Monero Classic",
          "Proton",
          "iDealCash",
          "Jumpcoin",
          "Infinex",
          "Bitcoin Incognito",
          "KEYCO",
          "HollyWoodCoin",
          "GINcoin",
          "PlatinCoin",
          "Loki",
          "Newton Coin",
          "Swisscoin",
          "Xt3ch",
          "MassGrid",
          "TheVig",
          "PluraCoin",
          "EmaratCoin",
          "Dekado",
          "Lynx",
          "Poseidon Quark",
          "BitcoinWSpectrum",
          "Muse",
          "Motion",
          "PlusOneCoin",
          "Axe",
          "Trivechain",
          "Dystem",
          "Giant",
          "Peony Coin",
          "Absolute Coin",
          "Vitae",
          "HexCoin",
          "TPCash",
          "Webchain",
          "Ryo",
          "Urals Coin",
          "Qwertycoin",
          "ARENON",
          "EUNO",
          "MMOCoin",
          "Ketan",
          "Project Pai",
          "XDNA",
          "PAXEX",
          "Azart",
          "ThunderStake",
          "Kcash",
          "Xchange",
          "Acute Angle Cloud",
          "CrypticCoin",
          "Bettex coin",
          "Actinium",
          "Bitcoin SV",
          "BitMoney",
          "Junson Ming Chan Coin",
          "FREDEnergy",
          "HerbCoin",
          "Universal Molecule",
          "Lithium",
          "PirateCash",
          "Exosis",
          "Block-Logic",
          "Oduwa",
          "Beam",
          "Galilel",
          "Bithereum",
          "Crypto Sports",
          "Credit",
          "SLICE",
          "Dash Platinum",
          "Nasdacoin",
          "Beetle Coin",
          "Titan Coin",
          "Award",
          "BLAST",
          "Bitcoin Rhodium",
          "GlobalToken",
          "Insane Coin",
          "ALAX",
          "LiteDoge",
          "SolarCoin",
          "TruckCoin",
          "UFO Coin",
          "OrangeCoin",
          "BlakeCoin",
          "BitstarCoin",
          "NeosCoin",
          "HyperCoin",
          "PinkCoin",
          "Crypto Escudo",
          "AudioCoin",
          "IncaKoin",
          "Piggy Coin",
          "Crown Coin",
          "Genstake",
          "SmileyCoin",
          "XiaoMiCoin",
          "Groestlcoin",
          "CapriCoin",
          " ClubCoin",
          "Radium",
          "Bata",
          "Pakcoin",
          "Creditbit ",
          "OKCash",
          "Lisk",
          "HiCoin",
          "WhiteCoin",
          "FriendshipCoin",
          "JoinCoin",
          "Triangles Coin",
          "Vollar",
          "EOS",
          "Reality Clash",
          "Oxycoin",
          "TigerCash",
          "Waves",
          "Particl",
          "BitTorrent",
          "Nxt",
          "ZEPHYR",
          "Gapcoin",
          "Beldex",
          "Horizen",
          "BitcoinPlus"
         ],
         "legendgroup": "",
         "marker": {
          "color": [
           0,
           0,
           0,
           1,
           1,
           1,
           0,
           1,
           1,
           1,
           0,
           1,
           0,
           0,
           1,
           0,
           1,
           1,
           0,
           0,
           1,
           1,
           1,
           1,
           1,
           0,
           1,
           1,
           1,
           0,
           1,
           0,
           1,
           1,
           0,
           0,
           1,
           1,
           1,
           1,
           1,
           1,
           0,
           0,
           1,
           1,
           1,
           1,
           1,
           0,
           0,
           1,
           0,
           1,
           1,
           1,
           1,
           0,
           1,
           1,
           0,
           1,
           0,
           0,
           0,
           1,
           1,
           1,
           0,
           0,
           0,
           0,
           0,
           1,
           1,
           1,
           0,
           0,
           1,
           0,
           1,
           0,
           0,
           1,
           1,
           1,
           1,
           0,
           0,
           1,
           0,
           1,
           1,
           0,
           0,
           1,
           0,
           0,
           1,
           1,
           0,
           0,
           1,
           0,
           0,
           1,
           0,
           1,
           0,
           1,
           0,
           1,
           0,
           0,
           1,
           1,
           0,
           1,
           1,
           1,
           0,
           1,
           1,
           1,
           1,
           1,
           0,
           0,
           1,
           1,
           1,
           0,
           1,
           0,
           1,
           1,
           0,
           1,
           0,
           1,
           0,
           0,
           1,
           1,
           0,
           1,
           1,
           0,
           0,
           1,
           0,
           1,
           0,
           0,
           0,
           1,
           1,
           1,
           1,
           0,
           0,
           0,
           0,
           0,
           1,
           1,
           0,
           0,
           0,
           0,
           0,
           1,
           0,
           0,
           0,
           0,
           0,
           1,
           0,
           1,
           0,
           0,
           1,
           0,
           1,
           0,
           0,
           1,
           0,
           1,
           0,
           1,
           0,
           1,
           0,
           0,
           0,
           0,
           1,
           0,
           0,
           0,
           0,
           0,
           1,
           1,
           0,
           0,
           1,
           1,
           0,
           0,
           0,
           0,
           0,
           1,
           0,
           0,
           0,
           0,
           0,
           0,
           0,
           0,
           1,
           0,
           0,
           0,
           0,
           0,
           0,
           1,
           1,
           1,
           0,
           0,
           0,
           0,
           1,
           0,
           1,
           0,
           0,
           1,
           0,
           1,
           1,
           0,
           1,
           1,
           0,
           1,
           0,
           0,
           0,
           1,
           0,
           0,
           1,
           0,
           0,
           0,
           0,
           0,
           0,
           0,
           1,
           0,
           1,
           0,
           0,
           0,
           0,
           1,
           0,
           1,
           0,
           1,
           1,
           1,
           1,
           0,
           1,
           0,
           0,
           1,
           0,
           1,
           1,
           1,
           0,
           1,
           0,
           1,
           1,
           1,
           0,
           1,
           0,
           1,
           0,
           0,
           0,
           1,
           0,
           1,
           1,
           1,
           1,
           1,
           0,
           0,
           1,
           0,
           0,
           0,
           1,
           0,
           1,
           0,
           1,
           0,
           1,
           0,
           0,
           0,
           0,
           1,
           0,
           0,
           1,
           0,
           0,
           0,
           1,
           1,
           1,
           1,
           0,
           0,
           0,
           0,
           1,
           0,
           1,
           1,
           1,
           0,
           0,
           1,
           1,
           0,
           0,
           1,
           0,
           1,
           1,
           1,
           0,
           1,
           1,
           0,
           0,
           0,
           1,
           1,
           1,
           0,
           0,
           0,
           1,
           1,
           0,
           1,
           1,
           1,
           1,
           0,
           3,
           3,
           1,
           1,
           1,
           0,
           0,
           0,
           0,
           0,
           0,
           1,
           1,
           1,
           1,
           0,
           0,
           0,
           1,
           0,
           1,
           0,
           0,
           0,
           0,
           1,
           0,
           0,
           1,
           0,
           0,
           1,
           1,
           0,
           1,
           0,
           1,
           1,
           1,
           1,
           0,
           0,
           1,
           0,
           1,
           0,
           0,
           0,
           0,
           0,
           0,
           1,
           1,
           1,
           0,
           0,
           0,
           0,
           0,
           0,
           1,
           0,
           1,
           1,
           1,
           1,
           0,
           0,
           0,
           0,
           1,
           0,
           0,
           1,
           0,
           0,
           1,
           3,
           1,
           0,
           1,
           1,
           0,
           0,
           1,
           0,
           1,
           1,
           0,
           1,
           1,
           0,
           1,
           0,
           1,
           0,
           0,
           1,
           0,
           0,
           0,
           0,
           0,
           1,
           1,
           1,
           0,
           0,
           0,
           1,
           0,
           1,
           0,
           1,
           0,
           0,
           0,
           0,
           1,
           0,
           0,
           0,
           1,
           0,
           1,
           0,
           1,
           0,
           0,
           0,
           1,
           1,
           0,
           0,
           0,
           0,
           0,
           0,
           1,
           0,
           1,
           0,
           1,
           0,
           0,
           3,
           0,
           2,
           0,
           0,
           0,
           1,
           1,
           0
          ],
          "coloraxis": "coloraxis",
          "symbol": "circle"
         },
         "mode": "markers",
         "name": "",
         "scene": "scene",
         "showlegend": false,
         "type": "scatter3d",
         "x": [
          -0.4264324444096806,
          -0.426508870535531,
          -0.39244661047000406,
          0.17886607559718334,
          0.2651012828626438,
          -0.04533752175841438,
          -0.31037299325108914,
          0.40658700088233035,
          0.2650999031615254,
          0.4564338304929452,
          -0.13367895891073925,
          0.15791096856869818,
          -0.20223249591369685,
          -0.10295149703557788,
          -0.0453332140959199,
          -0.4966280849370381,
          0.07072660036502056,
          -0.04533386625865184,
          -0.426433793573841,
          -0.4264769694983992,
          0.15868076942113837,
          -0.047128390473405904,
          0.17885470950277868,
          -0.04534291584545638,
          -0.045333694896964906,
          -0.4264410675989102,
          -0.01803387599808293,
          0.17933370351816785,
          -0.04533528033645609,
          -0.4264324497282733,
          -0.04533331581494609,
          -0.4264325218952294,
          -0.04533310275440304,
          0.07072704084964589,
          -0.5496395217391304,
          -0.20176241647262097,
          0.15761479936125034,
          0.1774537168558936,
          -0.04627446835969601,
          -0.04533427513006895,
          -0.04534945028153824,
          -0.0453342275092609,
          -0.2744994390838869,
          -0.4210622243032446,
          -0.04533284431509501,
          0.17161297394393293,
          -0.045401306823595236,
          -0.045337640822595435,
          -0.045335968622491035,
          -0.42643926062214127,
          -0.21120816924904523,
          -0.052104557978042344,
          -0.310373597240576,
          0.17886585401897326,
          -0.04534456503456083,
          -0.04533415944941314,
          -0.04533279539669548,
          -0.4398610613322029,
          -0.045335581470124835,
          0.29516309770800114,
          -0.3286428365636701,
          -0.04533316517241311,
          -0.20235669938087564,
          -0.3271519491525768,
          -0.3889305024755188,
          -0.0455686491657368,
          0.17886629917949948,
          -0.04535774116590112,
          -0.38892693368385844,
          -0.20947080909398402,
          -0.426450011752547,
          -0.4264380851144162,
          -0.428486629527719,
          -0.04533288727185498,
          -0.045335577556001386,
          -0.045334744515555137,
          -0.2110941060261687,
          -0.31037225762466636,
          0.1788238036507795,
          -0.12301569924233798,
          0.17886415945452147,
          -0.28463805329133857,
          -0.3103724046318996,
          0.17886562646254872,
          0.17886689624893032,
          0.17886741473476314,
          0.07072739057030117,
          -0.42651693163386484,
          -0.4264364320867163,
          -0.04533444147163824,
          -0.5668528605067895,
          0.17392081767460615,
          -0.04534233390903327,
          -0.3103727703118817,
          -0.12301661479614122,
          0.17886447304751552,
          -0.3889281905812617,
          -0.42644749054804176,
          0.25187221623188166,
          0.26510194899259765,
          -0.8423183227586424,
          -0.09448513643023217,
          -0.04533798176945498,
          -0.20223536202350575,
          -0.20176589181068025,
          -0.04536964973043811,
          -0.32715264459181054,
          -0.04534312582802959,
          -0.3889260694870735,
          -0.045332736737256775,
          -0.32716531556912054,
          -0.045344129730765195,
          -0.4264325472603314,
          -0.3889264157031238,
          -0.0453929222040285,
          0.22524556862544232,
          -0.21109083486940003,
          0.1588038578000106,
          0.08393002935418362,
          -0.04533343799383527,
          -0.4264333510915016,
          -0.04570252755159179,
          0.09594185907834256,
          -0.04533275800530102,
          0.17886645850662475,
          -0.04576293258642141,
          -0.3103723636049925,
          -0.3984435225502992,
          0.07072506303878072,
          0.4861846629181473,
          0.1788661452288828,
          -0.3000710316083101,
          0.07072626536457373,
          -0.18832301579617336,
          -0.04533597673355847,
          -0.04533917918220323,
          -0.327158214506872,
          0.26510801397716366,
          -0.3889277200966677,
          0.13177480835506464,
          -0.20223999623405609,
          -0.4966257295294658,
          0.07072628847550692,
          0.17886586045658937,
          -0.08581178945124482,
          -0.04534840872294416,
          0.2918732778273862,
          -0.20223266274196292,
          -0.3112669401519479,
          -0.0453379980242078,
          -0.2022327112219853,
          0.17724294819397374,
          -0.32619153812136625,
          -0.4264332713641476,
          -0.3271546097172091,
          0.07072392141648946,
          0.41584486048511204,
          -0.04533354355082799,
          0.28892441956289133,
          -0.3103747824690588,
          -0.33020431732121747,
          -0.2022327964822515,
          -0.5468101324518665,
          -0.2745005360530592,
          -0.04533326565187009,
          0.0707264015003856,
          -0.3103820367196292,
          -0.20223342801307173,
          -0.2022359253417914,
          -0.3254922252999234,
          -0.3103746164197211,
          -0.045332757778815326,
          -0.21492568503105428,
          -0.4264987714820673,
          -0.42643296888636173,
          -0.426439919179026,
          -0.28964545258960195,
          0.07072726170944678,
          -0.21113966212057497,
          1.0255872925766676,
          -0.3103735819334404,
          -0.4264358899391393,
          0.2656320713706706,
          -0.20223244264757476,
          0.17886694693897484,
          -0.31037231764780693,
          -0.42643272353017964,
          0.1587327374111347,
          -0.4264325803374325,
          -0.04534183446791552,
          -0.3271626237600861,
          0.17886674211379408,
          -0.45496304237937274,
          -0.045333631126912174,
          -0.2798723675919433,
          -0.2745045747990923,
          -0.42643479340968843,
          -0.3103978183184757,
          0.34215384706454793,
          -0.2745096489550639,
          -0.28964435386143494,
          -0.2788969996539468,
          -0.2745016972302418,
          -0.27851792680990156,
          0.265106869650872,
          0.45643395448486385,
          -0.2045612821505513,
          -0.3103736831329378,
          -0.04539322905757246,
          0.0706673981469968,
          -0.3953899338178379,
          -0.31037254556492544,
          -0.2745027784848042,
          -0.4264338221226255,
          -0.4264328124544183,
          0.07072210906088301,
          -0.2745005360530592,
          -0.31037296340990317,
          -0.2022332662950288,
          -0.4264340172513451,
          0.025252361868070842,
          -0.42643335178404784,
          -0.4264362518418981,
          -0.31037233800395087,
          0.26563249952131285,
          -0.42643370483602455,
          -0.32967212447492944,
          -0.4264327485548032,
          -0.42643269225422675,
          -0.29983336858418697,
          -0.29717174408267244,
          -0.04533278703912437,
          0.2656318936914054,
          0.4861857553113614,
          -0.4264364618189747,
          -0.20223257793103708,
          -0.31037269782041643,
          -0.4264333662974328,
          0.07022222336191154,
          -0.426432568566779,
          0.4065865724498352,
          -0.3271512017198426,
          -0.4295495669537914,
          -0.04533294570365164,
          -0.289645252682456,
          0.07072066976181061,
          0.4564338815290774,
          -0.4265071921313728,
          -0.04534017550060211,
          0.4861845358083571,
          -0.3271534268231985,
          0.5499351651745266,
          -0.31037364749547813,
          -0.2865211615523937,
          -0.31038052395945565,
          -0.04535590799298124,
          -0.2745073442943155,
          -0.31037423319303725,
          0.05561284077533558,
          -0.2745290397881634,
          -0.31038312093893305,
          -0.42643291980879655,
          -0.42643265861196117,
          -0.4264371556890697,
          -0.10330836194969499,
          -0.3103736478115041,
          -0.04533429857912243,
          -0.3271807728063152,
          0.1787634028500305,
          -0.2744999795159357,
          -0.42643443205261844,
          -0.4998945582854787,
          -0.10295225845196104,
          -0.0453340065062972,
          -0.21493029910433953,
          0.4065828777302025,
          -0.7956068314318846,
          0.30572511053075124,
          0.1340831267641495,
          0.3448090498286627,
          0.26549652173180743,
          -0.3254862960020011,
          0.07072454530370338,
          -0.32549092853847184,
          -0.34328956414731016,
          -0.04533407246357925,
          -0.3889275022290533,
          -0.04533342453287142,
          0.07072536976652662,
          0.07072720299773426,
          -0.42730004842591257,
          0.2656314214067667,
          -0.3889274957854462,
          0.30819908936904056,
          -0.05769347274238633,
          0.1115480569647569,
          -0.11703649020098868,
          0.07071374924782463,
          -0.34329240396496574,
          0.17886607080326367,
          -0.3103731827426651,
          -0.3271521288934623,
          0.9411026473119055,
          -0.04538184629166379,
          -0.27449960944111323,
          -0.055353400419387036,
          -0.04533348520223151,
          -0.0453343275154782,
          -0.04533546693010754,
          -0.04533554189221995,
          -0.4264340392126145,
          -0.4264327583469874,
          0.2656316236909851,
          -0.13347219503665636,
          -0.4826350655103069,
          -0.3103728926834244,
          0.455971063613565,
          -0.20948523403254105,
          0.07052966483242866,
          -0.42643259791247257,
          0.17162874874045372,
          -0.10789502568125396,
          0.4564331424397422,
          -0.4299449774362227,
          -0.20223922048409188,
          -0.325530847934138,
          -0.38379618635358725,
          0.4158422878766673,
          -0.4264326932395409,
          -0.3991173533698536,
          -0.04534018577260276,
          -0.1955337164630455,
          -0.42643366010788336,
          -0.10362332757441485,
          0.07071356084770504,
          0.1716285097596931,
          0.2651066252486995,
          0.1716286095316114,
          -0.3103756075490526,
          -0.2045756407950173,
          -0.3276162147784745,
          -0.3889397141672286,
          0.15877157848962478,
          -0.4264412027391961,
          0.2638840795598152,
          0.26563229248782533,
          0.26502556633048796,
          -0.22620531012930303,
          -0.29983384308504735,
          0.07071927535722876,
          0.40655261331358533,
          -0.42701041282921315,
          -0.4264337358035261,
          -0.04563387037542831,
          -0.31037565677380713,
          0.2927594777810679,
          0.07072708624349212,
          0.17162851883330854,
          -0.29983503552314594,
          0.17160582150554793,
          -0.045336198045017366,
          -0.42647806686616074,
          -0.42643263860458197,
          -0.21109095988920615,
          0.07072677354131911,
          0.1788659226193921,
          0.1878378595958226,
          -0.2149243739097637,
          -0.016709320522654406,
          -0.4913306417312469,
          0.2572328326784407,
          0.6064737427585363,
          -0.42644998532075384,
          0.26562171019766595,
          -0.04608018894902726,
          0.41583741225874626,
          0.17387454069525557,
          -0.28966404536635054,
          25.889935364522056,
          10.617444667302246,
          -0.045333770867224524,
          -0.046434194079886276,
          0.07071033110706687,
          -0.19326180938294102,
          -0.1337767231490647,
          -0.31037252634653456,
          -0.39188472522090445,
          -0.32715311131760466,
          -0.34877128438208704,
          0.2650610822806063,
          0.26562238085821843,
          -0.04533309510769372,
          0.35137516758888143,
          -0.32548715689232316,
          -0.4264325176903749,
          -0.42643255062302,
          0.4564291187147771,
          -0.32717180780103927,
          0.3421511587934852,
          -0.3913935045791811,
          -0.27450098553305535,
          -0.42643327703535167,
          -0.13086679051895386,
          0.07072477916822927,
          -0.3991249931261833,
          -0.2745001912577297,
          0.26563145789428627,
          -0.045297315893788784,
          -0.4265547873079758,
          0.05561220119976627,
          0.4861854534437608,
          -0.26983601278604175,
          0.29191344280502407,
          -0.3271535735601551,
          0.34215393880893796,
          0.2656298546050408,
          0.36388459887123975,
          0.26187866880098465,
          -0.42719487119980637,
          -0.3271514801346263,
          0.46035644086093735,
          -0.27840979483949824,
          0.2655887439652579,
          -0.42643435070892877,
          -0.39734549669589847,
          -0.29837908763869075,
          -0.29983579133771565,
          -0.10295511780474942,
          -0.2597014163232198,
          0.23652055852895723,
          0.4433813622818185,
          0.07072702709807388,
          -0.1445814748198029,
          -0.299833155919479,
          -0.39911470499150203,
          -0.32722974779551955,
          -0.20717611614721376,
          -0.299837657562118,
          -0.0453329143380699,
          -0.4264374993057586,
          0.40657893103238063,
          0.3332034948090987,
          -0.010786697857606753,
          0.35604818158819224,
          -0.21109216030197792,
          -0.3103746475281333,
          -0.3271595067320584,
          -0.2745006766762851,
          0.17871045975986855,
          -0.2693733026000014,
          -0.21109133613675343,
          0.07072700679190613,
          -0.4265908893977958,
          0.11500223221407717,
          0.23652008006713973,
          7.944070896860213,
          0.45610214603744714,
          -0.2926034200105501,
          0.34215312923806,
          0.1788660710187335,
          -0.3838391795790588,
          -0.21229647765799486,
          0.26546405489395963,
          -0.39911699301113207,
          0.3314427733960246,
          0.3314421471763232,
          0.1746149827185877,
          0.18574499026710178,
          -0.045335745302629134,
          -0.4264335780924535,
          0.45643071644086214,
          -0.39911563499012137,
          0.45643253925237953,
          -0.29983275953342914,
          -0.42894223072766396,
          0.08392910202519326,
          -0.2110906951347384,
          -0.4264342769368732,
          -0.3919006932800599,
          -0.27849318875199863,
          -0.3103753020797926,
          0.1788634663957917,
          -0.007826230773438443,
          0.17886071540757204,
          -0.31037406384160093,
          -0.2046278634645796,
          -0.42766953010383985,
          -0.0457953450376416,
          -0.31038925506360354,
          0.17134246059563568,
          -0.4264336275092291,
          0.33140900518327543,
          -0.4264341399495555,
          -0.10295100402485781,
          -0.42643311927896194,
          -0.31040517160432674,
          -0.04539205846445088,
          -0.4265502663756842,
          -0.20349025426028458,
          -0.31041156595828073,
          0.17886562285154933,
          -0.4264367188389275,
          -0.0476395178983535,
          -0.4264626459582962,
          0.17933194114609688,
          -0.3103873400928955,
          -0.4264404535440496,
          -0.2744993509451208,
          -0.04533308912202503,
          -0.04533844567043436,
          -0.2990909354533357,
          -0.20223802639196023,
          -0.20456227298568633,
          -0.3278982754452244,
          -0.4264515056829371,
          -0.20947092565931874,
          0.15880817374902528,
          -0.38892588208066314,
          0.35202734478228015,
          -0.2046246268028891,
          0.2651069980371837,
          -0.20463176272527286,
          -0.1030253457764777,
          13.167853978428909,
          -0.27449973195710153,
          -0.18105078924052398,
          -0.2738195058376578,
          -0.04795315241855554,
          -0.4264346597087126,
          0.2655574328300374,
          0.45643383655544223,
          -0.32715075340269817
         ],
         "y": [
          1.071857398198358,
          1.0719833980893543,
          1.658951375119688,
          -1.310102478267944,
          -2.040160108858809,
          -1.098246418571209,
          1.203804004314305,
          -2.252603877156855,
          -2.040269083491364,
          -1.9796734694526854,
          1.7282180404253218,
          -1.869667427762571,
          0.859974267212248,
          0.6017435260138011,
          -1.0982351924893416,
          1.8966588899371568,
          -0.9662778208984082,
          -1.098255468443466,
          1.0718555271468353,
          1.0721028656333342,
          -1.863363550557364,
          -1.3015032850499346,
          -1.310122420313225,
          -1.0983088353569237,
          -1.0982763984673196,
          1.0719049379796224,
          -0.49906206816144927,
          -1.2220244672689418,
          -1.098238882410425,
          1.0718571499694691,
          -1.0982346317109855,
          1.0718572702531919,
          -1.0982314428584528,
          -0.9662791390013613,
          0.6793211007182728,
          0.9480835189273976,
          -1.865567012979645,
          -1.3139625618125514,
          -1.1005288762215546,
          -1.0982293429938381,
          -1.0983004530741793,
          -1.0982357121488335,
          1.509560310484525,
          0.3897922280617626,
          -1.0982318105334608,
          -1.6217294563292903,
          -1.098636785935029,
          -1.0982379901058832,
          -1.0982484556619034,
          1.0718283584105326,
          0.9462206761086646,
          -1.1111893745398271,
          1.2038073341164446,
          -1.3101012567043122,
          -1.0983083041715014,
          -1.0982294255954967,
          -1.098226592138372,
          2.258643939532661,
          -1.0982337992179125,
          -2.2005315689146867,
          0.8218434418989268,
          -1.098229355584449,
          0.8593282033680517,
          0.8136151773087094,
          1.8139717079675095,
          -1.1052527879343303,
          -1.3101037108802682,
          -1.0982754009857314,
          1.81395203317119,
          0.5484507518521929,
          1.071721085331969,
          1.071834091062352,
          1.0831821483460142,
          -1.0982369942747978,
          -1.0983492914451742,
          -1.0982435207153012,
          0.9455918440301381,
          1.203812161482491,
          -1.3103507452119254,
          0.04886486712755692,
          -1.3101063550228316,
          1.5777657969533554,
          1.2038074210169962,
          -1.310111660277025,
          -1.3101397562256594,
          -1.3100983416439105,
          -0.9662710743637402,
          1.071434941663658,
          1.0718238676037595,
          -1.0982295362452332,
          0.31358689171683335,
          -1.2881496286893523,
          -1.0983206043964782,
          1.2038119351787173,
          0.04892542932288804,
          -1.3101069669265144,
          1.813958962463442,
          1.0713852004351236,
          -2.3682310008429592,
          -2.344311557848506,
          1.365521167582435,
          1.4430530654211262,
          -1.0982556072361769,
          0.8599645313360245,
          0.9481051100581499,
          -1.0989553117996766,
          0.8136279935586501,
          -1.0982612596297183,
          1.813940607074525,
          -1.0982276250069576,
          0.8134202751519825,
          -1.098252179929492,
          1.071857965238689,
          1.8139436260629547,
          -1.098449510142942,
          -2.2452038563202232,
          0.9455627071519863,
          -1.8629318437434952,
          -1.5392072005745656,
          -1.0982241716315937,
          1.0718512938237328,
          -1.1017389778500615,
          -2.1226656988903447,
          -1.09822639273028,
          -1.310104589252848,
          -1.1469280467218346,
          1.2038127463085992,
          2.761219268349048,
          -0.9662765625137568,
          -2.2644868839359744,
          -1.3101210487756134,
          1.960978110086151,
          -0.9662765291837982,
          0.47870460208310667,
          -1.0983250181153383,
          -1.0983294356315865,
          0.8136031858402092,
          -2.040206603124966,
          1.8139286113080983,
          -2.1675096317010936,
          0.8594726824714706,
          1.8968256068508496,
          -0.9662738808579368,
          -1.3101012921949766,
          0.9512598803143469,
          -1.0982563471556448,
          -2.239066492570034,
          0.8599751869387188,
          1.1940053966949056,
          -1.0982437929114905,
          0.8599818384042485,
          -1.3131482690326208,
          1.5249855259872016,
          1.0718386410440761,
          0.8135161105386427,
          -0.9662985812495558,
          -2.18759915212617,
          -1.0983151778836169,
          -2.1832508943865956,
          1.203612904956543,
          0.7754923186945287,
          0.8599659315984375,
          0.6847363637214652,
          1.5095552551433096,
          -1.098234353113347,
          -0.9662795002917532,
          1.203824438268217,
          0.8598679739369308,
          0.8597139345786808,
          1.5210802417558886,
          1.203748000624886,
          -1.0982263922968019,
          1.407816948809769,
          1.07111276556337,
          1.0718356781363545,
          1.0718430919904627,
          1.5556023301390334,
          -0.9662842426358521,
          0.9454782635815294,
          -1.1068611339740988,
          1.20379170560222,
          1.0718264302103846,
          -2.341688207614307,
          0.8599745287027519,
          -1.3101010288072068,
          1.2038108275039712,
          1.0718472789223934,
          -1.8632059329042512,
          1.0718581475931912,
          -1.098287039638356,
          0.8136830088472795,
          -1.31010040051158,
          0.4628319851564297,
          -1.0982378897180276,
          1.9536758624345953,
          1.5095475428475318,
          1.0718703482902388,
          1.20312035746176,
          -2.2191153337061085,
          1.5095943918040027,
          1.5557059143685439,
          1.8819124799340405,
          1.5094056603235584,
          1.9531448232073358,
          -2.040205456832794,
          -1.979674153021795,
          2.004916591813648,
          1.2038033664633931,
          -1.1034441445985919,
          -0.9662179090035544,
          1.8491107644009155,
          1.2038116102920053,
          1.509550963279136,
          1.0718435981927845,
          1.0718361110685792,
          -0.9663685309270681,
          1.5095552551433096,
          1.2037827442001663,
          0.8599796246295692,
          1.07184774945635,
          0.5137122727547216,
          1.0718468564629553,
          1.0715171765650242,
          1.2038098294329667,
          -2.341696674635386,
          1.071784405750726,
          0.8094673500400689,
          1.0718518580622736,
          1.0718569238405062,
          1.412808336013002,
          0.6308439871615593,
          -1.0982273955935307,
          -2.3416955552763725,
          -2.264461935142886,
          1.0716019725783952,
          0.859975274522295,
          1.2038093959944123,
          1.0718513776542355,
          -1.019000815690371,
          1.0718459064697452,
          -2.25270421746238,
          0.8135895058819166,
          0.44901460533304133,
          -1.0982268793402774,
          1.5557041940853082,
          -0.9667891698055956,
          -1.979671530226168,
          1.0717143360652641,
          -1.0982406708124934,
          -2.2644613186278537,
          0.8136131942733161,
          -2.288796118405847,
          1.2037643096791513,
          2.0406490459293685,
          1.203796668243853,
          -1.1003190120329869,
          1.5095426647979064,
          1.2037675386376552,
          -0.6490096872007125,
          1.5095014406247595,
          1.203594477960354,
          1.0718482432506318,
          1.071842701907529,
          1.0713282242189106,
          0.5620818152219359,
          1.2037976202623621,
          -1.098237274680462,
          0.81267277008419,
          -1.3109126523137853,
          1.5095466354731844,
          1.0718100656521898,
          1.8648980414841403,
          0.6016435868411468,
          -1.0982591364351089,
          1.4078054689589876,
          -2.2526394366355196,
          1.9376077040260529,
          -2.1702011066231237,
          -2.180424328923662,
          -2.2160880181825027,
          -2.342045663861115,
          1.5210919652448083,
          -0.9663109031057273,
          1.5210564382721243,
          2.031126098761889,
          -1.0982295036670031,
          1.8139385131480013,
          -1.098264010304464,
          -0.9662932424863663,
          -0.9662805325585626,
          1.0488831433439199,
          -2.3417090508379506,
          1.813944640766023,
          -2.177527986935689,
          -1.1411107324461038,
          -1.2904861290788552,
          1.4648088610537473,
          -0.966806531654039,
          2.0311417547147363,
          -1.310102451839015,
          1.2038119842892878,
          0.8136154876723743,
          1.4584214953737875,
          -1.103784471614442,
          1.509527052608916,
          -1.0429821127158443,
          -1.098233142729258,
          -1.0982640284753773,
          -1.0982666292248224,
          -1.0982662159576906,
          1.0718394034217518,
          1.0718567973433892,
          -2.341729534507252,
          1.7290262612514773,
          1.407283517487818,
          1.2038006741466647,
          -1.988768665676169,
          0.5483103106978527,
          -0.966180274945903,
          1.0718495101665133,
          -1.6216448824632959,
          0.6237154321541297,
          -1.9796696762061405,
          1.077343356206095,
          0.859968038365842,
          1.520676955298974,
          1.8365679812221303,
          -2.187655088149146,
          1.0718471119296964,
          1.670958110200038,
          -1.098240614182816,
          1.360202759905866,
          1.0718558907099611,
          0.6004579499893539,
          -0.9663891324897049,
          -1.6216535576114421,
          -2.0403450027626193,
          -1.621646779710357,
          1.203750688997444,
          2.0047875709573213,
          1.5161853670401404,
          1.8139059112041864,
          -1.8631202847226398,
          1.0717891020664871,
          -2.3792334785155513,
          -2.341690814504522,
          -2.045294156093476,
          1.2628461867879892,
          1.412808176205867,
          -0.9665316661272543,
          -2.25296915754311,
          1.0472863784122046,
          1.0717812455908826,
          -1.0993417490368138,
          1.2038031442250083,
          -1.2548359612465072,
          -0.9662803885234731,
          -1.6216402840980235,
          1.4127592353981808,
          -1.6217810690057615,
          -1.0982426132739387,
          1.0716092828221957,
          1.0718562482313707,
          0.9455628412405056,
          -0.9662804410637144,
          -1.310101171906453,
          -1.1659153542481282,
          1.4078144393329661,
          -0.12835814313103844,
          0.46353496937027405,
          -2.8505248897687014,
          -2.2920878847189488,
          1.0718253073147996,
          -2.3418120643643383,
          -1.0996569254975206,
          -2.1875969502687043,
          -1.288458532787973,
          1.5553717439572197,
          3.659406808248589,
          2.8136968641720235,
          -1.0982426708013031,
          -1.1023724030335726,
          -0.9664545989886109,
          1.0041700282441388,
          3.277643675574022,
          1.2037997648211731,
          1.2274097031377689,
          0.8135617283529076,
          1.3962350594822484,
          -2.0435469402807116,
          -2.342184379564875,
          -1.09823584847303,
          -2.149008853426197,
          1.521074505450737,
          1.071856136777074,
          1.0718552080404897,
          -1.979674695576521,
          0.8134560669136802,
          -2.219255177283166,
          1.3687797707208915,
          1.50951998311281,
          1.0718453340776921,
          2.1056363865607737,
          -0.9663121924039971,
          1.6710002282792138,
          1.509520045441074,
          -2.341689488748502,
          0.625705376241702,
          1.0696884386190677,
          -0.6489910323364534,
          -2.264469308742154,
          0.5023267124840464,
          -2.145845340870938,
          0.8136186811425197,
          -2.2191097883880544,
          -2.342003523779271,
          -2.1856697727734744,
          -2.4231372096650245,
          1.0703981643854628,
          0.8135971474071971,
          -2.3057418913399754,
          1.9566601114719293,
          -2.341998938922553,
          1.0718212752976717,
          1.6385584509700368,
          0.33148463305120135,
          1.412469174118939,
          0.6017147664073655,
          1.7083497438357602,
          -1.2861248466954458,
          -2.258963106599448,
          -0.9662807286308077,
          0.8839379688509453,
          1.412803832705517,
          1.6710516795604988,
          0.8046821772999367,
          0.8819361304779375,
          1.4127847936812092,
          -1.0982374586422161,
          1.0713301185823279,
          -2.253530895826995,
          -2.1495632785730803,
          -0.9427478696992511,
          -2.2447922585377813,
          0.9455505841223513,
          1.2037975802400636,
          0.8135214863191224,
          1.5094505524046804,
          -1.3103987174074845,
          0.8811867525279015,
          0.9455210588576917,
          -0.9662828372720293,
          1.06273825528088,
          2.3124396248639063,
          -1.2861654683976134,
          3.8561526729425255,
          -1.9820523503581406,
          0.9691775506992703,
          -2.2191461285431107,
          -1.3101024530269028,
          0.4101592954923411,
          0.9522205349730619,
          -2.345241969631844,
          1.6710371750505617,
          -2.189960934841028,
          -2.1899131310947,
          -0.06787178642799752,
          -2.284987406037195,
          -1.09827619750036,
          1.071851990135678,
          -1.979790536270808,
          1.671049098434979,
          -1.9796718390128112,
          1.4128058831981791,
          1.044168862151014,
          -1.5392576029323222,
          0.9455621033371262,
          1.0718208685913395,
          1.2272534704285205,
          1.954399641219366,
          1.2035957842729184,
          -1.310111965041687,
          -0.3561381837000678,
          -1.310154534131035,
          1.2038054653153631,
          2.0047979015608495,
          1.0592473110319613,
          -1.1501357552737574,
          1.203905869146617,
          -1.6222721724973446,
          1.0717528911955077,
          -2.1936024445856277,
          1.071836625615112,
          0.601736089286616,
          1.071861118785076,
          1.2037160435746044,
          -1.0984542719508248,
          1.0666779051342528,
          0.8668150411023047,
          1.203473722059138,
          -1.3101116403695359,
          1.0718726359972348,
          -1.1132662180430746,
          1.0718018408248102,
          -1.222026409382396,
          1.203779841238757,
          1.071812729111053,
          1.5095548282481817,
          -1.0982269991145133,
          -1.0982957294720628,
          0.5223170341771212,
          0.8599586795831485,
          2.0049026694438465,
          0.8121822878884383,
          1.0717959390721712,
          0.5484200851977479,
          -1.8629571920409138,
          1.8139461690509777,
          -2.2326969825373353,
          2.005335205150774,
          -2.040205211109943,
          2.005374545586647,
          0.6016024471060878,
          1.8267027106389595,
          1.5095571318785541,
          1.7368272973867886,
          1.8035055828154032,
          0.8980480617102015,
          1.0717308243576509,
          -2.342048502734921,
          -1.9796735028753107,
          0.8136170122603423
         ],
         "z": [
          -0.33814565823294246,
          -0.3214992979472365,
          2.292047446923309,
          -0.15280294018983664,
          -0.14827360868394782,
          -0.16019873316492375,
          -0.40928454209075876,
          -0.14491006489332955,
          -0.1467170147477812,
          -0.17012757979750864,
          -0.2634381451638259,
          0.1712018260651224,
          -0.3295815328724751,
          -0.2671660933793319,
          -0.1613439191190463,
          -0.2538978086047356,
          -0.23269024612758457,
          -0.1609608024742938,
          -0.33780555769258636,
          -0.3303903468953649,
          -0.08197287871687967,
          2.5581169940322797,
          -0.1498905607732649,
          -0.1582187115910236,
          -0.1607650020390261,
          -0.3366436846342491,
          -0.2198858242771132,
          -0.20911435539641976,
          -0.16081374806351592,
          -0.3381415981128875,
          -0.16132620185523255,
          -0.33812589418393585,
          -0.16141257888279759,
          -0.23277950506069847,
          0.7171877255954591,
          -0.38682527613431295,
          0.19492687003087716,
          0.22469588055760245,
          0.08708865718669458,
          -0.16115910981979764,
          -0.15676845448676824,
          -0.16109845635405942,
          -0.3339375936047497,
          -0.2813524302834352,
          -0.16146952888624563,
          -0.1716820176558979,
          -0.1407108811949089,
          -0.16026574672923477,
          -0.1605429319318452,
          -0.33620626123782243,
          -0.3267122910097575,
          1.5858274116523732,
          -0.40917934012938795,
          -0.1527643460380779,
          -0.15783480081120316,
          -0.16118552689747292,
          -0.16154001368036672,
          -0.435908164944518,
          -0.16079994554296445,
          -0.15697955096167324,
          -0.015902472524712986,
          -0.16142138852533483,
          -0.29292231730204976,
          -0.275481536863178,
          -0.2895326920542536,
          -0.026447848540747915,
          -0.1528418834151663,
          -0.1550911441535977,
          -0.2901542987070956,
          -0.3531251290411364,
          -0.3324532462578715,
          -0.3365489053387574,
          0.019649151919652743,
          -0.16140084483296577,
          -0.15949688358305905,
          -0.160888059417632,
          -0.3465796480683893,
          -0.409550562074046,
          -0.14000572264311448,
          -0.22928565478174276,
          -0.15230614642336024,
          -0.29726381102130467,
          -0.4094622828614633,
          -0.15259308263808039,
          -0.15257606813263305,
          -0.1531662500901288,
          -0.23295324284297228,
          -0.31340100567237505,
          -0.3368242911686334,
          -0.16111760070335238,
          -0.2640534579181654,
          -0.18427477874135786,
          -0.15822341483051597,
          -0.40942679527739506,
          -0.2297529848891964,
          -0.15237337858233604,
          -0.28993537424691446,
          -0.3292569465803957,
          3.8586260046935457,
          0.4607297815731883,
          0.13009485569841864,
          -0.31205927373390085,
          -0.15998622901660084,
          -0.32879399032862766,
          -0.3862474009202577,
          -0.14459900649805693,
          -0.2754618225429212,
          -0.15870622958657177,
          -0.2902296071928447,
          -0.16154222038910246,
          -0.2701208118495903,
          -0.1585713987884887,
          -0.33812774412804475,
          -0.29018183980995804,
          -0.14480768184562565,
          -0.12329255288524944,
          -0.34702405316000157,
          -0.11594822086039806,
          -0.18291284907931057,
          -0.16141541735947776,
          -0.33786237407612857,
          -0.03446910998431401,
          -0.07917232330422386,
          -0.1615511053669585,
          -0.15286963476927032,
          0.4900280342550804,
          -0.40953210885151736,
          -0.44131039739599315,
          -0.23234099302088956,
          -0.15314343944666067,
          -0.15260972889782054,
          -0.4389780268679551,
          -0.2326256282653892,
          -0.37362951520216175,
          -0.15967657107465305,
          -0.15886955786018483,
          -0.27386486342465965,
          -0.14934005460439279,
          -0.28970392259952477,
          0.3878002561668786,
          -0.3221450359220486,
          -0.2563370335737092,
          -0.23266099368542856,
          -0.15276546733218824,
          -0.09879940038908801,
          -0.15751269056785935,
          -0.1338974442560478,
          -0.32955247498117135,
          -0.08730077545786254,
          -0.16011577791988002,
          -0.329616112789606,
          0.2653327647178504,
          -0.2535026238801715,
          -0.33773836489431236,
          -0.273733982422287,
          -0.23182247907239478,
          -0.15031591646660436,
          -0.160362937421769,
          -0.14836457745505413,
          -0.4067038833461906,
          0.8766057135303682,
          -0.3294163563276076,
          -0.012890477776985761,
          -0.3336211652256087,
          -0.16134120718142886,
          -0.2326242681975817,
          -0.4073771606960172,
          -0.32816103720839934,
          -0.32583139703857694,
          -0.37474373770502706,
          -0.40826846523027527,
          -0.16155116380790954,
          -0.3228847124684244,
          -0.31405691358063215,
          -0.3377764246826268,
          -0.33621691478326887,
          -0.22650970516670757,
          -0.2327740980913258,
          -0.3345266823766294,
          -0.3543865526450374,
          -0.40900650234103725,
          -0.3369814015876559,
          0.3057765732124766,
          -0.32959707868247223,
          -0.1530253119028071,
          -0.4095213096076334,
          -0.33796541374514705,
          -0.09603898234410434,
          -0.3381219828093583,
          -0.15872046420273453,
          -0.2737236663320426,
          -0.15298398016462558,
          -0.22248664581096397,
          -0.1612148693133094,
          0.015667392013673155,
          -0.3325792307153585,
          -0.3377365132811894,
          -0.3956964479820711,
          -0.14831575562956034,
          -0.33190853461057396,
          -0.22793900890515711,
          -0.444947423875423,
          -0.33165760555029633,
          -0.29855939909336904,
          -0.1490824505982578,
          -0.1701491765195017,
          3.744433939705217,
          -0.40911423554061194,
          -0.08834224685883173,
          -0.21936985533098488,
          0.8408889419149448,
          -0.40947626270274146,
          -0.3330425419476853,
          -0.33766412190340467,
          -0.33781829708648575,
          -0.23060421395173908,
          -0.3336211652256087,
          -0.4090515558348885,
          -0.32945988503196166,
          -0.3376648593949938,
          -0.4118404617079809,
          -0.33781210946041745,
          -0.33340415085319525,
          -0.4095052280084666,
          0.3057709465758392,
          -0.3370235275675475,
          0.3671807704733818,
          -0.3380111989837042,
          -0.3380817059530114,
          -0.33879902993213923,
          -0.35864586428278933,
          -0.16153291804649791,
          0.3059015410936516,
          -0.15368339682858184,
          -0.33431191299581786,
          -0.32957351521668476,
          -0.4094152648627994,
          -0.3378597255303817,
          0.4818358694339422,
          -0.33798655490241986,
          -0.14367586143197503,
          -0.27536839984243416,
          -0.2592095862179523,
          -0.16150123476822803,
          -0.22770708266408443,
          -0.22551462410323858,
          -0.1701615411871354,
          -0.3188582164455638,
          -0.15963622044607623,
          -0.15340203767612023,
          -0.2751097899082618,
          -0.16974607256423224,
          -0.40868168291423784,
          -0.4449543170494671,
          -0.4074212709885914,
          -0.13245076440161874,
          -0.3318693784304354,
          -0.4085796670125139,
          -0.19935176668496157,
          -0.32627458892113664,
          -0.4045244136225714,
          -0.3379298966628349,
          -0.33792908431118873,
          -0.3310570564507561,
          0.2650136371073548,
          -0.40905770778737205,
          -0.16106401165229547,
          -0.2580264960526639,
          -0.119381190093508,
          -0.3336554220211174,
          -0.3371413140443195,
          0.876977582315168,
          -0.26585769353319194,
          -0.16088623036564467,
          -0.32166421835767617,
          -0.14353376072897372,
          0.5874628040959373,
          -0.15153765134500674,
          -0.012126211344188658,
          -0.14497501240305163,
          0.34185971850518476,
          -0.3762779336056013,
          -0.23183085881141574,
          -0.3747815656649241,
          -0.43071703353239155,
          -0.16120521097310217,
          -0.2898672304188287,
          -0.16096879360764135,
          -0.2322251824256828,
          -0.232802106567034,
          0.1263722088735328,
          0.30616557486735185,
          -0.2899379389012391,
          -0.1483760880691811,
          3.245015056166904,
          -0.13420410770229102,
          -0.32948034374133456,
          -0.2236824197376409,
          -0.4302223984526474,
          -0.15280210519300605,
          -0.4093298411475334,
          -0.27544254598733015,
          4.430353957253801,
          -0.08719088023365809,
          -0.3335218125480846,
          1.5838251244298769,
          -0.16130296623650475,
          -0.16075510149568123,
          -0.16045635202655406,
          -0.16044329524088685,
          -0.3375654346996213,
          -0.3380646517841047,
          0.30634902481507836,
          -0.321447504542073,
          0.6981655042013759,
          -0.40927071881932475,
          0.041972788191461996,
          -0.34812904628862407,
          -0.18723127981379434,
          -0.33802030510609715,
          -0.17636645907544984,
          -0.2992619366557525,
          -0.17000773574679032,
          0.43036191772172283,
          -0.327921353630696,
          -0.3610590280844422,
          -0.39517969263511765,
          -0.14907613304889036,
          -0.3379706897220903,
          -0.39959435487204825,
          -0.15963443128477595,
          -0.32545851250578045,
          -0.3378412171561229,
          -0.09381404374809492,
          -0.22835060346966318,
          -0.17621200979802745,
          -0.1474490976681268,
          -0.17631212549956632,
          -0.40806449185170474,
          3.7492854058438145,
          0.1826853282145754,
          -0.286611934020241,
          -0.10618898103180698,
          -0.335303866393526,
          1.142956307348997,
          0.3057537293624961,
          -0.07240543300591286,
          -0.31368963823900825,
          -0.3386850421075223,
          -0.22809234823915256,
          -0.1326557421818369,
          0.07592392526909406,
          -0.3369805257038474,
          -0.07776770470783977,
          -0.40864510983110813,
          1.082175688893034,
          -0.2327761292935963,
          -0.17636402219364286,
          -0.33785054520666874,
          -0.16940826514190246,
          -0.1605546555047336,
          -0.32455801029249426,
          -0.33808676193218784,
          -0.3469960094034738,
          -0.23270160571351484,
          -0.15278152226459724,
          -0.21169788941671958,
          -0.3231663595504867,
          -0.2637872348799283,
          -0.26683292481584125,
          8.036679028880618,
          -0.17401855789678988,
          -0.33363623385026175,
          0.30962463397541107,
          0.03131137246117944,
          -0.14857983592783394,
          -0.16984603890698058,
          -0.21951044467446915,
          -0.2058267226820664,
          -0.3555016190959511,
          -0.16112784957389328,
          0.14566638086451517,
          -0.22684785240825964,
          -0.3883145319778731,
          -0.36910888789282353,
          -0.40934706281368377,
          -0.3273182319738371,
          -0.2746032971299664,
          -0.29486775332131177,
          -0.10052954189551473,
          0.3136697704430142,
          -0.1613646443056334,
          -0.156869136301061,
          -0.37587726510551217,
          -0.33811409058178166,
          -0.33809581842694325,
          -0.16899975757624705,
          -0.26899000486041746,
          -0.1461012522832075,
          -0.306003135961243,
          -0.3331166515827863,
          -0.3378125930762977,
          3.938280358457566,
          -0.23187159297552037,
          -0.3982636738425777,
          -0.3333051412287592,
          0.3059360787758389,
          -0.3107568604834921,
          -0.28473177703259767,
          -0.19941118189291213,
          -0.1535287749692679,
          -0.29154942181086335,
          -0.15673403488029392,
          -0.275137048298273,
          -0.14840005671166737,
          0.30986080848783687,
          0.5880231913817338,
          2.112787539536764,
          -0.14141374454902084,
          -0.2753888539677966,
          -0.15567773764393752,
          -0.36381445758615516,
          0.3195285928218144,
          -0.337287110334613,
          -0.19332933558051707,
          2.2590357016583797,
          -0.334396859309051,
          -0.2659853399823314,
          1.041851458630986,
          -0.1966432400804609,
          -0.14497176327897876,
          -0.23275830583708773,
          -0.3724460918604806,
          -0.33879846355269916,
          -0.40127695861359214,
          -0.15622828793955226,
          -0.36154233154531223,
          -0.33751920245634837,
          -0.16138920269422224,
          -0.3309972058233779,
          -0.13253547320782247,
          -0.14822803533786816,
          -0.1494983927075998,
          3.1082758320650834,
          -0.34657381139613147,
          -0.40882089869323956,
          -0.2726369058439666,
          -0.3324057519475311,
          -0.11266684337737176,
          -0.3709013787855123,
          -0.3464353032911803,
          -0.23272969694542006,
          -0.19772397828529972,
          -0.3295697472152418,
          -0.19607147292963067,
          -0.3196272851709493,
          -0.06485012886954232,
          -0.2649592829585448,
          -0.14779834899935604,
          -0.152802142723204,
          0.5104399311663098,
          -0.13715240303516993,
          0.3856241741764488,
          -0.4005722494015713,
          -0.1311672132824342,
          -0.13155889723766787,
          -0.2836888409068385,
          -0.15603531089790001,
          -0.16028250555539636,
          -0.33781656740017546,
          -0.16806957691635116,
          -0.40102794172698364,
          -0.16984070806346954,
          -0.33891533029594273,
          0.5678513673547538,
          -0.18212452847590838,
          -0.34705027232844327,
          -0.33729995983800404,
          -0.32177902054415997,
          -0.31857584061996785,
          -0.40638773039541465,
          -0.1520789495563581,
          -0.11372751912931557,
          -0.1509479147934337,
          -0.40904792429009657,
          3.7615154695764894,
          0.09670798081939527,
          0.533908376919704,
          -0.40658998052123496,
          -0.10159847092732366,
          -0.3366859883065297,
          -0.08206841941065016,
          -0.3375102546842062,
          -0.2671986872413172,
          -0.3380281108011193,
          -0.40068366257496757,
          -0.1449581266793084,
          -0.2518096236713452,
          -0.10945409111743079,
          -0.39643590450235244,
          -0.15259245367973706,
          -0.33730712499261295,
          0.553632840447254,
          -0.3303779996683007,
          -0.2086757601632453,
          -0.40561978346353356,
          -0.33574775998573214,
          -0.33389653349200515,
          -0.1614659748583586,
          -0.15942354372116752,
          -0.38204124406367784,
          -0.32809799877193335,
          3.7448253903315663,
          -0.08285361704668848,
          -0.33294519559199737,
          -0.35275132237423756,
          -0.11668241583802877,
          -0.2903367131775069,
          -0.12722874138201098,
          3.754683714177772,
          -0.14911557861205646,
          3.7559266381841345,
          -0.24811358440564812,
          -0.37446739152212843,
          -0.3338324626200927,
          34.03185253373283,
          -0.35308136301627574,
          2.4719005590229868,
          -0.3361928014533287,
          0.3274909130606912,
          -0.17012863575387566,
          -0.2757849589606753
         ]
        }
       ],
       "layout": {
        "coloraxis": {
         "colorbar": {
          "title": {
           "text": "class"
          }
         },
         "colorscale": [
          [
           0,
           "#0d0887"
          ],
          [
           0.1111111111111111,
           "#46039f"
          ],
          [
           0.2222222222222222,
           "#7201a8"
          ],
          [
           0.3333333333333333,
           "#9c179e"
          ],
          [
           0.4444444444444444,
           "#bd3786"
          ],
          [
           0.5555555555555556,
           "#d8576b"
          ],
          [
           0.6666666666666666,
           "#ed7953"
          ],
          [
           0.7777777777777778,
           "#fb9f3a"
          ],
          [
           0.8888888888888888,
           "#fdca26"
          ],
          [
           1,
           "#f0f921"
          ]
         ]
        },
        "legend": {
         "tracegroupgap": 0,
         "x": 0,
         "y": 1
        },
        "margin": {
         "t": 60
        },
        "scene": {
         "domain": {
          "x": [
           0,
           1
          ],
          "y": [
           0,
           1
          ]
         },
         "xaxis": {
          "title": {
           "text": "PC3"
          }
         },
         "yaxis": {
          "title": {
           "text": "PC2"
          }
         },
         "zaxis": {
          "title": {
           "text": "PC1"
          }
         }
        },
        "template": {
         "data": {
          "bar": [
           {
            "error_x": {
             "color": "#2a3f5f"
            },
            "error_y": {
             "color": "#2a3f5f"
            },
            "marker": {
             "line": {
              "color": "#E5ECF6",
              "width": 0.5
             },
             "pattern": {
              "fillmode": "overlay",
              "size": 10,
              "solidity": 0.2
             }
            },
            "type": "bar"
           }
          ],
          "barpolar": [
           {
            "marker": {
             "line": {
              "color": "#E5ECF6",
              "width": 0.5
             },
             "pattern": {
              "fillmode": "overlay",
              "size": 10,
              "solidity": 0.2
             }
            },
            "type": "barpolar"
           }
          ],
          "carpet": [
           {
            "aaxis": {
             "endlinecolor": "#2a3f5f",
             "gridcolor": "white",
             "linecolor": "white",
             "minorgridcolor": "white",
             "startlinecolor": "#2a3f5f"
            },
            "baxis": {
             "endlinecolor": "#2a3f5f",
             "gridcolor": "white",
             "linecolor": "white",
             "minorgridcolor": "white",
             "startlinecolor": "#2a3f5f"
            },
            "type": "carpet"
           }
          ],
          "choropleth": [
           {
            "colorbar": {
             "outlinewidth": 0,
             "ticks": ""
            },
            "type": "choropleth"
           }
          ],
          "contour": [
           {
            "colorbar": {
             "outlinewidth": 0,
             "ticks": ""
            },
            "colorscale": [
             [
              0,
              "#0d0887"
             ],
             [
              0.1111111111111111,
              "#46039f"
             ],
             [
              0.2222222222222222,
              "#7201a8"
             ],
             [
              0.3333333333333333,
              "#9c179e"
             ],
             [
              0.4444444444444444,
              "#bd3786"
             ],
             [
              0.5555555555555556,
              "#d8576b"
             ],
             [
              0.6666666666666666,
              "#ed7953"
             ],
             [
              0.7777777777777778,
              "#fb9f3a"
             ],
             [
              0.8888888888888888,
              "#fdca26"
             ],
             [
              1,
              "#f0f921"
             ]
            ],
            "type": "contour"
           }
          ],
          "contourcarpet": [
           {
            "colorbar": {
             "outlinewidth": 0,
             "ticks": ""
            },
            "type": "contourcarpet"
           }
          ],
          "heatmap": [
           {
            "colorbar": {
             "outlinewidth": 0,
             "ticks": ""
            },
            "colorscale": [
             [
              0,
              "#0d0887"
             ],
             [
              0.1111111111111111,
              "#46039f"
             ],
             [
              0.2222222222222222,
              "#7201a8"
             ],
             [
              0.3333333333333333,
              "#9c179e"
             ],
             [
              0.4444444444444444,
              "#bd3786"
             ],
             [
              0.5555555555555556,
              "#d8576b"
             ],
             [
              0.6666666666666666,
              "#ed7953"
             ],
             [
              0.7777777777777778,
              "#fb9f3a"
             ],
             [
              0.8888888888888888,
              "#fdca26"
             ],
             [
              1,
              "#f0f921"
             ]
            ],
            "type": "heatmap"
           }
          ],
          "heatmapgl": [
           {
            "colorbar": {
             "outlinewidth": 0,
             "ticks": ""
            },
            "colorscale": [
             [
              0,
              "#0d0887"
             ],
             [
              0.1111111111111111,
              "#46039f"
             ],
             [
              0.2222222222222222,
              "#7201a8"
             ],
             [
              0.3333333333333333,
              "#9c179e"
             ],
             [
              0.4444444444444444,
              "#bd3786"
             ],
             [
              0.5555555555555556,
              "#d8576b"
             ],
             [
              0.6666666666666666,
              "#ed7953"
             ],
             [
              0.7777777777777778,
              "#fb9f3a"
             ],
             [
              0.8888888888888888,
              "#fdca26"
             ],
             [
              1,
              "#f0f921"
             ]
            ],
            "type": "heatmapgl"
           }
          ],
          "histogram": [
           {
            "marker": {
             "pattern": {
              "fillmode": "overlay",
              "size": 10,
              "solidity": 0.2
             }
            },
            "type": "histogram"
           }
          ],
          "histogram2d": [
           {
            "colorbar": {
             "outlinewidth": 0,
             "ticks": ""
            },
            "colorscale": [
             [
              0,
              "#0d0887"
             ],
             [
              0.1111111111111111,
              "#46039f"
             ],
             [
              0.2222222222222222,
              "#7201a8"
             ],
             [
              0.3333333333333333,
              "#9c179e"
             ],
             [
              0.4444444444444444,
              "#bd3786"
             ],
             [
              0.5555555555555556,
              "#d8576b"
             ],
             [
              0.6666666666666666,
              "#ed7953"
             ],
             [
              0.7777777777777778,
              "#fb9f3a"
             ],
             [
              0.8888888888888888,
              "#fdca26"
             ],
             [
              1,
              "#f0f921"
             ]
            ],
            "type": "histogram2d"
           }
          ],
          "histogram2dcontour": [
           {
            "colorbar": {
             "outlinewidth": 0,
             "ticks": ""
            },
            "colorscale": [
             [
              0,
              "#0d0887"
             ],
             [
              0.1111111111111111,
              "#46039f"
             ],
             [
              0.2222222222222222,
              "#7201a8"
             ],
             [
              0.3333333333333333,
              "#9c179e"
             ],
             [
              0.4444444444444444,
              "#bd3786"
             ],
             [
              0.5555555555555556,
              "#d8576b"
             ],
             [
              0.6666666666666666,
              "#ed7953"
             ],
             [
              0.7777777777777778,
              "#fb9f3a"
             ],
             [
              0.8888888888888888,
              "#fdca26"
             ],
             [
              1,
              "#f0f921"
             ]
            ],
            "type": "histogram2dcontour"
           }
          ],
          "mesh3d": [
           {
            "colorbar": {
             "outlinewidth": 0,
             "ticks": ""
            },
            "type": "mesh3d"
           }
          ],
          "parcoords": [
           {
            "line": {
             "colorbar": {
              "outlinewidth": 0,
              "ticks": ""
             }
            },
            "type": "parcoords"
           }
          ],
          "pie": [
           {
            "automargin": true,
            "type": "pie"
           }
          ],
          "scatter": [
           {
            "marker": {
             "colorbar": {
              "outlinewidth": 0,
              "ticks": ""
             }
            },
            "type": "scatter"
           }
          ],
          "scatter3d": [
           {
            "line": {
             "colorbar": {
              "outlinewidth": 0,
              "ticks": ""
             }
            },
            "marker": {
             "colorbar": {
              "outlinewidth": 0,
              "ticks": ""
             }
            },
            "type": "scatter3d"
           }
          ],
          "scattercarpet": [
           {
            "marker": {
             "colorbar": {
              "outlinewidth": 0,
              "ticks": ""
             }
            },
            "type": "scattercarpet"
           }
          ],
          "scattergeo": [
           {
            "marker": {
             "colorbar": {
              "outlinewidth": 0,
              "ticks": ""
             }
            },
            "type": "scattergeo"
           }
          ],
          "scattergl": [
           {
            "marker": {
             "colorbar": {
              "outlinewidth": 0,
              "ticks": ""
             }
            },
            "type": "scattergl"
           }
          ],
          "scattermapbox": [
           {
            "marker": {
             "colorbar": {
              "outlinewidth": 0,
              "ticks": ""
             }
            },
            "type": "scattermapbox"
           }
          ],
          "scatterpolar": [
           {
            "marker": {
             "colorbar": {
              "outlinewidth": 0,
              "ticks": ""
             }
            },
            "type": "scatterpolar"
           }
          ],
          "scatterpolargl": [
           {
            "marker": {
             "colorbar": {
              "outlinewidth": 0,
              "ticks": ""
             }
            },
            "type": "scatterpolargl"
           }
          ],
          "scatterternary": [
           {
            "marker": {
             "colorbar": {
              "outlinewidth": 0,
              "ticks": ""
             }
            },
            "type": "scatterternary"
           }
          ],
          "surface": [
           {
            "colorbar": {
             "outlinewidth": 0,
             "ticks": ""
            },
            "colorscale": [
             [
              0,
              "#0d0887"
             ],
             [
              0.1111111111111111,
              "#46039f"
             ],
             [
              0.2222222222222222,
              "#7201a8"
             ],
             [
              0.3333333333333333,
              "#9c179e"
             ],
             [
              0.4444444444444444,
              "#bd3786"
             ],
             [
              0.5555555555555556,
              "#d8576b"
             ],
             [
              0.6666666666666666,
              "#ed7953"
             ],
             [
              0.7777777777777778,
              "#fb9f3a"
             ],
             [
              0.8888888888888888,
              "#fdca26"
             ],
             [
              1,
              "#f0f921"
             ]
            ],
            "type": "surface"
           }
          ],
          "table": [
           {
            "cells": {
             "fill": {
              "color": "#EBF0F8"
             },
             "line": {
              "color": "white"
             }
            },
            "header": {
             "fill": {
              "color": "#C8D4E3"
             },
             "line": {
              "color": "white"
             }
            },
            "type": "table"
           }
          ]
         },
         "layout": {
          "annotationdefaults": {
           "arrowcolor": "#2a3f5f",
           "arrowhead": 0,
           "arrowwidth": 1
          },
          "autotypenumbers": "strict",
          "coloraxis": {
           "colorbar": {
            "outlinewidth": 0,
            "ticks": ""
           }
          },
          "colorscale": {
           "diverging": [
            [
             0,
             "#8e0152"
            ],
            [
             0.1,
             "#c51b7d"
            ],
            [
             0.2,
             "#de77ae"
            ],
            [
             0.3,
             "#f1b6da"
            ],
            [
             0.4,
             "#fde0ef"
            ],
            [
             0.5,
             "#f7f7f7"
            ],
            [
             0.6,
             "#e6f5d0"
            ],
            [
             0.7,
             "#b8e186"
            ],
            [
             0.8,
             "#7fbc41"
            ],
            [
             0.9,
             "#4d9221"
            ],
            [
             1,
             "#276419"
            ]
           ],
           "sequential": [
            [
             0,
             "#0d0887"
            ],
            [
             0.1111111111111111,
             "#46039f"
            ],
            [
             0.2222222222222222,
             "#7201a8"
            ],
            [
             0.3333333333333333,
             "#9c179e"
            ],
            [
             0.4444444444444444,
             "#bd3786"
            ],
            [
             0.5555555555555556,
             "#d8576b"
            ],
            [
             0.6666666666666666,
             "#ed7953"
            ],
            [
             0.7777777777777778,
             "#fb9f3a"
            ],
            [
             0.8888888888888888,
             "#fdca26"
            ],
            [
             1,
             "#f0f921"
            ]
           ],
           "sequentialminus": [
            [
             0,
             "#0d0887"
            ],
            [
             0.1111111111111111,
             "#46039f"
            ],
            [
             0.2222222222222222,
             "#7201a8"
            ],
            [
             0.3333333333333333,
             "#9c179e"
            ],
            [
             0.4444444444444444,
             "#bd3786"
            ],
            [
             0.5555555555555556,
             "#d8576b"
            ],
            [
             0.6666666666666666,
             "#ed7953"
            ],
            [
             0.7777777777777778,
             "#fb9f3a"
            ],
            [
             0.8888888888888888,
             "#fdca26"
            ],
            [
             1,
             "#f0f921"
            ]
           ]
          },
          "colorway": [
           "#636efa",
           "#EF553B",
           "#00cc96",
           "#ab63fa",
           "#FFA15A",
           "#19d3f3",
           "#FF6692",
           "#B6E880",
           "#FF97FF",
           "#FECB52"
          ],
          "font": {
           "color": "#2a3f5f"
          },
          "geo": {
           "bgcolor": "white",
           "lakecolor": "white",
           "landcolor": "#E5ECF6",
           "showlakes": true,
           "showland": true,
           "subunitcolor": "white"
          },
          "hoverlabel": {
           "align": "left"
          },
          "hovermode": "closest",
          "mapbox": {
           "style": "light"
          },
          "paper_bgcolor": "white",
          "plot_bgcolor": "#E5ECF6",
          "polar": {
           "angularaxis": {
            "gridcolor": "white",
            "linecolor": "white",
            "ticks": ""
           },
           "bgcolor": "#E5ECF6",
           "radialaxis": {
            "gridcolor": "white",
            "linecolor": "white",
            "ticks": ""
           }
          },
          "scene": {
           "xaxis": {
            "backgroundcolor": "#E5ECF6",
            "gridcolor": "white",
            "gridwidth": 2,
            "linecolor": "white",
            "showbackground": true,
            "ticks": "",
            "zerolinecolor": "white"
           },
           "yaxis": {
            "backgroundcolor": "#E5ECF6",
            "gridcolor": "white",
            "gridwidth": 2,
            "linecolor": "white",
            "showbackground": true,
            "ticks": "",
            "zerolinecolor": "white"
           },
           "zaxis": {
            "backgroundcolor": "#E5ECF6",
            "gridcolor": "white",
            "gridwidth": 2,
            "linecolor": "white",
            "showbackground": true,
            "ticks": "",
            "zerolinecolor": "white"
           }
          },
          "shapedefaults": {
           "line": {
            "color": "#2a3f5f"
           }
          },
          "ternary": {
           "aaxis": {
            "gridcolor": "white",
            "linecolor": "white",
            "ticks": ""
           },
           "baxis": {
            "gridcolor": "white",
            "linecolor": "white",
            "ticks": ""
           },
           "bgcolor": "#E5ECF6",
           "caxis": {
            "gridcolor": "white",
            "linecolor": "white",
            "ticks": ""
           }
          },
          "title": {
           "x": 0.05
          },
          "xaxis": {
           "automargin": true,
           "gridcolor": "white",
           "linecolor": "white",
           "ticks": "",
           "title": {
            "standoff": 15
           },
           "zerolinecolor": "white",
           "zerolinewidth": 2
          },
          "yaxis": {
           "automargin": true,
           "gridcolor": "white",
           "linecolor": "white",
           "ticks": "",
           "title": {
            "standoff": 15
           },
           "zerolinecolor": "white",
           "zerolinewidth": 2
          }
         }
        }
       }
      }
     },
     "metadata": {}
    }
   ],
   "metadata": {}
  },
  {
   "cell_type": "code",
   "execution_count": 62,
   "source": [
    "# Create a table with tradable cryptocurrencies.\n",
    "clustered_df.hvplot.table(sortable=True, selectable=True)\n"
   ],
   "outputs": [
    {
     "output_type": "display_data",
     "data": {},
     "metadata": {}
    },
    {
     "output_type": "execute_result",
     "data": {
      "text/html": [
       "<div id='1474'>\n",
       "\n",
       "\n",
       "\n",
       "\n",
       "\n",
       "  <div class=\"bk-root\" id=\"5b4a1dc0-8e55-4243-b408-042bf8248257\" data-root-id=\"1474\"></div>\n",
       "</div>\n",
       "<script type=\"application/javascript\">(function(root) {\n",
       "  function embed_document(root) {\n",
       "    var docs_json = {\"429d219b-1e5b-42c6-a967-cf848248bbc8\":{\"defs\":[{\"extends\":null,\"module\":null,\"name\":\"ReactiveHTML1\",\"overrides\":[],\"properties\":[]},{\"extends\":null,\"module\":null,\"name\":\"FlexBox1\",\"overrides\":[],\"properties\":[{\"default\":\"flex-start\",\"kind\":null,\"name\":\"align_content\"},{\"default\":\"flex-start\",\"kind\":null,\"name\":\"align_items\"},{\"default\":\"row\",\"kind\":null,\"name\":\"flex_direction\"},{\"default\":\"wrap\",\"kind\":null,\"name\":\"flex_wrap\"},{\"default\":\"flex-start\",\"kind\":null,\"name\":\"justify_content\"}]},{\"extends\":null,\"module\":null,\"name\":\"TemplateActions1\",\"overrides\":[],\"properties\":[{\"default\":0,\"kind\":null,\"name\":\"open_modal\"},{\"default\":0,\"kind\":null,\"name\":\"close_modal\"}]},{\"extends\":null,\"module\":null,\"name\":\"MaterialTemplateActions1\",\"overrides\":[],\"properties\":[{\"default\":0,\"kind\":null,\"name\":\"open_modal\"},{\"default\":0,\"kind\":null,\"name\":\"close_modal\"}]}],\"roots\":{\"references\":[{\"attributes\":{\"source\":{\"id\":\"1476\"}},\"id\":\"1525\",\"type\":\"CDSView\"},{\"attributes\":{\"format\":\"0,0.0[00000]\"},\"id\":\"1498\",\"type\":\"NumberFormatter\"},{\"attributes\":{},\"id\":\"1527\",\"type\":\"UnionRenderers\"},{\"attributes\":{\"margin\":[5,5,5,5],\"name\":\"HSpacer02359\",\"sizing_mode\":\"stretch_width\"},\"id\":\"1530\",\"type\":\"Spacer\"},{\"attributes\":{},\"id\":\"1499\",\"type\":\"NumberEditor\"},{\"attributes\":{\"children\":[{\"id\":\"1475\"},{\"id\":\"1523\"},{\"id\":\"1530\"}],\"margin\":[0,0,0,0],\"name\":\"Row02354\",\"tags\":[\"embedded\"]},\"id\":\"1474\",\"type\":\"Row\"},{\"attributes\":{},\"id\":\"1493\",\"type\":\"StringFormatter\"},{\"attributes\":{\"editor\":{\"id\":\"1499\"},\"field\":\"PC1\",\"formatter\":{\"id\":\"1498\"},\"title\":\"PC1\"},\"id\":\"1500\",\"type\":\"TableColumn\"},{\"attributes\":{},\"id\":\"1479\",\"type\":\"StringEditor\"},{\"attributes\":{},\"id\":\"1478\",\"type\":\"StringFormatter\"},{\"attributes\":{\"format\":\"0,0.0[00000]\"},\"id\":\"1508\",\"type\":\"NumberFormatter\"},{\"attributes\":{\"format\":\"0,0.0[00000]\"},\"id\":\"1503\",\"type\":\"NumberFormatter\"},{\"attributes\":{\"editor\":{\"id\":\"1479\"},\"field\":\"Algorithm\",\"formatter\":{\"id\":\"1478\"},\"title\":\"Algorithm\"},\"id\":\"1480\",\"type\":\"TableColumn\"},{\"attributes\":{},\"id\":\"1504\",\"type\":\"NumberEditor\"},{\"attributes\":{\"margin\":[5,5,5,5],\"name\":\"HSpacer02358\",\"sizing_mode\":\"stretch_width\"},\"id\":\"1475\",\"type\":\"Spacer\"},{\"attributes\":{\"editor\":{\"id\":\"1504\"},\"field\":\"PC2\",\"formatter\":{\"id\":\"1503\"},\"title\":\"PC2\"},\"id\":\"1505\",\"type\":\"TableColumn\"},{\"attributes\":{},\"id\":\"1483\",\"type\":\"StringFormatter\"},{\"attributes\":{},\"id\":\"1509\",\"type\":\"NumberEditor\"},{\"attributes\":{},\"id\":\"1484\",\"type\":\"StringEditor\"},{\"attributes\":{},\"id\":\"1477\",\"type\":\"Selection\"},{\"attributes\":{\"editor\":{\"id\":\"1484\"},\"field\":\"ProofType\",\"formatter\":{\"id\":\"1483\"},\"title\":\"ProofType\"},\"id\":\"1485\",\"type\":\"TableColumn\"},{\"attributes\":{\"format\":\"0,0.0[00000]\"},\"id\":\"1488\",\"type\":\"NumberFormatter\"},{\"attributes\":{},\"id\":\"1513\",\"type\":\"NumberFormatter\"},{\"attributes\":{\"editor\":{\"id\":\"1509\"},\"field\":\"PC3\",\"formatter\":{\"id\":\"1508\"},\"title\":\"PC3\"},\"id\":\"1510\",\"type\":\"TableColumn\"},{\"attributes\":{},\"id\":\"1514\",\"type\":\"IntEditor\"},{\"attributes\":{\"editor\":{\"id\":\"1514\"},\"field\":\"class\",\"formatter\":{\"id\":\"1513\"},\"title\":\"class\"},\"id\":\"1515\",\"type\":\"TableColumn\"},{\"attributes\":{},\"id\":\"1489\",\"type\":\"NumberEditor\"},{\"attributes\":{\"columns\":[{\"id\":\"1480\"},{\"id\":\"1485\"},{\"id\":\"1490\"},{\"id\":\"1495\"},{\"id\":\"1500\"},{\"id\":\"1505\"},{\"id\":\"1510\"},{\"id\":\"1515\"},{\"id\":\"1520\"}],\"height\":300,\"reorderable\":false,\"source\":{\"id\":\"1476\"},\"view\":{\"id\":\"1525\"},\"width\":700},\"id\":\"1523\",\"type\":\"DataTable\"},{\"attributes\":{},\"id\":\"1518\",\"type\":\"StringFormatter\"},{\"attributes\":{\"editor\":{\"id\":\"1494\"},\"field\":\"TotalCoinSupply\",\"formatter\":{\"id\":\"1493\"},\"title\":\"TotalCoinSupply\"},\"id\":\"1495\",\"type\":\"TableColumn\"},{\"attributes\":{\"data\":{\"Algorithm\":[\"Scrypt\",\"Scrypt\",\"X13\",\"SHA-256\",\"Ethash\",\"Scrypt\",\"X11\",\"CryptoNight-V7\",\"Ethash\",\"Equihash\",\"SHA-512\",\"Multiple\",\"SHA-256\",\"SHA-256\",\"Scrypt\",\"X15\",\"X11\",\"Scrypt\",\"Scrypt\",\"Scrypt\",\"Multiple\",\"Scrypt\",\"SHA-256\",\"Scrypt\",\"Scrypt\",\"Scrypt\",\"Quark\",\"Groestl\",\"Scrypt\",\"Scrypt\",\"Scrypt\",\"Scrypt\",\"Scrypt\",\"X11\",\"Scrypt\",\"Groestl\",\"Multiple\",\"SHA-256\",\"Scrypt\",\"Scrypt\",\"Scrypt\",\"Scrypt\",\"PoS\",\"Scrypt\",\"Scrypt\",\"NeoScrypt\",\"Scrypt\",\"Scrypt\",\"Scrypt\",\"Scrypt\",\"X11\",\"Scrypt\",\"X11\",\"SHA-256\",\"Scrypt\",\"Scrypt\",\"Scrypt\",\"SHA3\",\"Scrypt\",\"HybridScryptHash256\",\"Scrypt\",\"Scrypt\",\"SHA-256\",\"Scrypt\",\"X13\",\"Scrypt\",\"SHA-256\",\"Scrypt\",\"X13\",\"NeoScrypt\",\"Scrypt\",\"Scrypt\",\"Scrypt\",\"Scrypt\",\"Scrypt\",\"Scrypt\",\"X11\",\"X11\",\"SHA-256\",\"Multiple\",\"SHA-256\",\"PHI1612\",\"X11\",\"SHA-256\",\"SHA-256\",\"SHA-256\",\"X11\",\"Scrypt\",\"Scrypt\",\"Scrypt\",\"Scrypt\",\"Lyra2REv2\",\"Scrypt\",\"X11\",\"Multiple\",\"SHA-256\",\"X13\",\"Scrypt\",\"CryptoNight\",\"CryptoNight\",\"Shabal256\",\"Counterparty\",\"Scrypt\",\"SHA-256\",\"Groestl\",\"Scrypt\",\"Scrypt\",\"Scrypt\",\"X13\",\"Scrypt\",\"Scrypt\",\"Scrypt\",\"Scrypt\",\"X13\",\"Scrypt\",\"Stanford Folding\",\"X11\",\"Multiple\",\"QuBit\",\"Scrypt\",\"Scrypt\",\"Scrypt\",\"M7 POW\",\"Scrypt\",\"SHA-256\",\"Scrypt\",\"X11\",\"SHA3\",\"X11\",\"Lyra2RE\",\"SHA-256\",\"QUAIT\",\"X11\",\"X11\",\"Scrypt\",\"Scrypt\",\"Scrypt\",\"Ethash\",\"X13\",\"Blake2b\",\"SHA-256\",\"X15\",\"X11\",\"SHA-256\",\"BLAKE256\",\"Scrypt\",\"1GB AES Pattern Search\",\"SHA-256\",\"X11\",\"Scrypt\",\"SHA-256\",\"SHA-256\",\"NIST5\",\"Scrypt\",\"Scrypt\",\"X11\",\"Dagger\",\"Scrypt\",\"X11GOST\",\"X11\",\"Scrypt\",\"SHA-256\",\"Scrypt\",\"PoS\",\"Scrypt\",\"X11\",\"X11\",\"SHA-256\",\"SHA-256\",\"NIST5\",\"X11\",\"Scrypt\",\"POS 3.0\",\"Scrypt\",\"Scrypt\",\"Scrypt\",\"X13\",\"X11\",\"X11\",\"Equihash\",\"X11\",\"Scrypt\",\"CryptoNight\",\"SHA-256\",\"SHA-256\",\"X11\",\"Scrypt\",\"Multiple\",\"Scrypt\",\"Scrypt\",\"Scrypt\",\"SHA-256\",\"Scrypt\",\"Scrypt\",\"SHA-256D\",\"PoS\",\"Scrypt\",\"X11\",\"Lyra2Z\",\"PoS\",\"X13\",\"X14\",\"PoS\",\"SHA-256D\",\"Ethash\",\"Equihash\",\"DPoS\",\"X11\",\"Scrypt\",\"X11\",\"X13\",\"X11\",\"PoS\",\"Scrypt\",\"Scrypt\",\"X11\",\"PoS\",\"X11\",\"SHA-256\",\"Scrypt\",\"X11\",\"Scrypt\",\"Scrypt\",\"X11\",\"CryptoNight\",\"Scrypt\",\"Scrypt\",\"Scrypt\",\"Scrypt\",\"Quark\",\"QuBit\",\"Scrypt\",\"CryptoNight\",\"Lyra2RE\",\"Scrypt\",\"SHA-256\",\"X11\",\"Scrypt\",\"X11\",\"Scrypt\",\"CryptoNight-V7\",\"Scrypt\",\"Scrypt\",\"Scrypt\",\"X13\",\"X11\",\"Equihash\",\"Scrypt\",\"Scrypt\",\"Lyra2RE\",\"Scrypt\",\"Dagger-Hashimoto\",\"X11\",\"Blake2S\",\"X11\",\"Scrypt\",\"PoS\",\"X11\",\"NIST5\",\"PoS\",\"X11\",\"Scrypt\",\"Scrypt\",\"Scrypt\",\"SHA-256\",\"X11\",\"Scrypt\",\"Scrypt\",\"SHA-256\",\"PoS\",\"Scrypt\",\"X15\",\"SHA-256\",\"Scrypt\",\"POS 3.0\",\"CryptoNight-V7\",\"536\",\"Argon2d\",\"Blake2b\",\"Cloverhash\",\"CryptoNight\",\"NIST5\",\"X11\",\"NIST5\",\"Skein\",\"Scrypt\",\"X13\",\"Scrypt\",\"X11\",\"X11\",\"Scrypt\",\"CryptoNight\",\"X13\",\"Time Travel\",\"Scrypt\",\"Keccak\",\"SkunkHash v2 Raptor\",\"X11\",\"Skein\",\"SHA-256\",\"X11\",\"Scrypt\",\"VeChainThor Authority\",\"Scrypt\",\"PoS\",\"Scrypt\",\"Scrypt\",\"Scrypt\",\"Scrypt\",\"Scrypt\",\"Scrypt\",\"Scrypt\",\"CryptoNight\",\"SHA-512\",\"Ouroboros\",\"X11\",\"Equihash\",\"NeoScrypt\",\"X11\",\"Scrypt\",\"NeoScrypt\",\"Lyra2REv2\",\"Equihash\",\"Scrypt\",\"SHA-256\",\"NIST5\",\"PHI1612\",\"Dagger\",\"Scrypt\",\"Quark\",\"Scrypt\",\"POS 2.0\",\"Scrypt\",\"SHA-256\",\"X11\",\"NeoScrypt\",\"Ethash\",\"NeoScrypt\",\"X11\",\"DPoS\",\"NIST5\",\"X13\",\"Multiple\",\"Scrypt\",\"CryptoNight\",\"CryptoNight\",\"Ethash\",\"NIST5\",\"Quark\",\"X11\",\"CryptoNight-V7\",\"Scrypt\",\"Scrypt\",\"Scrypt\",\"X11\",\"BLAKE256\",\"X11\",\"NeoScrypt\",\"Quark\",\"NeoScrypt\",\"Scrypt\",\"Scrypt\",\"Scrypt\",\"X11\",\"X11\",\"SHA-256\",\"C11\",\"POS 3.0\",\"Ethash\",\"Scrypt\",\"CryptoNight\",\"SkunkHash\",\"Scrypt\",\"CryptoNight\",\"Scrypt\",\"Dagger\",\"Lyra2REv2\",\"X13\",\"Proof-of-BibleHash\",\"SHA-256 + Hive\",\"Scrypt\",\"Scrypt\",\"X11\",\"C11\",\"Proof-of-Authority\",\"X11\",\"XEVAN\",\"Scrypt\",\"VBFT\",\"Ethash\",\"CryptoNight\",\"Scrypt\",\"IMesh\",\"NIST5\",\"Scrypt\",\"Scrypt\",\"Equihash\",\"Scrypt\",\"Lyra2Z\",\"Green Protocol\",\"PoS\",\"Scrypt\",\"Semux BFT consensus\",\"X11\",\"Quark\",\"PoS\",\"CryptoNight\",\"X16R\",\"Scrypt\",\"NIST5\",\"Lyra2RE\",\"XEVAN\",\"Tribus\",\"Scrypt\",\"Lyra2Z\",\"CryptoNight\",\"CryptoNight Heavy\",\"CryptoNight\",\"Scrypt\",\"Scrypt\",\"Jump Consistent Hash\",\"SHA-256D\",\"CryptoNight\",\"Scrypt\",\"X15\",\"Scrypt\",\"Quark\",\"SHA-256\",\"DPoS\",\"X16R\",\"HMQ1725\",\"X11\",\"X16R\",\"Quark\",\"Quark\",\"Scrypt\",\"Lyra2REv2\",\"Quark\",\"Scrypt\",\"Scrypt\",\"CryptoNight-V7\",\"Cryptonight-GPU\",\"XEVAN\",\"CryptoNight Heavy\",\"X11\",\"X11\",\"Scrypt\",\"PoS\",\"SHA-256\",\"Keccak\",\"X11\",\"X11\",\"Scrypt\",\"SHA-512\",\"X16R\",\"ECC 256K1\",\"Equihash\",\"XEVAN\",\"Lyra2Z\",\"SHA-256\",\"XEVAN\",\"X11\",\"CryptoNight\",\"Quark\",\"Blake\",\"Blake\",\"Equihash\",\"Exosis\",\"Scrypt\",\"Scrypt\",\"Equihash\",\"Quark\",\"Equihash\",\"Quark\",\"Scrypt\",\"QuBit\",\"X11\",\"Scrypt\",\"XEVAN\",\"SHA-256D\",\"X11\",\"SHA-256\",\"X13\",\"SHA-256\",\"X11\",\"DPoS\",\"Scrypt\",\"Scrypt\",\"X11\",\"NeoScrypt\",\"Scrypt\",\"Blake\",\"Scrypt\",\"SHA-256\",\"Scrypt\",\"X11\",\"Scrypt\",\"Scrypt\",\"SHA-256\",\"X11\",\"SHA-256\",\"Scrypt\",\"Scrypt\",\"Scrypt\",\"Groestl\",\"X11\",\"Scrypt\",\"PoS\",\"Scrypt\",\"Scrypt\",\"X11\",\"SHA-256\",\"DPoS\",\"Scrypt\",\"Scrypt\",\"NeoScrypt\",\"Multiple\",\"X13\",\"Equihash+Scrypt\",\"DPoS\",\"Ethash\",\"DPoS\",\"SHA-256\",\"Leased POS\",\"PoS\",\"TRC10\",\"PoS\",\"SHA-256\",\"Scrypt\",\"CryptoNight\",\"Equihash\",\"Scrypt\"],\"CoinName\":[\"42 Coin\",\"404Coin\",\"EliteCoin\",\"Bitcoin\",\"Ethereum\",\"Litecoin\",\"Dash\",\"Monero\",\"Ethereum Classic\",\"ZCash\",\"Bitshares\",\"DigiByte\",\"BitcoinDark\",\"PayCoin\",\"ProsperCoin\",\"KoboCoin\",\"Spreadcoin\",\"Argentum\",\"Aurora Coin\",\"BlueCoin\",\"MyriadCoin\",\"MoonCoin\",\"ZetaCoin\",\"SexCoin\",\"Quatloo\",\"EnergyCoin\",\"QuarkCoin\",\"Riecoin\",\"Digitalcoin \",\"BitBar\",\"Catcoin\",\"CryptoBullion\",\"CannaCoin\",\"CryptCoin\",\"CasinoCoin\",\"Diamond\",\"Verge\",\"DevCoin\",\"EarthCoin\",\"E-Gulden\",\"Einsteinium\",\"Emerald\",\"Exclusive Coin\",\"FlutterCoin\",\"Franko\",\"FeatherCoin\",\"GrandCoin\",\"GlobalCoin\",\"GoldCoin\",\"HoboNickels\",\"HyperStake\",\"Infinite Coin\",\"IOCoin\",\"IXcoin\",\"KrugerCoin\",\"LuckyCoin\",\"Litebar \",\"MaxCoin\",\"MegaCoin\",\"MediterraneanCoin\",\"MintCoin\",\"MinCoin\",\"MazaCoin\",\"Nautilus Coin\",\"NavCoin\",\"NobleCoin\",\"Namecoin\",\"NyanCoin\",\"OpalCoin\",\"Orbitcoin\",\"PotCoin\",\"PhoenixCoin\",\"Reddcoin\",\"RonPaulCoin\",\"StableCoin\",\"SmartCoin\",\"SuperCoin\",\"SyncCoin\",\"SysCoin\",\"TeslaCoin\",\"TigerCoin\",\"TittieCoin\",\"TorCoin\",\"TerraCoin\",\"UnbreakableCoin\",\"Unobtanium\",\"UroCoin\",\"UnitaryStatus Dollar\",\"UltraCoin\",\"ViaCoin\",\"VeriCoin\",\"Vertcoin\",\"WorldCoin\",\"X11 Coin\",\"Crypti\",\"JouleCoin\",\"StealthCoin\",\"ZCC Coin\",\"ByteCoin\",\"DigitalNote \",\"BurstCoin\",\"StorjCoin\",\"MonaCoin\",\"Neutron\",\"FairCoin\",\"Gulden\",\"RubyCoin\",\"PesetaCoin\",\"Kore\",\"Wild Beast Coin\",\"Dnotes\",\"Flo\",\"8BIT Coin\",\"Sativa Coin\",\"ArtByte\",\"Folding Coin\",\"Ucoin\",\"Unitus\",\"CypherPunkCoin\",\"OmniCron\",\"Vtorrent\",\"GreenCoin\",\"Cryptonite\",\"MasterCoin\",\"SoonCoin\",\"1Credit\",\"IslaCoin\",\"Nexus\",\"MarsCoin \",\"Crypto\",\"Anarchists Prime\",\"Droidz\",\"BowsCoin\",\"Squall Coin\",\"Song Coin\",\"BitZeny\",\"Diggits\",\"Expanse\",\"Paycon\",\"Siacoin\",\"Emercoin\",\"EverGreenCoin\",\"MindCoin\",\"I0coin\",\"Decred\",\"Revolution VR\",\"HOdlcoin\",\"EDRCoin\",\"Hitcoin\",\"Gamecredits\",\"DubaiCoin\",\"CarpeDiemCoin\",\"PWR Coin\",\"BillaryCoin\",\"GPU Coin\",\"Adzcoin\",\"SoilCoin\",\"YoCoin\",\"SibCoin\",\"EuropeCoin\",\"ZeitCoin\",\"SwingCoin\",\"SafeExchangeCoin\",\"Nebuchadnezzar\",\"Francs\",\"BolivarCoin\",\"Ratecoin\",\"Revenu\",\"Clockcoin\",\"VIP Tokens\",\"BitSend\",\"Omni\",\"Let it Ride\",\"PutinCoin\",\"iBankCoin\",\"Frankywillcoin\",\"MudraCoin\",\"PizzaCoin\",\"Lutetium Coin\",\"Komodo\",\"GoldBlocks\",\"CarterCoin\",\"Karbo\",\"BitTokens\",\"ZayedCoin\",\"MustangCoin\",\"ZoneCoin\",\"Circuits of Value\",\"RootCoin\",\"DopeCoin\",\"BitCurrency\",\"DollarCoin\",\"Swiscoin\",\"Shilling\",\"BuzzCoin\",\"Opair\",\"PesoBit\",\"Halloween Coin\",\"ZCoin\",\"CoffeeCoin\",\"RoyalCoin\",\"GanjaCoin V2\",\"TeamUP\",\"LanaCoin\",\"Elementrem\",\"ZClassic\",\"ARK\",\"InsaneCoin\",\"KiloCoin\",\"ArtexCoin\",\"EmberCoin\",\"XenixCoin\",\"FreeCoin\",\"PLNCoin\",\"AquariusCoin\",\"Kurrent\",\"Creatio\",\"Eternity\",\"Eurocoin\",\"BitcoinFast\",\"Stakenet\",\"BitConnect Coin\",\"MoneyCoin\",\"Enigma\",\"Cannabis Industry Coin\",\"Russiacoin\",\"PandaCoin\",\"GameUnits\",\"GAKHcoin\",\"Allsafe\",\"LiteCreed\",\"OsmiumCoin\",\"Bikercoins\",\"HexxCoin\",\"Klingon Empire Darsek\",\"Internet of People\",\"KushCoin\",\"Printerium\",\"PacCoin\",\"Impeach\",\"Citadel\",\"Zilbercoin\",\"FirstCoin\",\"BeaverCoin\",\"FindCoin\",\"VaultCoin\",\"Zero\",\"OpenChat\",\"Canada eCoin\",\"Zoin\",\"RenosCoin\",\"DubaiCoin\",\"VirtacoinPlus\",\"TajCoin\",\"Impact\",\"EB3coin\",\"Atmos\",\"HappyCoin\",\"Coinonat\",\"MacronCoin\",\"Condensate\",\"Independent Money System\",\"ArgusCoin\",\"LomoCoin\",\"ProCurrency\",\"GoldReserve\",\"BenjiRolls\",\"GrowthCoin\",\"ILCoin\",\"Phreak\",\"Degas Coin\",\"HTML5 Coin\",\"Ultimate Secure Cash\",\"EquiTrader\",\"QTUM\",\"Quantum Resistant Ledger\",\"Espers\",\"Dynamic\",\"Nano\",\"ChanCoin\",\"Dinastycoin\",\"Denarius\",\"DigitalPrice\",\"Virta Unique Coin\",\"Bitcoin Planet\",\"Unify\",\"BritCoin\",\"SocialCoin\",\"ArcticCoin\",\"DAS\",\"Linda\",\"LeviarCoin\",\"DeepOnion\",\"Bitcore\",\"gCn Coin\",\"SmartCash\",\"Signatum\",\"Onix\",\"Cream\",\"Bitcoin Cash\",\"Monoeci\",\"Draftcoin\",\"Vechain\",\"Sojourn Coin\",\"Stakecoin\",\"NewYorkCoin\",\"FrazCoin\",\"Kronecoin\",\"AdCoin\",\"Linx\",\"CoinonatX\",\"Ethereum Dark\",\"Sumokoin\",\"Obsidian\",\"Cardano\",\"Regalcoin\",\"BitcoinZ\",\"TrezarCoin\",\"Elements\",\"TerraNovaCoin\",\"VIVO Coin\",\"Rupee\",\"Bitcoin Gold\",\"WomenCoin\",\"Theresa May Coin\",\"NamoCoin\",\"LUXCoin\",\"Pirl\",\"Xios\",\"Bitcloud 2.0\",\"eBoost\",\"KekCoin\",\"BlackholeCoin\",\"Infinity Economics\",\"Pura\",\"Innova\",\"Ellaism\",\"GoByte\",\"Magnet\",\"Lamden Tau\",\"Electra\",\"Bitcoin Diamond\",\"SHIELD\",\"Cash & Back Coin\",\"UltraNote\",\"BitCoal\",\"DaxxCoin\",\"Bulwark\",\"Kalkulus\",\"AC3\",\"Lethean\",\"GermanCoin\",\"LiteCoin Ultra\",\"PopularCoin\",\"PhantomX\",\"Photon\",\"Sucre\",\"SparksPay\",\"Digiwage\",\"GunCoin\",\"IrishCoin\",\"Trollcoin\",\"Litecoin Plus\",\"Monkey Project\",\"Pioneer Coin\",\"UnitedBitcoin\",\"Interzone\",\"TokenPay\",\"1717 Masonic Commemorative Token\",\"My Big Coin\",\"TurtleCoin\",\"MUNcoin\",\"Unified Society USDEX\",\"Niobio Cash\",\"ShareChain\",\"Travelflex\",\"KREDS\",\"Tokyo Coin\",\"BiblePay\",\"LitecoinCash\",\"BitFlip\",\"LottoCoin\",\"Crypto Improvement Fund\",\"Stipend\",\"Poa Network\",\"Pushi\",\"Ellerium\",\"Velox\",\"Ontology\",\"Callisto Network\",\"BitTube\",\"Poseidon\",\"Aidos Kuneen\",\"Bitspace\",\"Briacoin\",\"Ignition\",\"Bitrolium\",\"MedicCoin\",\"Alpenschillling\",\"Bitcoin Green\",\"Deviant Coin\",\"Abjcoin\",\"Semux\",\"FuturoCoin\",\"Carebit\",\"Zealium\",\"Monero Classic\",\"Proton\",\"iDealCash\",\"Jumpcoin\",\"Infinex\",\"Bitcoin Incognito\",\"KEYCO\",\"HollyWoodCoin\",\"GINcoin\",\"PlatinCoin\",\"Loki\",\"Newton Coin\",\"Swisscoin\",\"Xt3ch\",\"MassGrid\",\"TheVig\",\"PluraCoin\",\"EmaratCoin\",\"Dekado\",\"Lynx\",\"Poseidon Quark\",\"BitcoinWSpectrum\",\"Muse\",\"Motion\",\"PlusOneCoin\",\"Axe\",\"Trivechain\",\"Dystem\",\"Giant\",\"Peony Coin\",\"Absolute Coin\",\"Vitae\",\"HexCoin\",\"TPCash\",\"Webchain\",\"Ryo\",\"Urals Coin\",\"Qwertycoin\",\"ARENON\",\"EUNO\",\"MMOCoin\",\"Ketan\",\"Project Pai\",\"XDNA\",\"PAXEX\",\"Azart\",\"ThunderStake\",\"Kcash\",\"Xchange\",\"Acute Angle Cloud\",\"CrypticCoin\",\"Bettex coin\",\"Actinium\",\"Bitcoin SV\",\"BitMoney\",\"Junson Ming Chan Coin\",\"FREDEnergy\",\"HerbCoin\",\"Universal Molecule\",\"Lithium\",\"PirateCash\",\"Exosis\",\"Block-Logic\",\"Oduwa\",\"Beam\",\"Galilel\",\"Bithereum\",\"Crypto Sports\",\"Credit\",\"SLICE\",\"Dash Platinum\",\"Nasdacoin\",\"Beetle Coin\",\"Titan Coin\",\"Award\",\"BLAST\",\"Bitcoin Rhodium\",\"GlobalToken\",\"Insane Coin\",\"ALAX\",\"LiteDoge\",\"SolarCoin\",\"TruckCoin\",\"UFO Coin\",\"OrangeCoin\",\"BlakeCoin\",\"BitstarCoin\",\"NeosCoin\",\"HyperCoin\",\"PinkCoin\",\"Crypto Escudo\",\"AudioCoin\",\"IncaKoin\",\"Piggy Coin\",\"Crown Coin\",\"Genstake\",\"SmileyCoin\",\"XiaoMiCoin\",\"Groestlcoin\",\"CapriCoin\",\" ClubCoin\",\"Radium\",\"Bata\",\"Pakcoin\",\"Creditbit \",\"OKCash\",\"Lisk\",\"HiCoin\",\"WhiteCoin\",\"FriendshipCoin\",\"JoinCoin\",\"Triangles Coin\",\"Vollar\",\"EOS\",\"Reality Clash\",\"Oxycoin\",\"TigerCash\",\"Waves\",\"Particl\",\"BitTorrent\",\"Nxt\",\"ZEPHYR\",\"Gapcoin\",\"Beldex\",\"Horizen\",\"BitcoinPlus\"],\"PC1\":{\"__ndarray__\":\"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\",\"dtype\":\"float64\",\"order\":\"little\",\"shape\":[532]},\"PC2\":{\"__ndarray__\":\"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\",\"dtype\":\"float64\",\"order\":\"little\",\"shape\":[532]},\"PC3\":{\"__ndarray__\":\"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\",\"dtype\":\"float64\",\"order\":\"little\",\"shape\":[532]},\"ProofType\":[\"PoW/PoS\",\"PoW/PoS\",\"PoW/PoS\",\"PoW\",\"PoW\",\"PoW\",\"PoW/PoS\",\"PoW\",\"PoW\",\"PoW\",\"PoS\",\"PoW\",\"PoW/PoS\",\"PoS\",\"PoW\",\"PoW/PoS\",\"PoW\",\"PoW\",\"PoW/PoS\",\"PoW/PoS\",\"PoW\",\"PoW\",\"PoW\",\"PoW\",\"PoW\",\"PoW/PoS\",\"PoW\",\"PoW\",\"PoW\",\"PoW/PoS\",\"PoW\",\"PoW/PoS\",\"PoW\",\"PoW\",\"PoC\",\"PoW/PoS\",\"PoW\",\"PoW\",\"PoW\",\"PoW\",\"PoW\",\"PoW\",\"PoS\",\"PoS/PoW/PoT\",\"PoW\",\"PoW\",\"PoW\",\"PoW\",\"PoW\",\"PoW/PoS\",\"PoS\",\"PoW\",\"PoW/PoS\",\"PoW\",\"PoW\",\"PoW\",\"PoW\",\"PoW/PoS\",\"PoW\",\"PoW\",\"PoS\",\"PoW\",\"PoW/PoS\",\"PoS\",\"PoW/PoS\",\"PoW\",\"PoW\",\"PoW\",\"PoW/PoS\",\"PoW/PoS\",\"PoW/PoS\",\"PoW/PoS\",\"PoW/PoS\",\"PoW\",\"PoW\",\"PoW\",\"PoS\",\"PoW/PoS\",\"PoW\",\"PoS\",\"PoW\",\"PoS\",\"PoW/PoS\",\"PoW\",\"PoW\",\"PoW\",\"PoW\",\"PoW/PoS\",\"PoW/PoS\",\"PoW\",\"PoST\",\"PoW\",\"PoW\",\"PoW/PoS\",\"PoS\",\"PoW\",\"PoW/PoS\",\"PoW/PoS\",\"PoW\",\"PoW\",\"PoC\",\"PoS\",\"PoW\",\"PoW/PoS\",\"PoW/PoS\",\"PoW\",\"PoS\",\"PoW\",\"PoW/PoS\",\"PoW\",\"PoS\",\"PoW\",\"PoW/PoS\",\"PoW/PoS\",\"PoW\",\"PoW\",\"PoS\",\"PoW\",\"PoW\",\"PoW\",\"PoW/PoS\",\"PoW\",\"PoW\",\"PoW\",\"PoW\",\"PoW\",\"PoW/PoS\",\"PoW/nPoS\",\"PoW\",\"PoW\",\"PoW\",\"PoW/PoS\",\"PoW\",\"PoS/PoW\",\"PoW\",\"PoW\",\"PoS\",\"PoW\",\"PoW/PoS\",\"PoW\",\"PoW/PoS\",\"PoW/PoS\",\"PoW\",\"PoW\",\"PoW/PoS\",\"PoW\",\"PoW\",\"PoW/PoS\",\"PoW/PoS\",\"PoW\",\"PoW/PoS\",\"PoW\",\"PoW/PoS\",\"PoW/PoS\",\"PoS\",\"PoW\",\"PoW\",\"PoW\",\"PoW\",\"PoW/PoS\",\"PoS\",\"PoW/PoS\",\"PoC\",\"PoS\",\"PoW\",\"PoW\",\"PoW/PoS\",\"PoW/PoS\",\"PoW/PoS\",\"PoW/PoS\",\"PoW/PoS\",\"PoW\",\"PoS\",\"PoW/PoS\",\"PoW/PoS\",\"PoW/PoS\",\"PoS\",\"PoW\",\"PoS\",\"dPoW/PoW\",\"PoW/PoS\",\"PoW/PoS\",\"PoW\",\"PoW/PoS\",\"PoW\",\"PoW/PoS\",\"PoW/PoS\",\"PoW\",\"PoW/PoS\",\"PoW\",\"PoS\",\"PoW\",\"PoW/PoW\",\"PoW\",\"PoW/PoS\",\"PoS\",\"PoW/PoS\",\"PoW/PoS\",\"PoW\",\"PoS\",\"PoS\",\"PoW/PoS\",\"PoS\",\"PoW/PoS\",\"PoW\",\"PoW\",\"DPoS\",\"PoW/PoS\",\"PoW\",\"PoW\",\"PoW/PoS\",\"PoW/PoS\",\"PoS\",\"PoW/PoS\",\"PoW/PoS\",\"PoW\",\"PoS\",\"PoW/PoS\",\"PoW/PoS\",\"PoW/PoS\",\"TPoS\",\"PoW/PoS\",\"PoW/PoS\",\"PoW/PoS\",\"PoW\",\"PoW/PoS\",\"PoS\",\"PoW/PoS\",\"PoW/PoS\",\"PoS\",\"PoW/PoS\",\"PoW\",\"PoW\",\"PoW\",\"PoW/PoS\",\"PoW/PoS\",\"PoW/PoS\",\"PoW/PoS\",\"PoW\",\"PoW/PoS\",\"PoW\",\"PoS\",\"PoW/PoS \",\"PoW\",\"PoS\",\"PoW\",\"PoW\",\"PoW/PoS\",\"PoW\",\"PoW\",\"PoS\",\"PoW\",\"PoW/PoS\",\"PoW/PoS\",\"PoW/PoS\",\"PoW\",\"PoS\",\"PoW/PoS\",\"PoW\",\"PoS\",\"PoW/PoS\",\"PoW/PoS\",\"PoW/PoS\",\"PoW/PoS\",\"PoS\",\"PoW/PoS\",\"PoW\",\"PoS\",\"PoW\",\"PoS\",\"PoW/PoS\",\"PoW/PoS\",\"PoS\",\"PoW\",\"PoS\",\"PoW\",\"PoW/PoS\",\"PoW\",\"PoW\",\"PoW\",\"PoW\",\"PoW/PoS\",\"PoW\",\"PoW/PoS\",\"PoW/PoS\",\"PoW\",\"PoW/PoS\",\"PoW\",\"PoW\",\"PoW\",\"PoW/PoS\",\"PoW\",\"PoW/PoS\",\"PoW\",\"PoW\",\"PoW\",\"PoS\",\"PoW\",\"PoW/PoS\",\"PoW\",\"PoW/PoS\",\"PoS\",\"Proof of Authority\",\"PoW\",\"PoS\",\"PoW\",\"PoW\",\"PoW\",\"PoW\",\"PoW\",\"PoW/PoS\",\"PoW/PoS\",\"PoW\",\"PoS\",\"PoS\",\"PoW/PoS\",\"PoW\",\"PoW/PoS\",\"PoW\",\"PoW/PoS\",\"PoW\",\"PoS\",\"PoW\",\"PoW/PoS\",\"PoW/PoS\",\"PoW/PoS\",\"PoW/PoS\",\"PoW\",\"PoW/PoS\",\"PoW/PoS\",\"PoW\",\"PoS\",\"PoW/PoS\",\"PoS\",\"PoW\",\"PoW\",\"PoW\",\"PoW\",\"PoW/PoS\",\"DPoS\",\"PoW/PoS\",\"PoW/PoS\",\"PoW\",\"PoW/PoS\",\"PoW\",\"PoW\",\"PoW\",\"PoS\",\"PoS\",\"PoW\",\"PoW\",\"PoW/PoS\",\"PoW/PoS\",\"PoW\",\"PoW/PoS\",\"PoW\",\"PoW\",\"PoW\",\"PoS\",\"PoW\",\"PoW\",\"PoW/PoS\",\"PoW/PoS\",\"PoS\",\"PoW\",\"PoW\",\"PoW\",\"PoS\",\"PoS\",\"PoW and PoS\",\"PoW\",\"PoW\",\"PoW/PoS\",\"PoW\",\"PoW\",\"PoW\",\"PoW\",\"PoS\",\"POBh\",\"PoW + Hive\",\"PoW\",\"PoW\",\"PoW\",\"PoW/PoS\",\"PoA\",\"PoW/PoS\",\"PoW/PoS\",\"PoS\",\"PoS\",\"PoW\",\"PoW\",\"PoW\",\"PoW\",\"PoW/PoS\",\"PoW/PoS\",\"PoW/PoS\",\"PoW\",\"PoS\",\"PoW\",\"PoS\",\"PoS\",\"PoW/PoS\",\"DPoS\",\"PoW\",\"PoW/PoS\",\"PoS\",\"PoW\",\"PoS\",\"PoW/PoS\",\"PoW\",\"PoW\",\"PoS/PoW\",\"PoW\",\"PoS\",\"PoW\",\"PoW\",\"PoW\",\"PoW\",\"PoW/PoS\",\"PoS\",\"PoW\",\"PoW/PoS\",\"PoW\",\"PoW/PoS\",\"PoS\",\"HPoW\",\"PoS\",\"PoS\",\"PoS\",\"PoW\",\"PoW\",\"PoW\",\"PoW/PoS\",\"PoS\",\"PoW/PoS\",\"PoS\",\"PoW/PoS\",\"PoS\",\"PoW\",\"PoW/PoS\",\"PoW\",\"PoW\",\"PoW\",\"PoW\",\"PoS\",\"PoW/PoS\",\"PoS\",\"PoS\",\"PoW\",\"PoW/PoS\",\"PoS\",\"PoW\",\"PoW/PoS\",\"Zero-Knowledge Proof\",\"PoW\",\"DPOS\",\"PoW\",\"PoS\",\"PoW\",\"PoW\",\"Pos\",\"PoS\",\"PoW\",\"PoW/PoS\",\"PoW\",\"PoW\",\"PoS\",\"PoW\",\"PoW\",\"PoW/PoS\",\"PoW\",\"PoW/PoS\",\"PoW\",\"PoS\",\"PoW/PoS\",\"PoW\",\"PoS\",\"PoW/PoS\",\"PoW/PoS\",\"PoW/PoS\",\"PoW/PoS\",\"PoW\",\"PoW\",\"PoW\",\"PoW/PoS\",\"DPoS\",\"PoW/PoS\",\"PoW\",\"PoW/PoS\",\"PoW\",\"PoW/PoS\",\"PoW\",\"PoW/PoS\",\"PoS\",\"PoW/PoS\",\"PoW/PoS\",\"PoW\",\"PoW/PoS\",\"PoW/PoS\",\"PoW/PoS\",\"PoW\",\"PoW/PoS\",\"PoW\",\"PoW/PoS\",\"PoW\",\"PoW/PoS\",\"PoW/PoS\",\"PoS\",\"PoW\",\"PoW\",\"Proof of Trust\",\"PoW/PoS\",\"DPoS\",\"PoS\",\"PoW/PoS\",\"PoW/PoS\",\"PoW\",\"PoW/PoS\",\"PoW\",\"DPoS\",\"PoW\",\"DPoS\",\"PoS\",\"LPoS\",\"PoS\",\"DPoS\",\"PoS/LPoS\",\"DPoS\",\"PoW/PoS\",\"PoW\",\"PoW\",\"PoS\"],\"TotalCoinSupply\":[\"42\",\"532000000\",\"314159265359\",\"21000000\",\"0\",\"84000000\",\"22000000\",\"0\",\"210000000\",\"21000000\",\"3600570502\",\"21000000000\",\"22000000\",\"12500000\",\"21000000\",\"350000000\",\"20000000\",\"64000000\",\"16768584\",\"0\",\"2000000000\",\"384000000000\",\"169795588\",\"250000000\",\"100000000\",\"0\",\"247000000\",\"84000000\",\"48166000\",\"500000\",\"21000000 \",\"1000000\",\"13140000\",\"18000000\",\"40000000000\",\"4380000\",\"16555000000\",\"21000000000\",\"13500000000\",\"21000000 \",\"299792458\",\"32000000\",\"0\",\"0\",\"11235813\",\"336000000\",\"1420609614\",\"70000000\",\"72245700\",\"120000000\",\"0\",\"90600000000\",\"22000000\",\"21000000\",\"265420800\",\"20000000\",\"1350000\",\"100000000\",\"42000000\",\"200000000\",\"0\",\"10000000\",\"2419200000\",\"16180000\",\"0\",\"15000000000\",\"21000000\",\"337000000\",\"0\",\"3770000\",\"420000000\",\"98000000\",\"0\",\"21000000\",\"250000000\",\"51200000\",\"0\",\"1000\",\"888000000\",\"100000000\",\"47011968\",\"2300000000\",\"10000000\",\"42000000\",\"80000000\",\"250000\",\"0\",\"1600000000\",\"100000000\",\"23000000\",\"0\",\"84000000\",\"265420800\",\"5500000\",\"0\",\"45000000\",\"0\",\"1000000000\",\"184467440735\",\"10000000000\",\"2158812800\",\"500000000\",\"105120000\",\"68000000\",\"0\",\"1680000000\",\"0\",\"166386000\",\"12000000\",\"2628000\",\"500000000\",\"160000000\",\"0\",\"10000000\",\"1000000000\",\"1000000000\",\"20000000\",\"0\",\"0\",\"3371337\",\"20000000\",\"10000000000\",\"1840000000\",\"619478\",\"21000000\",\"92000000000\",\"0\",\"78000000\",\"33000000\",\"65789100\",\"53760000\",\"5060000\",\"21000000\",\"0\",\"210240000\",\"250000000\",\"100000000\",\"16906397\",\"50000000\",\"0\",\"1000000000\",\"26298000\",\"16000000\",\"21000000\",\"21000000\",\"210000000\",\"81962100\",\"22000000\",\"26550000000\",\"84000000\",\"10500000\",\"21626280000 \",\"0\",\"42000000\",\"221052632\",\"84000000\",\"30000000\",\"168351300\",\"24000000\",\"384000000\",\" 99000000000\",\"40000000\",\"2147483647\",\"20000000\",\"20000000\",\"25000000\",\"75000000\",\"222725000\",\"525000000\",\"90000000\",\"139000000\",\"616448\",\"33500000\",\"2000000000\",\"44333333\",\"100000000\",\"200000000\",\"25000000\",\"657000000\",\"200000000\",\"50000000\",\"90000000\",\"10000000\",\"21000000\",\"9736000\",\"3000000\",\"21000000\",\"1200000000\",\"0\",\"200000000\",\"0\",\"10638298\",\"3100000000\",\"30000000\",\"20000000000\",\"74000000\",\"0\",\"1500000000\",\"21400000\",\"39999898\",\"2500124\",\"100000000\",\"301000000\",\"7506000000\",\"26205539\",\"21000000\",\"125000000\",\"30000000\",\"10000000000\",\"500000000\",\"850000000\",\"3853326.77707314\",\"50000000\",\"38540000 \",\"42000000\",\"228000000\",\"20000000\",\"60000000\",\"20000000\",\"33000000\",\"76500000\",\"28000000\",\"650659833\",\"5000000\",\"21000000\",\"144000000\",\"32514916898\",\"13000000\",\"3315789\",\"15000000\",\"78835200\",\"2714286\",\"25000000\",\"9999999\",\"500000000\",\"21000000\",\"9354000\",\"20000000\",\"100000000000\",\"21933333\",\"185000000\",\"55000000\",\"110000000\",\"3360000\",\"14524851.4827\",\"1000000000\",\"17000000\",\"1000000000\",\"100000000 \",\"21000000\",\"34426423\",\"2232901\",\"100000000\",\"36900000\",\"110000000\",\"4000000000\",\"110290030\",\"100000000\",\"48252000\",\"400000000\",\"500000000\",\"21212121\",\"28600000\",\"1000000000\",\"75000000000\",\"40000000\",\"35520400\",\"2000000000\",\"2500000000\",\"30000000\",\"105000000\",\"90000000000\",\"200084200\",\"72000000\",\"100000000\",\"105000000\",\"50000000000\",\"0\",\"340282367\",\"30000000\",\"2000000000\",\"10000000\",\"100000000\",\"120000000\",\"100000000\",\"19276800\",\"30000000\",\" 75000000\",\"60000000\",\"18900000\",\"50000000000\",\"54000000\",\"18898187.6216583\",\"21000000\",\"200000000000\",\"5000000000\",\"137500000\",\"1100000000\",\"100000000\",\"21000000\",\"9507271\",\"17405891.19707116\",\"86712634466\",\"10500000000\",\"61599965\",\"0\",\"20000000\",\"84000000\",\"100000000\",\"100000000\",\"48252000\",\"4200000\",\"88888888\",\"91388946\",\"45000000000\",\"27000000\",\"21000000000\",\"400000000\",\"1800000000\",\"15733333\",\"27000000\",\"24000000\",\"21000000\",\"25000000000\",\"100000000\",\"1200000000\",\"60000000\",\"156306732.71\",\"21000000\",\"200000000\",\"100000000\",\"21000000\",\"14788275.991\",\"9000000000\",\"350000000\",\"45000000\",\"280000000\",\"31800000\",\"144000000\",\"500000000\",\"30000000000\",\"210000000\",\"660000000\",\"210000000\",\"85000000000\",\"12500000\",\"10000000000\",\"27716121\",\"20000000\",\"550000000\",\"999481516\",\"50000000000\",\"150000000\",\"4999999999\",\"50000000\",\" 90000000000\",\"19800000\",\"21000000\",\"120000000\",\"500000000\",\"64000000\",\"900000000\",\"4000000\",\"21000000\",\"23000000\",\"20166000\",\"23000000\",\"25000000\",\"1618033\",\"30000000\",\"1000000000000\",\"16600000\",\"232000000\",\"336000000\",\"10000000000\",\"100000000\",\"1100000000\",\"800000000\",\"5200000000\",\"840000000\",\"40000000\",\"18406979840\",\"500000000\",\"19340594\",\"252460800\",\"25000000\",\"60000000\",\"124000000\",\"1000000000\",\"6500000000\",\"1000000000\",\"21000000\",\"25000000\",\"50000000\",\"3000000\",\"5000000\",\"70000000\",\"500000000\",\"300000000\",\"21000000\",\"88000000\",\"30000000\",\"100000000\",\"100000000\",\"200000000\",\"80000000\",\"18400000\",\"45000000\",\"5121951220\",\"21000000\",\"26280000\",\"21000000\",\"18000000\",\"26000000\",\"10500000\",\"600000518\",\"150000000\",\"184000000000\",\"10200000000\",\"44000000\",\"168000000\",\"100000000\",\"1000000000\",\"84000000\",\"90000000\",\"92000000000\",\"650000000 \",\"100262205\",\"18081806 \",\"22075700\",\"21000000\",\"21000000\",\"82546564\",\"21000000\",\"5151000\",\"16880000000\",\"52500000\",\"100000000\",\"22105263\",\"1000000000\",\"1750000000\",\"88188888\",\"210000000\",\"184470000000\",\"55000000\",\"50000000\",\"260000000\",\"210000000\",\"2100000000\",\"366000000\",\"100000000\",\"25000000\",\"18000000000\",\"1000000000\",\"100000000\",\"1000000000\",\"7600000000\",\"50000000\",\"84000000\",\"21000000\",\"70000000000\",\"0\",\"8080000000\",\"54000000\",\"105120001.44\",\"25228800\",\"105000000\",\"21000000\",\"120000000\",\"21000000\",\"262800000\",\"19035999\",\"30886000\",\"13370000\",\"74800000000\",\"100000000\",\"19700000\",\"84000000\",\"500000000\",\"5000000000\",\"420000000\",\"64000000\",\"2100000\",\"168000000\",\"30000000\",\"1000000000\",\"35000000000\",\"98100000000\",\"0\",\"4000000000\",\"200000000\",\"7000000000\",\"54256119\",\"21000000\",\"0\",\"500000000\",\"1000000000\",\"10500000000\",\"190000000\",\"1000000000\",\"42000000\",\"15000000\",\"50000000000\",\"400000000\",\"105000000\",\"208000000\",\"160000000\",\"9000000\",\"5000000\",\"182000000\",\"16504333\",\"105000000\",\"159918400\",\"10008835635\",\"300000000\",\"60168145\",\"2800000\",\"120000\",\"2100000000\",\"0\",\"24487944\",\"0\",\"1000000000\",\"100000000\",\"8634140\",\"990000000000\",\"1000000000\",\"2000000000\",\"250000000\",\"1400222610\",\"21000000\",\"1000000\"],\"TotalCoinsMined\":{\"__ndarray__\":\"E66yfP7/REC4HgUDbHLPQcQCukHCRBtCAAAAcMAYcUHb+b76hayZQfhoZlo4D45BczEFzM85YUFmkFFyf2dwQQAAAFztBptBAAAAEAQqXEEAAAA6IW3kQQAAKLzoPgVCAAAAAJ6qM0Epu0/cGOFmQQAAAIAdAVZBuzNpefhbeEFogey/NERlQQ8SPW7cR2dB+ijjv4NLcUEAAABO5u/CQQAAgMotKNlBAAAAAAAAVkCRe4LLOUqkQWlwu1zuvZ5B7FG4slgRXEES3YNEKFedQbxc1FkO8a5Bi10hSWmgh0FQLIHFyuR/Qc7ixUJvyuRAZlhcKb2KW0HCR4pNGbYvQdDqKuGh8VFBQQ4rjd4PU0GutucKX6AiQqBfqd8TNklB/fZoycqrDUIAAHBTCXwRQnWTloARWwdCTGbm7Bjxc0He//+wcBeqQbTI9iT1l3JBAAAAQJaqVUHCNFQR94a7QaQ8LSbMbzFBMPUDShPgqEEAAAA1WFnKQQJaxIOwUI9BD/H/v0jdg0EMI73Wa0iVQftcscYLA9lBo6E6fO0XNUJp65YfTtVwQW3n+0/EHHRBmpmZw9ANokHNzEzyVm5yQeu2uDrY2TBBAAAAaLVMjUFB3vH/OTGCQTMzM4eHR4NB0/wVEd7UE0K3KNQ4KyRWQdb//9BLDNhBAAAAAGTcbkFIZKnBRYOPQWh5ONDpoOFBAAAAAIIbbEHvrnvnQfOzQWC5lIqR6GxBEqW9I0SSSEECRgfUkYuqQQAAgKodopFB7loEOWBNG0KzdfRrHdkwQZqZmdvoF3dBqQYrknhoeEEorP5t5i2IQQAAAAAAZJJASWWmrurJwEEmvO6+tSKTQQAAAACNwoRBsaedNq8s2EHonwEAK9k1QQAAAEB233VBAAAAAINhQUF75AdVfoYIQQAAAAAObDJBZmYm5Ctg0EHqsCJZOvSHQfP/r8ISFHZBBGSeRqeJfkHGd4jeymaIQQAAAHQ6hJxBqj02xuuDWkEAAAAAhNeXQWWO5dqisIJBhvyY1oWPf0HN5/S7TaShQQAAB3WebUVCcSCmnaK6+UEAAADwLATbQQAAAMC4ZohBcBN8y0VCkEEAAADwmKeCQQAAADhjXYlBAAAAZOS8uEGF80Sm1ux5QeDz06y0ZKBBm6kQ40DcPkGTMePy+TQGQRqL3sPG0aRB26a4ke4mokEAAAAAwWU2QQAAAICAEltBAAAAUZSex0EAAABPt3DFQQAAAACKhURBAAAAsGYMj0EAAABAGUhYQchLLY4xV2NBAAAAQF4iZkFxPQ5ywyzxQQAAAMx5HcVBAAAAAKznIkEAAACAQ8VnQQAAAABQifVAAAAAAOgYN0EAAAAgqFqOQbTMIm2Yun5BAAAAQFI2akFuowEAyCBsQb/Mf8ucV2BBAAAAsANCbkFIisgQwBcUQQAAAECDDn9BAAAAkCQHkkEAAAAAhNeXQQAAAMClBGRBAAAAwKL5dUEAAEizP9MeQnMvcJZSiIRBdN9gjbfOaUEAAADg5UNuQXYi101WBnRBZYmz3Q7FY0EAAAAAsQipQQAAAKBO1mVB0TYn7F3/S0EAAJj8c3sEQgAAABB1ppBBAAAAgM2QU0EAAGSVNj8UQs9mP8p8wQJCZta35+opYUEAAACQC02DQQAAAKChgoVBAAAAAGjAVUEVe6IeXWwjQQAAALCvdnBBhtM4uazZY0FWnZ2VUDchQsSzAmd+slBBAADA////30EAAAAA0BJzQfWeCOrNEFlBACv2TwgLakHHaE16SgqgQQAAAAAFPjJBAAAAgCTIb0EAAACMaOWTQWZvBMgIQndBAAAAAADQIkH8k1OFq2aCQZ+vSflmO8hBAAAAAD1EUUEAAAAAhNeXQQAAAADQElNBAAAAAH0GNUEAAAAgg5TDQQAAAEzcoZtBAAAAIIyvbUEAAADgOZWEQSqHXC4Y111BAAAAAMorIkEAAAAAgNFXQXUZ5bDIESRBAAAAAOmyQ0EAAAAAZc3NQQAAAACxmT1BAAAAsKrbm0EAAAAwvTekQQAAAECjXmFBAACA3BLTw0EAAAAATDVlQQAA7E21OxJCLAwuO6qmkUEAAADQUPh/Qd/Fk3RYja9BUc34T+beXEEAAAAgerqhQQAAAAAOE0NBAAAAAITXl0F4eqWiQ/5wQWxb4nIfINBBAAAAMNb9eEEAAACA+2lVQQAAAJAhzJlBAAAA0Dl+cUEAAADmiWanQQAAAACfjshBAADD1R53NUL1IXdjB2ZNQQAAAACE14dBAAAAAERMcEGnlim1VLBCQQAAAGjSQo1BAAAAANASc0H6EPGEOidXQQAAAEDFrmdBAWxAemNOc0EAAACEqwWSQW8KEEyCImVBAAAAQE7RZEEAAAAAntwoQQAAAADC2S1BAAAAQIT1X0G1VTeErn0fQgAAAIArf0pBAAAAgCZMSUG3QKeXoQ9kQQAAAGDS03xBAAAAAJRIK0EAAAAA5NhhQemBj3GyoDxBAAAAwOvadkGII9U8v0VDQawzRD12llVBAAAAAFSMZkEAAAAd2QDAQQAAAABMzxJBBwq80BzsZEGMg2z7OkxGQQAAAADeOZpBAAAAAH3ER0FFR3JvNrRrQQAAAEBY+nxBHHiWeW1nWkEAAAAAZc3NQaJtQ0H1zZdBAAAA2MWvcUEAAADorTCBQQAAAIAiCUFBTuW+oh8baUEhj6B9UD1nQd/hZs9XYJpBAAAAoDmQjkEEVo5zMX+aQcubKKA6hnRBAAAAAPhOY0EAAABZNO23QTtUk67eAZ1BAAAAgBl7VEEAAAAApIUxQQAAAACAhB5BAAAARNP4l0EAAABgO2BwQY0pWDI4VnNBCaRc6miXsUEAAADLzqLTQWFHLT+iuWVBAAAAwIpedEEAAMDR7u4iQgAAACBZumNBckLXzXcUakEAAAAAhNeXQWUIVsOfdZBBAADce2Q8FUKonWsKIt5yQQAAAKTUxJ9BkdtqsfWNcUEAAMDBkfbaQQAAAAA7009BAAAA+GzBgEEAAADYWwOOQQAAAIDi9FlBAAAAsAxLcUEAAADAZ0h0QQAAAMCntlNBHxX6xf/VeEEAAAAA0wJEQX/w+Yv12ABCAAAAYPECa0Ga3cmg1eZ0QZKakZIo+nBBAABOq2v7QkJLH6e/YrLgQQAAAHgivplByhiP2VEznUGSw9HTzpGGQWq8WVp0KXFBJFgm0VX5Z0Hza5UVeMxxQQAAoDO40ilCAAAAAHidHUEAAAAAgIROQfDX1k3upUBCAAAAQE2CYkFw2XdWK6VwQQkyArFkIn9BAAAAcMkTgEEAAABAaKJyQQAAAACQBVBBAAAAoHsQYUEAAAAAhNd3QQAAKM1+JRhCzr66gjC0W0EDPqDeH2rzQQAAAICuxaVBy0qbvkkj5EGLprPq/mcxQVF7mcmnyE9BAAAAAGDjdkH5hGyRy2dwQQAAjLzRkCZCAAAAwFXylUEAAAAKwrTAQdlvVtQbr19BAAAAIM00gEEAAAAAnGZAQYpweOjvSX1BJ0/5xefWl0Hg88PJ5oRnQcl2vh+GNW9BAACwz4jDAEIAAADmKeOkQSlcj8LWUVhBAAAA4LFUaEEAAAC4nD9WQY52rBbqNoJBYW9+x+krsUEAAACS4nIaQsiUx5ED4aVB6fCQBqC2vEHPayxFf3WaQTj4lfsk9RFCAAAAAIgqUUEAAACELQy/Qb/tLlxZRGlBqdpuTpcrcEEAAAC8HCaTQRKDYLnxTLpBXI/WvvhL8kHLoUVKCQ9gQUjhGyQdie1BBOfcMG6KhUFZF6rN7wUcQv52QCDsIVBBqQRZVX7vXUEAAAAA9gh6QQAAAMGN3rFBm/K3SiGwhUEAAABOJZ3BQQndJR2TG0NBAAAAAPXPUEFs0d4KsytgQQAAAABXO3NBRN0Hg6W6ZkFVAY1Yqn9zQQAAAABxsDhB6KPo0IXtYUE9ipsSw74oQiP3U79oYVJB4naQc/D+q0HErxjPlu6fQQAAACBfoAJCJnMcSJ2WmUHVIcXjxS/DQQAAAFoqdKtB8dd4J/5n2kGWsBp+eAbDQRXGFoAyvWdBAACoqNr9CkJPPwDNSjCpQURLA8bRdWVBAAAAfjRgqEHNzMyMCYpAQVK4HoUtlxlBWiYo0q1ieEEAAIC4lGXDQQAAAEqIhK1BdXWf684Vk0GZUBwTog1PQQAAAACE13dBGcIW1FlMakEZtn+gi84pQQAAAIDJCTJBAAAAVDEDkUEAAKAYR92vQYN0bFrtEnpBfQaUa/WyYkFNBaat9tx0Qeux5ct22GJBAAAAACvJMkGJEf1SB1R+QXJuA5mDqKBBTNr5wtYfZUEAAAAAvIxuQQAAAACWzFBB5nRdlm/s1EGSQQkk4hd0QURRfW02clNBjX70YrDMZEEAAAAAbkYoQbR2u8vzdIJBBFMT7aemWkEAAAAAwJT0QAAAAAAuRHJBAACivbA6I0IAAAAwvf8CQkhQ/AAsG11Bg20UIDEyoEGcs497yrJ/QSXLM+AdscBB78nDukaZdEHP8+dFmuF8QVnmi1WJITJC6NT8eTS5REEY0gHIAZGLQQAAAIAfWnFBpq1XQWr/XkE4UF7FY31gQaKloawBDFNBrPn2hDebgUFNI9YPZgRbQasgKXHAlFZBluWQ57jML0GotR8+EW5pQSFAAa03f49BSGTlENedNUEZ8ryfJp1UQddG4emEt21BAAAAQESoUkFpyxQjRSBsQV3NAOrTLTdCcT0KX3hgckEWDZ5fe1h9Qf+yq29isZlBB1Ybc0PKYUEAAABA3UrfQXtmCXYA01FBAAAAwA8vUUHawOFXUiJTQReaN9DOls9BAAAAAGXNzUFRV68zk5piQQAAAABlzc1BAAAAitWN70FyYIdLU+RZQQAAAECkAWpBP8xZKrQocUFiFLwwZtuoQXBOQWIqBxBCkSxSxj/S20GEJfPNkdaAQZO4O1ApFThByd3xJ6g5bkEAAAAACrRpQTMzM7MvyRhBzT1kaTfTgEEcRpysmS9sQQAAAABjBIFBn0T6MztrcUEAAAA4VPx3QfT+3KxthT1BTx7ABmy1HEKNuYbNa6doQdWNf+IW1yVBJsJLAz6Yc0FvD7pAHLenQQAAAGixtspBrfE+UWlpbUHOuQVlhu+IQQAAAIB02zFB0v7/r18slEE4zCGFrax2QQAAAABlzc1B5x1IVZ2IDEL7Pxej2H6KQSibcjLG6qxBAACA+gF/7EEAAAAAf/xKQUgFZGJXRnZBAAAAQJGfc0FeS8aPUMFQQW94x/+7XmJBFoV9WDoCukEAAAAGiUDHQR9ofThlOs1BBFbV6ym1EEJuUAeag3W9QUrmXREL7HVBAAAAADicjEFprytpX40bQpijizthGbhBuqmMb8R5kUGs4drOJgGoQa4Pq9CTtJhBBonp3l4nTUGfQd76IkZTQZk6wZ0znZBBDFuTijkecEEqosuD3c2RQQAAALD1nJxBApot/nygAkKJmGJ4mQquQaD9SAGBGDFBAAAAQJ1tSUGoOuQGTi8BQQAAAACE15dB2T2JBSNqzkH5eoiBgFp3QRSu13KMudBBAAAAAGXNzUEAAAAAhNeXQdmqyTHItGFBxfR7nv3PbEIAAAAAZc3NQfOO0/5kzd1BlPryxIx6bEEAAIBBgTbNQQAAAGCG1VtBR9gB8W9U/0A=\",\"dtype\":\"float64\",\"order\":\"little\",\"shape\":[532]},\"class\":{\"__ndarray__\":\"AAAAAAAAAAAAAAAAAQAAAAEAAAABAAAAAAAAAAEAAAABAAAAAQAAAAAAAAABAAAAAAAAAAAAAAABAAAAAAAAAAEAAAABAAAAAAAAAAAAAAABAAAAAQAAAAEAAAABAAAAAQAAAAAAAAABAAAAAQAAAAEAAAAAAAAAAQAAAAAAAAABAAAAAQAAAAAAAAAAAAAAAQAAAAEAAAABAAAAAQAAAAEAAAABAAAAAAAAAAAAAAABAAAAAQAAAAEAAAABAAAAAQAAAAAAAAAAAAAAAQAAAAAAAAABAAAAAQAAAAEAAAABAAAAAAAAAAEAAAABAAAAAAAAAAEAAAAAAAAAAAAAAAAAAAABAAAAAQAAAAEAAAAAAAAAAAAAAAAAAAAAAAAAAAAAAAEAAAABAAAAAQAAAAAAAAAAAAAAAQAAAAAAAAABAAAAAAAAAAAAAAABAAAAAQAAAAEAAAABAAAAAAAAAAAAAAABAAAAAAAAAAEAAAABAAAAAAAAAAAAAAABAAAAAAAAAAAAAAABAAAAAQAAAAAAAAAAAAAAAQAAAAAAAAAAAAAAAQAAAAAAAAABAAAAAAAAAAEAAAAAAAAAAQAAAAAAAAAAAAAAAQAAAAEAAAAAAAAAAQAAAAEAAAABAAAAAAAAAAEAAAABAAAAAQAAAAEAAAABAAAAAAAAAAAAAAABAAAAAQAAAAEAAAAAAAAAAQAAAAAAAAABAAAAAQAAAAAAAAABAAAAAAAAAAEAAAAAAAAAAAAAAAEAAAABAAAAAAAAAAEAAAABAAAAAAAAAAAAAAABAAAAAAAAAAEAAAAAAAAAAAAAAAAAAAABAAAAAQAAAAEAAAABAAAAAAAAAAAAAAAAAAAAAAAAAAAAAAABAAAAAQAAAAAAAAAAAAAAAAAAAAAAAAAAAAAAAQAAAAAAAAAAAAAAAAAAAAAAAAAAAAAAAQAAAAAAAAABAAAAAAAAAAAAAAABAAAAAAAAAAEAAAAAAAAAAAAAAAEAAAAAAAAAAQAAAAAAAAABAAAAAAAAAAEAAAAAAAAAAAAAAAAAAAAAAAAAAQAAAAAAAAAAAAAAAAAAAAAAAAAAAAAAAQAAAAEAAAAAAAAAAAAAAAEAAAABAAAAAAAAAAAAAAAAAAAAAAAAAAAAAAABAAAAAAAAAAAAAAAAAAAAAAAAAAAAAAAAAAAAAAAAAAAAAAABAAAAAAAAAAAAAAAAAAAAAAAAAAAAAAAAAAAAAQAAAAEAAAABAAAAAAAAAAAAAAAAAAAAAAAAAAEAAAAAAAAAAQAAAAAAAAAAAAAAAQAAAAAAAAABAAAAAQAAAAAAAAABAAAAAQAAAAAAAAABAAAAAAAAAAAAAAAAAAAAAQAAAAAAAAAAAAAAAQAAAAAAAAAAAAAAAAAAAAAAAAAAAAAAAAAAAAAAAAABAAAAAAAAAAEAAAAAAAAAAAAAAAAAAAAAAAAAAQAAAAAAAAABAAAAAAAAAAEAAAABAAAAAQAAAAEAAAAAAAAAAQAAAAAAAAAAAAAAAQAAAAAAAAABAAAAAQAAAAEAAAAAAAAAAQAAAAAAAAABAAAAAQAAAAEAAAAAAAAAAQAAAAAAAAABAAAAAAAAAAAAAAAAAAAAAQAAAAAAAAABAAAAAQAAAAEAAAABAAAAAQAAAAAAAAAAAAAAAQAAAAAAAAAAAAAAAAAAAAEAAAAAAAAAAQAAAAAAAAABAAAAAAAAAAEAAAAAAAAAAAAAAAAAAAAAAAAAAQAAAAAAAAAAAAAAAQAAAAAAAAAAAAAAAAAAAAEAAAABAAAAAQAAAAEAAAAAAAAAAAAAAAAAAAAAAAAAAQAAAAAAAAABAAAAAQAAAAEAAAAAAAAAAAAAAAEAAAABAAAAAAAAAAAAAAABAAAAAAAAAAEAAAABAAAAAQAAAAAAAAABAAAAAQAAAAAAAAAAAAAAAAAAAAEAAAABAAAAAQAAAAAAAAAAAAAAAAAAAAEAAAABAAAAAAAAAAEAAAABAAAAAQAAAAEAAAAAAAAAAwAAAAMAAAABAAAAAQAAAAEAAAAAAAAAAAAAAAAAAAAAAAAAAAAAAAAAAAABAAAAAQAAAAEAAAABAAAAAAAAAAAAAAAAAAAAAQAAAAAAAAABAAAAAAAAAAAAAAAAAAAAAAAAAAEAAAAAAAAAAAAAAAEAAAAAAAAAAAAAAAEAAAABAAAAAAAAAAEAAAAAAAAAAQAAAAEAAAABAAAAAQAAAAAAAAAAAAAAAQAAAAAAAAABAAAAAAAAAAAAAAAAAAAAAAAAAAAAAAAAAAAAAQAAAAEAAAABAAAAAAAAAAAAAAAAAAAAAAAAAAAAAAAAAAAAAQAAAAAAAAABAAAAAQAAAAEAAAABAAAAAAAAAAAAAAAAAAAAAAAAAAEAAAAAAAAAAAAAAAEAAAAAAAAAAAAAAAEAAAADAAAAAQAAAAAAAAABAAAAAQAAAAAAAAAAAAAAAQAAAAAAAAABAAAAAQAAAAAAAAABAAAAAQAAAAAAAAABAAAAAAAAAAEAAAAAAAAAAAAAAAEAAAAAAAAAAAAAAAAAAAAAAAAAAAAAAAEAAAABAAAAAQAAAAAAAAAAAAAAAAAAAAEAAAAAAAAAAQAAAAAAAAABAAAAAAAAAAAAAAAAAAAAAAAAAAEAAAAAAAAAAAAAAAAAAAABAAAAAAAAAAEAAAAAAAAAAQAAAAAAAAAAAAAAAAAAAAEAAAABAAAAAAAAAAAAAAAAAAAAAAAAAAAAAAAAAAAAAQAAAAAAAAABAAAAAAAAAAEAAAAAAAAAAAAAAAMAAAAAAAAAAgAAAAAAAAAAAAAAAAAAAAEAAAABAAAAAAAAAA==\",\"dtype\":\"int32\",\"order\":\"little\",\"shape\":[532]}},\"selected\":{\"id\":\"1477\"},\"selection_policy\":{\"id\":\"1527\"}},\"id\":\"1476\",\"type\":\"ColumnDataSource\"},{\"attributes\":{\"editor\":{\"id\":\"1489\"},\"field\":\"TotalCoinsMined\",\"formatter\":{\"id\":\"1488\"},\"title\":\"TotalCoinsMined\"},\"id\":\"1490\",\"type\":\"TableColumn\"},{\"attributes\":{},\"id\":\"1519\",\"type\":\"StringEditor\"},{\"attributes\":{\"editor\":{\"id\":\"1519\"},\"field\":\"CoinName\",\"formatter\":{\"id\":\"1518\"},\"title\":\"CoinName\"},\"id\":\"1520\",\"type\":\"TableColumn\"},{\"attributes\":{},\"id\":\"1494\",\"type\":\"StringEditor\"}],\"root_ids\":[\"1474\"]},\"title\":\"Bokeh Application\",\"version\":\"2.3.2\"}};\n",
       "    var render_items = [{\"docid\":\"429d219b-1e5b-42c6-a967-cf848248bbc8\",\"root_ids\":[\"1474\"],\"roots\":{\"1474\":\"5b4a1dc0-8e55-4243-b408-042bf8248257\"}}];\n",
       "    root.Bokeh.embed.embed_items_notebook(docs_json, render_items);\n",
       "  }\n",
       "  if (root.Bokeh !== undefined && root.Bokeh.Panel !== undefined) {\n",
       "    embed_document(root);\n",
       "  } else {\n",
       "    var attempts = 0;\n",
       "    var timer = setInterval(function(root) {\n",
       "      if (root.Bokeh !== undefined && root.Bokeh.Panel !== undefined) {\n",
       "        clearInterval(timer);\n",
       "        embed_document(root);\n",
       "      } else if (document.readyState == \"complete\") {\n",
       "        attempts++;\n",
       "        if (attempts > 200) {\n",
       "          clearInterval(timer);\n",
       "          console.log(\"Bokeh: ERROR: Unable to run BokehJS code because BokehJS library is missing\");\n",
       "        }\n",
       "      }\n",
       "    }, 25, root)\n",
       "  }\n",
       "})(window);</script>"
      ],
      "text/plain": [
       ":Table   [Algorithm,ProofType,TotalCoinsMined,TotalCoinSupply,PC1,PC2,PC3,class,CoinName]"
      ],
      "application/vnd.holoviews_exec.v0+json": ""
     },
     "metadata": {
      "application/vnd.holoviews_exec.v0+json": {
       "id": "1474"
      }
     },
     "execution_count": 62
    }
   ],
   "metadata": {}
  },
  {
   "cell_type": "code",
   "execution_count": 64,
   "source": [
    "# Print the total number of tradable cryptocurrencies.\n",
    "# YOUR CODE HERE\n",
    "total = clustered_df['CoinName'].count()\n",
    "\n",
    "print(f'There are {total} tradable cryptocurrencies.')"
   ],
   "outputs": [
    {
     "output_type": "stream",
     "name": "stdout",
     "text": [
      "There are 532 tradable cryptocurrencies.\n"
     ]
    }
   ],
   "metadata": {}
  },
  {
   "cell_type": "code",
   "execution_count": 73,
   "source": [
    "# Scaling data to create the scatter plot with tradable cryptocurrencies.\n",
    "clustered_df[['TotalCoinSupply', 'TotalCoinsMined']] = MinMaxScaler().fit_transform(clustered_df[['TotalCoinSupply', 'TotalCoinsMined']])\n",
    "clustered_df"
   ],
   "outputs": [
    {
     "output_type": "execute_result",
     "data": {
      "text/html": [
       "<div>\n",
       "<style scoped>\n",
       "    .dataframe tbody tr th:only-of-type {\n",
       "        vertical-align: middle;\n",
       "    }\n",
       "\n",
       "    .dataframe tbody tr th {\n",
       "        vertical-align: top;\n",
       "    }\n",
       "\n",
       "    .dataframe thead th {\n",
       "        text-align: right;\n",
       "    }\n",
       "</style>\n",
       "<table border=\"1\" class=\"dataframe\">\n",
       "  <thead>\n",
       "    <tr style=\"text-align: right;\">\n",
       "      <th></th>\n",
       "      <th>Algorithm</th>\n",
       "      <th>ProofType</th>\n",
       "      <th>TotalCoinsMined</th>\n",
       "      <th>TotalCoinSupply</th>\n",
       "      <th>PC1</th>\n",
       "      <th>PC2</th>\n",
       "      <th>PC3</th>\n",
       "      <th>class</th>\n",
       "      <th>CoinName</th>\n",
       "    </tr>\n",
       "  </thead>\n",
       "  <tbody>\n",
       "    <tr>\n",
       "      <th>42</th>\n",
       "      <td>Scrypt</td>\n",
       "      <td>PoW/PoS</td>\n",
       "      <td>0.000000e+00</td>\n",
       "      <td>4.200000e-11</td>\n",
       "      <td>-0.338146</td>\n",
       "      <td>1.071857</td>\n",
       "      <td>-0.426432</td>\n",
       "      <td>0</td>\n",
       "      <td>42 Coin</td>\n",
       "    </tr>\n",
       "    <tr>\n",
       "      <th>404</th>\n",
       "      <td>Scrypt</td>\n",
       "      <td>PoW/PoS</td>\n",
       "      <td>1.065855e-03</td>\n",
       "      <td>5.320000e-04</td>\n",
       "      <td>-0.321499</td>\n",
       "      <td>1.071983</td>\n",
       "      <td>-0.426509</td>\n",
       "      <td>0</td>\n",
       "      <td>404Coin</td>\n",
       "    </tr>\n",
       "    <tr>\n",
       "      <th>1337</th>\n",
       "      <td>X13</td>\n",
       "      <td>PoW/PoS</td>\n",
       "      <td>2.957551e-02</td>\n",
       "      <td>3.141593e-01</td>\n",
       "      <td>2.292047</td>\n",
       "      <td>1.658951</td>\n",
       "      <td>-0.392447</td>\n",
       "      <td>0</td>\n",
       "      <td>EliteCoin</td>\n",
       "    </tr>\n",
       "    <tr>\n",
       "      <th>BTC</th>\n",
       "      <td>SHA-256</td>\n",
       "      <td>PoW</td>\n",
       "      <td>1.810842e-05</td>\n",
       "      <td>2.100000e-05</td>\n",
       "      <td>-0.152803</td>\n",
       "      <td>-1.310102</td>\n",
       "      <td>0.178866</td>\n",
       "      <td>1</td>\n",
       "      <td>Bitcoin</td>\n",
       "    </tr>\n",
       "    <tr>\n",
       "      <th>ETH</th>\n",
       "      <td>Ethash</td>\n",
       "      <td>PoW</td>\n",
       "      <td>1.087731e-04</td>\n",
       "      <td>0.000000e+00</td>\n",
       "      <td>-0.148274</td>\n",
       "      <td>-2.040160</td>\n",
       "      <td>0.265101</td>\n",
       "      <td>1</td>\n",
       "      <td>Ethereum</td>\n",
       "    </tr>\n",
       "    <tr>\n",
       "      <th>...</th>\n",
       "      <td>...</td>\n",
       "      <td>...</td>\n",
       "      <td>...</td>\n",
       "      <td>...</td>\n",
       "      <td>...</td>\n",
       "      <td>...</td>\n",
       "      <td>...</td>\n",
       "      <td>...</td>\n",
       "      <td>...</td>\n",
       "    </tr>\n",
       "    <tr>\n",
       "      <th>ZEPH</th>\n",
       "      <td>SHA-256</td>\n",
       "      <td>DPoS</td>\n",
       "      <td>2.020225e-03</td>\n",
       "      <td>2.000000e-03</td>\n",
       "      <td>2.471901</td>\n",
       "      <td>0.898048</td>\n",
       "      <td>-0.047953</td>\n",
       "      <td>0</td>\n",
       "      <td>ZEPHYR</td>\n",
       "    </tr>\n",
       "    <tr>\n",
       "      <th>GAP</th>\n",
       "      <td>Scrypt</td>\n",
       "      <td>PoW/PoS</td>\n",
       "      <td>1.508199e-05</td>\n",
       "      <td>2.500000e-04</td>\n",
       "      <td>-0.336193</td>\n",
       "      <td>1.071731</td>\n",
       "      <td>-0.426435</td>\n",
       "      <td>0</td>\n",
       "      <td>Gapcoin</td>\n",
       "    </tr>\n",
       "    <tr>\n",
       "      <th>BDX</th>\n",
       "      <td>CryptoNight</td>\n",
       "      <td>PoW</td>\n",
       "      <td>9.901351e-04</td>\n",
       "      <td>1.400223e-03</td>\n",
       "      <td>0.327491</td>\n",
       "      <td>-2.342049</td>\n",
       "      <td>0.265557</td>\n",
       "      <td>1</td>\n",
       "      <td>Beldex</td>\n",
       "    </tr>\n",
       "    <tr>\n",
       "      <th>ZEN</th>\n",
       "      <td>Equihash</td>\n",
       "      <td>PoW</td>\n",
       "      <td>7.370282e-06</td>\n",
       "      <td>2.100000e-05</td>\n",
       "      <td>-0.170129</td>\n",
       "      <td>-1.979674</td>\n",
       "      <td>0.456434</td>\n",
       "      <td>1</td>\n",
       "      <td>Horizen</td>\n",
       "    </tr>\n",
       "    <tr>\n",
       "      <th>XBC</th>\n",
       "      <td>Scrypt</td>\n",
       "      <td>PoS</td>\n",
       "      <td>1.295823e-07</td>\n",
       "      <td>1.000000e-06</td>\n",
       "      <td>-0.275785</td>\n",
       "      <td>0.813617</td>\n",
       "      <td>-0.327151</td>\n",
       "      <td>0</td>\n",
       "      <td>BitcoinPlus</td>\n",
       "    </tr>\n",
       "  </tbody>\n",
       "</table>\n",
       "<p>532 rows × 9 columns</p>\n",
       "</div>"
      ],
      "text/plain": [
       "        Algorithm ProofType  TotalCoinsMined  TotalCoinSupply       PC1  \\\n",
       "42         Scrypt   PoW/PoS     0.000000e+00     4.200000e-11 -0.338146   \n",
       "404        Scrypt   PoW/PoS     1.065855e-03     5.320000e-04 -0.321499   \n",
       "1337          X13   PoW/PoS     2.957551e-02     3.141593e-01  2.292047   \n",
       "BTC       SHA-256       PoW     1.810842e-05     2.100000e-05 -0.152803   \n",
       "ETH        Ethash       PoW     1.087731e-04     0.000000e+00 -0.148274   \n",
       "...           ...       ...              ...              ...       ...   \n",
       "ZEPH      SHA-256      DPoS     2.020225e-03     2.000000e-03  2.471901   \n",
       "GAP        Scrypt   PoW/PoS     1.508199e-05     2.500000e-04 -0.336193   \n",
       "BDX   CryptoNight       PoW     9.901351e-04     1.400223e-03  0.327491   \n",
       "ZEN      Equihash       PoW     7.370282e-06     2.100000e-05 -0.170129   \n",
       "XBC        Scrypt       PoS     1.295823e-07     1.000000e-06 -0.275785   \n",
       "\n",
       "           PC2       PC3  class     CoinName  \n",
       "42    1.071857 -0.426432      0      42 Coin  \n",
       "404   1.071983 -0.426509      0      404Coin  \n",
       "1337  1.658951 -0.392447      0    EliteCoin  \n",
       "BTC  -1.310102  0.178866      1      Bitcoin  \n",
       "ETH  -2.040160  0.265101      1     Ethereum  \n",
       "...        ...       ...    ...          ...  \n",
       "ZEPH  0.898048 -0.047953      0       ZEPHYR  \n",
       "GAP   1.071731 -0.426435      0      Gapcoin  \n",
       "BDX  -2.342049  0.265557      1       Beldex  \n",
       "ZEN  -1.979674  0.456434      1      Horizen  \n",
       "XBC   0.813617 -0.327151      0  BitcoinPlus  \n",
       "\n",
       "[532 rows x 9 columns]"
      ]
     },
     "metadata": {},
     "execution_count": 73
    }
   ],
   "metadata": {}
  },
  {
   "cell_type": "code",
   "execution_count": 74,
   "source": [
    "# Create a new DataFrame that has the scaled data with the clustered_df DataFrame index.\n",
    "plot_df = clustered_df\n",
    "\n",
    "\n",
    "plot_df.head(10)"
   ],
   "outputs": [
    {
     "output_type": "execute_result",
     "data": {
      "text/html": [
       "<div>\n",
       "<style scoped>\n",
       "    .dataframe tbody tr th:only-of-type {\n",
       "        vertical-align: middle;\n",
       "    }\n",
       "\n",
       "    .dataframe tbody tr th {\n",
       "        vertical-align: top;\n",
       "    }\n",
       "\n",
       "    .dataframe thead th {\n",
       "        text-align: right;\n",
       "    }\n",
       "</style>\n",
       "<table border=\"1\" class=\"dataframe\">\n",
       "  <thead>\n",
       "    <tr style=\"text-align: right;\">\n",
       "      <th></th>\n",
       "      <th>Algorithm</th>\n",
       "      <th>ProofType</th>\n",
       "      <th>TotalCoinsMined</th>\n",
       "      <th>TotalCoinSupply</th>\n",
       "      <th>PC1</th>\n",
       "      <th>PC2</th>\n",
       "      <th>PC3</th>\n",
       "      <th>class</th>\n",
       "      <th>CoinName</th>\n",
       "    </tr>\n",
       "  </thead>\n",
       "  <tbody>\n",
       "    <tr>\n",
       "      <th>42</th>\n",
       "      <td>Scrypt</td>\n",
       "      <td>PoW/PoS</td>\n",
       "      <td>0.000000</td>\n",
       "      <td>4.200000e-11</td>\n",
       "      <td>-0.338146</td>\n",
       "      <td>1.071857</td>\n",
       "      <td>-0.426432</td>\n",
       "      <td>0</td>\n",
       "      <td>42 Coin</td>\n",
       "    </tr>\n",
       "    <tr>\n",
       "      <th>404</th>\n",
       "      <td>Scrypt</td>\n",
       "      <td>PoW/PoS</td>\n",
       "      <td>0.001066</td>\n",
       "      <td>5.320000e-04</td>\n",
       "      <td>-0.321499</td>\n",
       "      <td>1.071983</td>\n",
       "      <td>-0.426509</td>\n",
       "      <td>0</td>\n",
       "      <td>404Coin</td>\n",
       "    </tr>\n",
       "    <tr>\n",
       "      <th>1337</th>\n",
       "      <td>X13</td>\n",
       "      <td>PoW/PoS</td>\n",
       "      <td>0.029576</td>\n",
       "      <td>3.141593e-01</td>\n",
       "      <td>2.292047</td>\n",
       "      <td>1.658951</td>\n",
       "      <td>-0.392447</td>\n",
       "      <td>0</td>\n",
       "      <td>EliteCoin</td>\n",
       "    </tr>\n",
       "    <tr>\n",
       "      <th>BTC</th>\n",
       "      <td>SHA-256</td>\n",
       "      <td>PoW</td>\n",
       "      <td>0.000018</td>\n",
       "      <td>2.100000e-05</td>\n",
       "      <td>-0.152803</td>\n",
       "      <td>-1.310102</td>\n",
       "      <td>0.178866</td>\n",
       "      <td>1</td>\n",
       "      <td>Bitcoin</td>\n",
       "    </tr>\n",
       "    <tr>\n",
       "      <th>ETH</th>\n",
       "      <td>Ethash</td>\n",
       "      <td>PoW</td>\n",
       "      <td>0.000109</td>\n",
       "      <td>0.000000e+00</td>\n",
       "      <td>-0.148274</td>\n",
       "      <td>-2.040160</td>\n",
       "      <td>0.265101</td>\n",
       "      <td>1</td>\n",
       "      <td>Ethereum</td>\n",
       "    </tr>\n",
       "    <tr>\n",
       "      <th>LTC</th>\n",
       "      <td>Scrypt</td>\n",
       "      <td>PoW</td>\n",
       "      <td>0.000064</td>\n",
       "      <td>8.400000e-05</td>\n",
       "      <td>-0.160199</td>\n",
       "      <td>-1.098246</td>\n",
       "      <td>-0.045338</td>\n",
       "      <td>1</td>\n",
       "      <td>Litecoin</td>\n",
       "    </tr>\n",
       "    <tr>\n",
       "      <th>DASH</th>\n",
       "      <td>X11</td>\n",
       "      <td>PoW/PoS</td>\n",
       "      <td>0.000009</td>\n",
       "      <td>2.200000e-05</td>\n",
       "      <td>-0.409285</td>\n",
       "      <td>1.203804</td>\n",
       "      <td>-0.310373</td>\n",
       "      <td>0</td>\n",
       "      <td>Dash</td>\n",
       "    </tr>\n",
       "    <tr>\n",
       "      <th>XMR</th>\n",
       "      <td>CryptoNight-V7</td>\n",
       "      <td>PoW</td>\n",
       "      <td>0.000017</td>\n",
       "      <td>0.000000e+00</td>\n",
       "      <td>-0.144910</td>\n",
       "      <td>-2.252604</td>\n",
       "      <td>0.406587</td>\n",
       "      <td>1</td>\n",
       "      <td>Monero</td>\n",
       "    </tr>\n",
       "    <tr>\n",
       "      <th>ETC</th>\n",
       "      <td>Ethash</td>\n",
       "      <td>PoW</td>\n",
       "      <td>0.000115</td>\n",
       "      <td>2.100000e-04</td>\n",
       "      <td>-0.146717</td>\n",
       "      <td>-2.040269</td>\n",
       "      <td>0.265100</td>\n",
       "      <td>1</td>\n",
       "      <td>Ethereum Classic</td>\n",
       "    </tr>\n",
       "    <tr>\n",
       "      <th>ZEC</th>\n",
       "      <td>Equihash</td>\n",
       "      <td>PoW</td>\n",
       "      <td>0.000007</td>\n",
       "      <td>2.100000e-05</td>\n",
       "      <td>-0.170128</td>\n",
       "      <td>-1.979673</td>\n",
       "      <td>0.456434</td>\n",
       "      <td>1</td>\n",
       "      <td>ZCash</td>\n",
       "    </tr>\n",
       "  </tbody>\n",
       "</table>\n",
       "</div>"
      ],
      "text/plain": [
       "           Algorithm ProofType  TotalCoinsMined  TotalCoinSupply       PC1  \\\n",
       "42            Scrypt   PoW/PoS         0.000000     4.200000e-11 -0.338146   \n",
       "404           Scrypt   PoW/PoS         0.001066     5.320000e-04 -0.321499   \n",
       "1337             X13   PoW/PoS         0.029576     3.141593e-01  2.292047   \n",
       "BTC          SHA-256       PoW         0.000018     2.100000e-05 -0.152803   \n",
       "ETH           Ethash       PoW         0.000109     0.000000e+00 -0.148274   \n",
       "LTC           Scrypt       PoW         0.000064     8.400000e-05 -0.160199   \n",
       "DASH             X11   PoW/PoS         0.000009     2.200000e-05 -0.409285   \n",
       "XMR   CryptoNight-V7       PoW         0.000017     0.000000e+00 -0.144910   \n",
       "ETC           Ethash       PoW         0.000115     2.100000e-04 -0.146717   \n",
       "ZEC         Equihash       PoW         0.000007     2.100000e-05 -0.170128   \n",
       "\n",
       "           PC2       PC3  class          CoinName  \n",
       "42    1.071857 -0.426432      0           42 Coin  \n",
       "404   1.071983 -0.426509      0           404Coin  \n",
       "1337  1.658951 -0.392447      0         EliteCoin  \n",
       "BTC  -1.310102  0.178866      1           Bitcoin  \n",
       "ETH  -2.040160  0.265101      1          Ethereum  \n",
       "LTC  -1.098246 -0.045338      1          Litecoin  \n",
       "DASH  1.203804 -0.310373      0              Dash  \n",
       "XMR  -2.252604  0.406587      1            Monero  \n",
       "ETC  -2.040269  0.265100      1  Ethereum Classic  \n",
       "ZEC  -1.979673  0.456434      1             ZCash  "
      ]
     },
     "metadata": {},
     "execution_count": 74
    }
   ],
   "metadata": {}
  },
  {
   "cell_type": "code",
   "execution_count": 80,
   "source": [
    "# Create a hvplot.scatter plot using x=\"TotalCoinsMined\" and y=\"TotalCoinSupply\".\n",
    "plot_df.hvplot.scatter(x=\"TotalCoinsMined\", y=[\"TotalCoinSupply\"], by=\"class\", value_label=\"CoinName\")\n"
   ],
   "outputs": [
    {
     "output_type": "display_data",
     "data": {},
     "metadata": {}
    },
    {
     "output_type": "execute_result",
     "data": {
      "text/html": [
       "<div id='2994'>\n",
       "\n",
       "\n",
       "\n",
       "\n",
       "\n",
       "  <div class=\"bk-root\" id=\"58ffbd02-37b5-4182-b858-a8b91b11411a\" data-root-id=\"2994\"></div>\n",
       "</div>\n",
       "<script type=\"application/javascript\">(function(root) {\n",
       "  function embed_document(root) {\n",
       "    var docs_json = {\"b15bf393-4b41-413f-8842-6df29578526e\":{\"defs\":[{\"extends\":null,\"module\":null,\"name\":\"ReactiveHTML1\",\"overrides\":[],\"properties\":[]},{\"extends\":null,\"module\":null,\"name\":\"FlexBox1\",\"overrides\":[],\"properties\":[{\"default\":\"flex-start\",\"kind\":null,\"name\":\"align_content\"},{\"default\":\"flex-start\",\"kind\":null,\"name\":\"align_items\"},{\"default\":\"row\",\"kind\":null,\"name\":\"flex_direction\"},{\"default\":\"wrap\",\"kind\":null,\"name\":\"flex_wrap\"},{\"default\":\"flex-start\",\"kind\":null,\"name\":\"justify_content\"}]},{\"extends\":null,\"module\":null,\"name\":\"TemplateActions1\",\"overrides\":[],\"properties\":[{\"default\":0,\"kind\":null,\"name\":\"open_modal\"},{\"default\":0,\"kind\":null,\"name\":\"close_modal\"}]},{\"extends\":null,\"module\":null,\"name\":\"MaterialTemplateActions1\",\"overrides\":[],\"properties\":[{\"default\":0,\"kind\":null,\"name\":\"open_modal\"},{\"default\":0,\"kind\":null,\"name\":\"close_modal\"}]}],\"roots\":{\"references\":[{\"attributes\":{},\"id\":\"3021\",\"type\":\"WheelZoomTool\"},{\"attributes\":{},\"id\":\"3101\",\"type\":\"UnionRenderers\"},{\"attributes\":{},\"id\":\"3082\",\"type\":\"Selection\"},{\"attributes\":{\"overlay\":{\"id\":\"3024\"}},\"id\":\"3022\",\"type\":\"BoxZoomTool\"},{\"attributes\":{\"children\":[{\"id\":\"2995\"},{\"id\":\"3002\"},{\"id\":\"3275\"}],\"margin\":[0,0,0,0],\"name\":\"Row05641\",\"tags\":[\"embedded\"]},\"id\":\"2994\",\"type\":\"Row\"},{\"attributes\":{\"source\":{\"id\":\"3081\"}},\"id\":\"3088\",\"type\":\"CDSView\"},{\"attributes\":{\"data_source\":{\"id\":\"3038\"},\"glyph\":{\"id\":\"3041\"},\"hover_glyph\":null,\"muted_glyph\":{\"id\":\"3043\"},\"nonselection_glyph\":{\"id\":\"3042\"},\"selection_glyph\":{\"id\":\"3058\"},\"view\":{\"id\":\"3045\"}},\"id\":\"3044\",\"type\":\"GlyphRenderer\"},{\"attributes\":{\"data_source\":{\"id\":\"3081\"},\"glyph\":{\"id\":\"3084\"},\"hover_glyph\":null,\"muted_glyph\":{\"id\":\"3086\"},\"nonselection_glyph\":{\"id\":\"3085\"},\"selection_glyph\":{\"id\":\"3104\"},\"view\":{\"id\":\"3088\"}},\"id\":\"3087\",\"type\":\"GlyphRenderer\"},{\"attributes\":{\"fill_color\":{\"value\":\"#30a2da\"},\"line_color\":{\"value\":\"#30a2da\"},\"size\":{\"value\":5.477225575051661},\"x\":{\"field\":\"TotalCoinsMined\"},\"y\":{\"field\":\"TotalCoinSupply\"}},\"id\":\"3041\",\"type\":\"Scatter\"},{\"attributes\":{\"end\":1.1,\"reset_end\":1.1,\"reset_start\":-0.1,\"start\":-0.1,\"tags\":[[[\"TotalCoinSupply\",\"TotalCoinSupply\",null]]]},\"id\":\"2997\",\"type\":\"Range1d\"},{\"attributes\":{\"margin\":[5,5,5,5],\"name\":\"HSpacer05645\",\"sizing_mode\":\"stretch_width\"},\"id\":\"2995\",\"type\":\"Spacer\"},{\"attributes\":{\"label\":{\"value\":\"2\"},\"renderers\":[{\"id\":\"3087\"}]},\"id\":\"3103\",\"type\":\"LegendItem\"},{\"attributes\":{},\"id\":\"3023\",\"type\":\"ResetTool\"},{\"attributes\":{\"label\":{\"value\":\"0\"},\"renderers\":[{\"id\":\"3044\"}]},\"id\":\"3057\",\"type\":\"LegendItem\"},{\"attributes\":{\"data\":{\"TotalCoinSupply\":{\"__ndarray__\":\"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\",\"dtype\":\"float64\",\"order\":\"little\",\"shape\":[289]},\"TotalCoinsMined\":{\"__ndarray__\":\"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\",\"dtype\":\"float64\",\"order\":\"little\",\"shape\":[289]},\"class\":[0,0,0,0,0,0,0,0,0,0,0,0,0,0,0,0,0,0,0,0,0,0,0,0,0,0,0,0,0,0,0,0,0,0,0,0,0,0,0,0,0,0,0,0,0,0,0,0,0,0,0,0,0,0,0,0,0,0,0,0,0,0,0,0,0,0,0,0,0,0,0,0,0,0,0,0,0,0,0,0,0,0,0,0,0,0,0,0,0,0,0,0,0,0,0,0,0,0,0,0,0,0,0,0,0,0,0,0,0,0,0,0,0,0,0,0,0,0,0,0,0,0,0,0,0,0,0,0,0,0,0,0,0,0,0,0,0,0,0,0,0,0,0,0,0,0,0,0,0,0,0,0,0,0,0,0,0,0,0,0,0,0,0,0,0,0,0,0,0,0,0,0,0,0,0,0,0,0,0,0,0,0,0,0,0,0,0,0,0,0,0,0,0,0,0,0,0,0,0,0,0,0,0,0,0,0,0,0,0,0,0,0,0,0,0,0,0,0,0,0,0,0,0,0,0,0,0,0,0,0,0,0,0,0,0,0,0,0,0,0,0,0,0,0,0,0,0,0,0,0,0,0,0,0,0,0,0,0,0,0,0,0,0,0,0,0,0,0,0,0,0,0,0,0,0,0,0,0,0,0,0,0,0,0,0,0,0,0,0]},\"selected\":{\"id\":\"3039\"},\"selection_policy\":{\"id\":\"3054\"}},\"id\":\"3038\",\"type\":\"ColumnDataSource\"},{\"attributes\":{\"angle\":{\"value\":0.0},\"fill_alpha\":{\"value\":1.0},\"fill_color\":{\"value\":\"#fc4f30\"},\"hatch_alpha\":{\"value\":1.0},\"hatch_color\":{\"value\":\"black\"},\"hatch_scale\":{\"value\":12.0},\"hatch_weight\":{\"value\":1.0},\"line_alpha\":{\"value\":1.0},\"line_cap\":{\"value\":\"butt\"},\"line_color\":{\"value\":\"#fc4f30\"},\"line_dash\":{\"value\":[]},\"line_dash_offset\":{\"value\":0},\"line_join\":{\"value\":\"bevel\"},\"line_width\":{\"value\":1},\"marker\":{\"value\":\"circle\"},\"size\":{\"value\":5.477225575051661},\"x\":{\"field\":\"TotalCoinsMined\"},\"y\":{\"field\":\"TotalCoinSupply\"}},\"id\":\"3080\",\"type\":\"Scatter\"},{\"attributes\":{\"fill_color\":{\"value\":\"#6d904f\"},\"line_color\":{\"value\":\"#6d904f\"},\"size\":{\"value\":5.477225575051661},\"x\":{\"field\":\"TotalCoinsMined\"},\"y\":{\"field\":\"TotalCoinSupply\"}},\"id\":\"3108\",\"type\":\"Scatter\"},{\"attributes\":{\"angle\":{\"value\":0.0},\"fill_alpha\":{\"value\":1.0},\"fill_color\":{\"value\":\"#e5ae38\"},\"hatch_alpha\":{\"value\":1.0},\"hatch_color\":{\"value\":\"black\"},\"hatch_scale\":{\"value\":12.0},\"hatch_weight\":{\"value\":1.0},\"line_alpha\":{\"value\":1.0},\"line_cap\":{\"value\":\"butt\"},\"line_color\":{\"value\":\"#e5ae38\"},\"line_dash\":{\"value\":[]},\"line_dash_offset\":{\"value\":0},\"line_join\":{\"value\":\"bevel\"},\"line_width\":{\"value\":1},\"marker\":{\"value\":\"circle\"},\"size\":{\"value\":5.477225575051661},\"x\":{\"field\":\"TotalCoinsMined\"},\"y\":{\"field\":\"TotalCoinSupply\"}},\"id\":\"3104\",\"type\":\"Scatter\"},{\"attributes\":{},\"id\":\"3054\",\"type\":\"UnionRenderers\"},{\"attributes\":{\"source\":{\"id\":\"3059\"}},\"id\":\"3066\",\"type\":\"CDSView\"},{\"attributes\":{\"fill_alpha\":{\"value\":0.1},\"fill_color\":{\"value\":\"#6d904f\"},\"line_alpha\":{\"value\":0.1},\"line_color\":{\"value\":\"#6d904f\"},\"size\":{\"value\":5.477225575051661},\"x\":{\"field\":\"TotalCoinsMined\"},\"y\":{\"field\":\"TotalCoinSupply\"}},\"id\":\"3109\",\"type\":\"Scatter\"},{\"attributes\":{},\"id\":\"3032\",\"type\":\"AllLabels\"},{\"attributes\":{},\"id\":\"3039\",\"type\":\"Selection\"},{\"attributes\":{\"fill_alpha\":{\"value\":0.1},\"fill_color\":{\"value\":\"#fc4f30\"},\"line_alpha\":{\"value\":0.1},\"line_color\":{\"value\":\"#fc4f30\"},\"size\":{\"value\":5.477225575051661},\"x\":{\"field\":\"TotalCoinsMined\"},\"y\":{\"field\":\"TotalCoinSupply\"}},\"id\":\"3063\",\"type\":\"Scatter\"},{\"attributes\":{\"margin\":[5,5,5,5],\"name\":\"HSpacer05646\",\"sizing_mode\":\"stretch_width\"},\"id\":\"3275\",\"type\":\"Spacer\"},{\"attributes\":{},\"id\":\"3106\",\"type\":\"Selection\"},{\"attributes\":{\"fill_alpha\":{\"value\":0.1},\"fill_color\":{\"value\":\"#30a2da\"},\"line_alpha\":{\"value\":0.1},\"line_color\":{\"value\":\"#30a2da\"},\"size\":{\"value\":5.477225575051661},\"x\":{\"field\":\"TotalCoinsMined\"},\"y\":{\"field\":\"TotalCoinSupply\"}},\"id\":\"3042\",\"type\":\"Scatter\"},{\"attributes\":{},\"id\":\"3060\",\"type\":\"Selection\"},{\"attributes\":{},\"id\":\"3007\",\"type\":\"LinearScale\"},{\"attributes\":{},\"id\":\"3077\",\"type\":\"UnionRenderers\"},{\"attributes\":{\"end\":1.042857142857143,\"reset_end\":1.042857142857143,\"reset_start\":-0.04285714285714286,\"start\":-0.04285714285714286,\"tags\":[[[\"TotalCoinsMined\",\"TotalCoinsMined\",null]]]},\"id\":\"2996\",\"type\":\"Range1d\"},{\"attributes\":{\"data_source\":{\"id\":\"3105\"},\"glyph\":{\"id\":\"3108\"},\"hover_glyph\":null,\"muted_glyph\":{\"id\":\"3110\"},\"nonselection_glyph\":{\"id\":\"3109\"},\"selection_glyph\":{\"id\":\"3130\"},\"view\":{\"id\":\"3112\"}},\"id\":\"3111\",\"type\":\"GlyphRenderer\"},{\"attributes\":{\"fill_alpha\":{\"value\":0.2},\"fill_color\":{\"value\":\"#30a2da\"},\"line_alpha\":{\"value\":0.2},\"line_color\":{\"value\":\"#30a2da\"},\"size\":{\"value\":5.477225575051661},\"x\":{\"field\":\"TotalCoinsMined\"},\"y\":{\"field\":\"TotalCoinSupply\"}},\"id\":\"3043\",\"type\":\"Scatter\"},{\"attributes\":{\"angle\":{\"value\":0.0},\"fill_alpha\":{\"value\":1.0},\"fill_color\":{\"value\":\"#30a2da\"},\"hatch_alpha\":{\"value\":1.0},\"hatch_color\":{\"value\":\"black\"},\"hatch_scale\":{\"value\":12.0},\"hatch_weight\":{\"value\":1.0},\"line_alpha\":{\"value\":1.0},\"line_cap\":{\"value\":\"butt\"},\"line_color\":{\"value\":\"#30a2da\"},\"line_dash\":{\"value\":[]},\"line_dash_offset\":{\"value\":0},\"line_join\":{\"value\":\"bevel\"},\"line_width\":{\"value\":1},\"marker\":{\"value\":\"circle\"},\"size\":{\"value\":5.477225575051661},\"x\":{\"field\":\"TotalCoinsMined\"},\"y\":{\"field\":\"TotalCoinSupply\"}},\"id\":\"3058\",\"type\":\"Scatter\"},{\"attributes\":{\"callback\":null,\"renderers\":[{\"id\":\"3044\"},{\"id\":\"3065\"},{\"id\":\"3087\"},{\"id\":\"3111\"}],\"tags\":[\"hv_created\"],\"tooltips\":[[\"class\",\"@{class}\"],[\"TotalCoinsMined\",\"@{TotalCoinsMined}\"],[\"TotalCoinSupply\",\"@{TotalCoinSupply}\"]]},\"id\":\"2998\",\"type\":\"HoverTool\"},{\"attributes\":{\"bottom_units\":\"screen\",\"fill_alpha\":0.5,\"fill_color\":\"lightgrey\",\"left_units\":\"screen\",\"level\":\"overlay\",\"line_alpha\":1.0,\"line_color\":\"black\",\"line_dash\":[4,4],\"line_width\":2,\"right_units\":\"screen\",\"syncable\":false,\"top_units\":\"screen\"},\"id\":\"3024\",\"type\":\"BoxAnnotation\"},{\"attributes\":{\"label\":{\"value\":\"3\"},\"renderers\":[{\"id\":\"3111\"}]},\"id\":\"3129\",\"type\":\"LegendItem\"},{\"attributes\":{\"data\":{\"TotalCoinSupply\":{\"__ndarray__\":\"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\",\"dtype\":\"float64\",\"order\":\"little\",\"shape\":[238]},\"TotalCoinsMined\":{\"__ndarray__\":\"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\",\"dtype\":\"float64\",\"order\":\"little\",\"shape\":[238]},\"class\":[1,1,1,1,1,1,1,1,1,1,1,1,1,1,1,1,1,1,1,1,1,1,1,1,1,1,1,1,1,1,1,1,1,1,1,1,1,1,1,1,1,1,1,1,1,1,1,1,1,1,1,1,1,1,1,1,1,1,1,1,1,1,1,1,1,1,1,1,1,1,1,1,1,1,1,1,1,1,1,1,1,1,1,1,1,1,1,1,1,1,1,1,1,1,1,1,1,1,1,1,1,1,1,1,1,1,1,1,1,1,1,1,1,1,1,1,1,1,1,1,1,1,1,1,1,1,1,1,1,1,1,1,1,1,1,1,1,1,1,1,1,1,1,1,1,1,1,1,1,1,1,1,1,1,1,1,1,1,1,1,1,1,1,1,1,1,1,1,1,1,1,1,1,1,1,1,1,1,1,1,1,1,1,1,1,1,1,1,1,1,1,1,1,1,1,1,1,1,1,1,1,1,1,1,1,1,1,1,1,1,1,1,1,1,1,1,1,1,1,1,1,1,1,1,1,1,1,1,1,1,1,1,1,1,1,1,1,1]},\"selected\":{\"id\":\"3060\"},\"selection_policy\":{\"id\":\"3077\"}},\"id\":\"3059\",\"type\":\"ColumnDataSource\"},{\"attributes\":{\"active_multi\":null,\"tools\":[{\"id\":\"2998\"},{\"id\":\"3019\"},{\"id\":\"3020\"},{\"id\":\"3021\"},{\"id\":\"3022\"},{\"id\":\"3023\"}]},\"id\":\"3025\",\"type\":\"Toolbar\"},{\"attributes\":{\"source\":{\"id\":\"3105\"}},\"id\":\"3112\",\"type\":\"CDSView\"},{\"attributes\":{\"fill_alpha\":{\"value\":0.2},\"fill_color\":{\"value\":\"#6d904f\"},\"line_alpha\":{\"value\":0.2},\"line_color\":{\"value\":\"#6d904f\"},\"size\":{\"value\":5.477225575051661},\"x\":{\"field\":\"TotalCoinsMined\"},\"y\":{\"field\":\"TotalCoinSupply\"}},\"id\":\"3110\",\"type\":\"Scatter\"},{\"attributes\":{\"click_policy\":\"mute\",\"items\":[{\"id\":\"3057\"},{\"id\":\"3079\"},{\"id\":\"3103\"},{\"id\":\"3129\"}],\"location\":[0,0],\"title\":\"class\"},\"id\":\"3056\",\"type\":\"Legend\"},{\"attributes\":{},\"id\":\"3127\",\"type\":\"UnionRenderers\"},{\"attributes\":{\"source\":{\"id\":\"3038\"}},\"id\":\"3045\",\"type\":\"CDSView\"},{\"attributes\":{},\"id\":\"3033\",\"type\":\"BasicTickFormatter\"},{\"attributes\":{},\"id\":\"3012\",\"type\":\"BasicTicker\"},{\"attributes\":{\"below\":[{\"id\":\"3011\"}],\"center\":[{\"id\":\"3014\"},{\"id\":\"3018\"}],\"height\":300,\"left\":[{\"id\":\"3015\"}],\"margin\":[5,5,5,5],\"min_border_bottom\":10,\"min_border_left\":10,\"min_border_right\":10,\"min_border_top\":10,\"renderers\":[{\"id\":\"3044\"},{\"id\":\"3065\"},{\"id\":\"3087\"},{\"id\":\"3111\"}],\"right\":[{\"id\":\"3056\"}],\"sizing_mode\":\"fixed\",\"title\":{\"id\":\"3003\"},\"toolbar\":{\"id\":\"3025\"},\"width\":700,\"x_range\":{\"id\":\"2996\"},\"x_scale\":{\"id\":\"3007\"},\"y_range\":{\"id\":\"2997\"},\"y_scale\":{\"id\":\"3009\"}},\"id\":\"3002\",\"subtype\":\"Figure\",\"type\":\"Plot\"},{\"attributes\":{\"data_source\":{\"id\":\"3059\"},\"glyph\":{\"id\":\"3062\"},\"hover_glyph\":null,\"muted_glyph\":{\"id\":\"3064\"},\"nonselection_glyph\":{\"id\":\"3063\"},\"selection_glyph\":{\"id\":\"3080\"},\"view\":{\"id\":\"3066\"}},\"id\":\"3065\",\"type\":\"GlyphRenderer\"},{\"attributes\":{\"fill_alpha\":{\"value\":0.2},\"fill_color\":{\"value\":\"#fc4f30\"},\"line_alpha\":{\"value\":0.2},\"line_color\":{\"value\":\"#fc4f30\"},\"size\":{\"value\":5.477225575051661},\"x\":{\"field\":\"TotalCoinsMined\"},\"y\":{\"field\":\"TotalCoinSupply\"}},\"id\":\"3064\",\"type\":\"Scatter\"},{\"attributes\":{\"axis\":{\"id\":\"3015\"},\"dimension\":1,\"grid_line_color\":null,\"ticker\":null},\"id\":\"3018\",\"type\":\"Grid\"},{\"attributes\":{\"text_color\":\"black\",\"text_font_size\":\"12pt\"},\"id\":\"3003\",\"type\":\"Title\"},{\"attributes\":{\"label\":{\"value\":\"1\"},\"renderers\":[{\"id\":\"3065\"}]},\"id\":\"3079\",\"type\":\"LegendItem\"},{\"attributes\":{\"axis_label\":\"TotalCoinsMined\",\"formatter\":{\"id\":\"3033\"},\"major_label_policy\":{\"id\":\"3032\"},\"ticker\":{\"id\":\"3012\"}},\"id\":\"3011\",\"type\":\"LinearAxis\"},{\"attributes\":{},\"id\":\"3009\",\"type\":\"LinearScale\"},{\"attributes\":{\"axis\":{\"id\":\"3011\"},\"grid_line_color\":null,\"ticker\":null},\"id\":\"3014\",\"type\":\"Grid\"},{\"attributes\":{\"fill_alpha\":{\"value\":0.1},\"fill_color\":{\"value\":\"#e5ae38\"},\"line_alpha\":{\"value\":0.1},\"line_color\":{\"value\":\"#e5ae38\"},\"size\":{\"value\":5.477225575051661},\"x\":{\"field\":\"TotalCoinsMined\"},\"y\":{\"field\":\"TotalCoinSupply\"}},\"id\":\"3085\",\"type\":\"Scatter\"},{\"attributes\":{},\"id\":\"3016\",\"type\":\"BasicTicker\"},{\"attributes\":{\"axis_label\":\"TotalCoinSupply\",\"formatter\":{\"id\":\"3036\"},\"major_label_policy\":{\"id\":\"3035\"},\"ticker\":{\"id\":\"3016\"}},\"id\":\"3015\",\"type\":\"LinearAxis\"},{\"attributes\":{},\"id\":\"3035\",\"type\":\"AllLabels\"},{\"attributes\":{\"data\":{\"TotalCoinSupply\":{\"__ndarray__\":\"rkfhehSu7z8=\",\"dtype\":\"float64\",\"order\":\"little\",\"shape\":[1]},\"TotalCoinsMined\":{\"__ndarray__\":\"AAAAAAAA8D8=\",\"dtype\":\"float64\",\"order\":\"little\",\"shape\":[1]},\"class\":[2]},\"selected\":{\"id\":\"3082\"},\"selection_policy\":{\"id\":\"3101\"}},\"id\":\"3081\",\"type\":\"ColumnDataSource\"},{\"attributes\":{\"fill_color\":{\"value\":\"#fc4f30\"},\"line_color\":{\"value\":\"#fc4f30\"},\"size\":{\"value\":5.477225575051661},\"x\":{\"field\":\"TotalCoinsMined\"},\"y\":{\"field\":\"TotalCoinSupply\"}},\"id\":\"3062\",\"type\":\"Scatter\"},{\"attributes\":{\"angle\":{\"value\":0.0},\"fill_alpha\":{\"value\":1.0},\"fill_color\":{\"value\":\"#6d904f\"},\"hatch_alpha\":{\"value\":1.0},\"hatch_color\":{\"value\":\"black\"},\"hatch_scale\":{\"value\":12.0},\"hatch_weight\":{\"value\":1.0},\"line_alpha\":{\"value\":1.0},\"line_cap\":{\"value\":\"butt\"},\"line_color\":{\"value\":\"#6d904f\"},\"line_dash\":{\"value\":[]},\"line_dash_offset\":{\"value\":0},\"line_join\":{\"value\":\"bevel\"},\"line_width\":{\"value\":1},\"marker\":{\"value\":\"circle\"},\"size\":{\"value\":5.477225575051661},\"x\":{\"field\":\"TotalCoinsMined\"},\"y\":{\"field\":\"TotalCoinSupply\"}},\"id\":\"3130\",\"type\":\"Scatter\"},{\"attributes\":{},\"id\":\"3036\",\"type\":\"BasicTickFormatter\"},{\"attributes\":{\"fill_alpha\":{\"value\":0.2},\"fill_color\":{\"value\":\"#e5ae38\"},\"line_alpha\":{\"value\":0.2},\"line_color\":{\"value\":\"#e5ae38\"},\"size\":{\"value\":5.477225575051661},\"x\":{\"field\":\"TotalCoinsMined\"},\"y\":{\"field\":\"TotalCoinSupply\"}},\"id\":\"3086\",\"type\":\"Scatter\"},{\"attributes\":{\"fill_color\":{\"value\":\"#e5ae38\"},\"line_color\":{\"value\":\"#e5ae38\"},\"size\":{\"value\":5.477225575051661},\"x\":{\"field\":\"TotalCoinsMined\"},\"y\":{\"field\":\"TotalCoinSupply\"}},\"id\":\"3084\",\"type\":\"Scatter\"},{\"attributes\":{\"data\":{\"TotalCoinSupply\":{\"__ndarray__\":\"lPYGX5hMdT+8eapDboZLP/yp8dJNYlA/LEMc6+I2Gj8=\",\"dtype\":\"float64\",\"order\":\"little\",\"shape\":[4]},\"TotalCoinsMined\":{\"__ndarray__\":\"j1gNkdpTXT+QpMXySiFFP3pDQwW4jFA/+0V+YL96Gj8=\",\"dtype\":\"float64\",\"order\":\"little\",\"shape\":[4]},\"class\":[3,3,3,3]},\"selected\":{\"id\":\"3106\"},\"selection_policy\":{\"id\":\"3127\"}},\"id\":\"3105\",\"type\":\"ColumnDataSource\"},{\"attributes\":{},\"id\":\"3019\",\"type\":\"SaveTool\"},{\"attributes\":{},\"id\":\"3020\",\"type\":\"PanTool\"}],\"root_ids\":[\"2994\"]},\"title\":\"Bokeh Application\",\"version\":\"2.3.2\"}};\n",
       "    var render_items = [{\"docid\":\"b15bf393-4b41-413f-8842-6df29578526e\",\"root_ids\":[\"2994\"],\"roots\":{\"2994\":\"58ffbd02-37b5-4182-b858-a8b91b11411a\"}}];\n",
       "    root.Bokeh.embed.embed_items_notebook(docs_json, render_items);\n",
       "  }\n",
       "  if (root.Bokeh !== undefined && root.Bokeh.Panel !== undefined) {\n",
       "    embed_document(root);\n",
       "  } else {\n",
       "    var attempts = 0;\n",
       "    var timer = setInterval(function(root) {\n",
       "      if (root.Bokeh !== undefined && root.Bokeh.Panel !== undefined) {\n",
       "        clearInterval(timer);\n",
       "        embed_document(root);\n",
       "      } else if (document.readyState == \"complete\") {\n",
       "        attempts++;\n",
       "        if (attempts > 200) {\n",
       "          clearInterval(timer);\n",
       "          console.log(\"Bokeh: ERROR: Unable to run BokehJS code because BokehJS library is missing\");\n",
       "        }\n",
       "      }\n",
       "    }, 25, root)\n",
       "  }\n",
       "})(window);</script>"
      ],
      "text/plain": [
       ":NdOverlay   [class]\n",
       "   :Scatter   [TotalCoinsMined]   (TotalCoinSupply)"
      ],
      "application/vnd.holoviews_exec.v0+json": ""
     },
     "metadata": {
      "application/vnd.holoviews_exec.v0+json": {
       "id": "2994"
      }
     },
     "execution_count": 80
    }
   ],
   "metadata": {}
  },
  {
   "cell_type": "code",
   "execution_count": null,
   "source": [],
   "outputs": [],
   "metadata": {}
  }
 ],
 "metadata": {
  "file_extension": ".py",
  "kernelspec": {
   "name": "python3",
   "display_name": "Python 3.7.10 64-bit ('mlenv': conda)"
  },
  "language_info": {
   "codemirror_mode": {
    "name": "ipython",
    "version": 3
   },
   "file_extension": ".py",
   "mimetype": "text/x-python",
   "name": "python",
   "nbconvert_exporter": "python",
   "pygments_lexer": "ipython3",
   "version": "3.7.10"
  },
  "latex_envs": {
   "LaTeX_envs_menu_present": true,
   "autoclose": false,
   "autocomplete": true,
   "bibliofile": "biblio.bib",
   "cite_by": "apalike",
   "current_citInitial": 1,
   "eqLabelWithNumbers": true,
   "eqNumInitial": 1,
   "hotkeys": {
    "equation": "Ctrl-E",
    "itemize": "Ctrl-I"
   },
   "labels_anchors": false,
   "latex_user_defs": false,
   "report_style_numbering": false,
   "user_envs_cfg": false
  },
  "mimetype": "text/x-python",
  "name": "python",
  "npconvert_exporter": "python",
  "pygments_lexer": "ipython3",
  "version": 3,
  "interpreter": {
   "hash": "f525aa2f24fc6ebbbe28c08d41a3bd102824acc3c13f5c1dfdbb8999d222964a"
  }
 },
 "nbformat": 4,
 "nbformat_minor": 2
}